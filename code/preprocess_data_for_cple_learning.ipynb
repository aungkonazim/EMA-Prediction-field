{
 "cells": [
  {
   "cell_type": "code",
   "execution_count": 1,
   "metadata": {},
   "outputs": [],
   "source": [
    "import pickle\n",
    "import pandas as pd\n",
    "import numpy as np\n",
    "from sklearn.feature_selection import SelectKBest,f_classif\n",
    "from sklearn.decomposition import PCA\n",
    "from pprint import pprint\n",
    "from sklearn.metrics import f1_score,r2_score,classification_report,roc_auc_score\n",
    "from sklearn.model_selection import ParameterGrid\n",
    "from sklearn.ensemble import RandomForestClassifier,AdaBoostClassifier,RandomForestRegressor\n",
    "from sklearn.svm import SVC\n",
    "from sklearn.pipeline import Pipeline\n",
    "from sklearn.decomposition import PCA\n",
    "from sklearn.metrics import confusion_matrix,f1_score,precision_score,recall_score,accuracy_score\n",
    "import itertools\n",
    "from sklearn.model_selection import ParameterGrid, cross_val_predict, GroupKFold,GridSearchCV,StratifiedKFold\n",
    "from sklearn import preprocessing\n",
    "from sklearn.tree import DecisionTreeClassifier\n",
    "from sklearn.linear_model import LogisticRegression\n",
    "import matplotlib.pyplot as plt\n",
    "%matplotlib inline\n",
    "from datetime import datetime\n",
    "from joblib import Parallel,delayed\n",
    "\n",
    "def svar(X):\n",
    "    n = float(len(X))\n",
    "    svar=(sum([(x-np.mean(X))**2 for x in X]) / n)* n/(n-1.)\n",
    "    return svar\n",
    "\n",
    "def CronbachAlpha(itemscores):\n",
    "    itemvars = [svar(item) for item in itemscores]\n",
    "    tscores = [0] * len(itemscores[0])\n",
    "    for item in itemscores:\n",
    "        for i in range(len(item)):\n",
    "            tscores[i]+= item[i]\n",
    "    nitems = len(itemscores)\n",
    "    Calpha=nitems/(nitems-1.) * (1-sum(itemvars)/ svar(tscores))\n",
    "    return Calpha\n",
    "\n",
    "from scipy.stats import iqr,skew,kurtosis,pearsonr\n",
    "from scipy.stats import variation,moment\n",
    "\n",
    "def get_features1(x):\n",
    "    temp = []\n",
    "    temp.append(x[-1])\n",
    "    temp.append(x[0])\n",
    "    temp.append(x[len(x)//2])\n",
    "    temp.append(iqr(x))\n",
    "    temp.append(skew(x))\n",
    "    temp.append(kurtosis(x))\n",
    "    temp.append(variation(x))\n",
    "    temp.append(iqr(x[:len(x)//2]))\n",
    "    temp.append(skew(x[:len(x)//2]))\n",
    "    temp.append(kurtosis(x[:len(x)//2]))\n",
    "    temp.append(variation(x[:len(x)//2]))\n",
    "    temp.append(iqr(x[len(x)//2:]))\n",
    "    temp.append(skew(x[len(x)//2:]))\n",
    "    temp.append(kurtosis(x[len(x)//2:]))\n",
    "    temp.append(variation(x[len(x)//2:]))\n",
    "    return np.array(temp)\n",
    "\n",
    "# def get_features()\n",
    "\n",
    "def get_features(temp,user):\n",
    "    if temp.shape[0]<10:\n",
    "        return -1,-1,-1,-1,-1\n",
    "    if temp['time'].values[-1]-temp['time'].values[0]>1000:\n",
    "        return -1,-1,-1,-1,-1\n",
    "#     if np.isnan(temp['score'].values[-1]):\n",
    "#         return -1,-1,-1,-1,-1\n",
    "    a = temp['stress_likelihood'].values\n",
    "    b = temp['all_scores'].values[-1]\n",
    "    c = user\n",
    "    hour = datetime.fromtimestamp(temp['time'].values[0]).hour\n",
    "    if hour<8:\n",
    "        d = 0\n",
    "    elif hour>8 and hour < 16:\n",
    "        d = 1\n",
    "    else:\n",
    "        d = 2\n",
    "    e = user+temp['day'].values[-1]\n",
    "    return a,b,c,d,e\n",
    "\n",
    "def get_user_data(user_data,user):\n",
    "    X_date = []\n",
    "    X = []\n",
    "    y = []\n",
    "    groups = []\n",
    "    days = []\n",
    "    if len(np.unique(user_data.dropna()['day'].values))<4:\n",
    "        return [],[],[],[],[]\n",
    "    user_data = user_data.sort_values('localtime').reset_index(drop=True)\n",
    "    count = 0\n",
    "    columns=['window', 'localtime', 'day', 'stress_likelihood', 'imputed',\n",
    "       'likelihood_mean', 'all_scores', 'score', 'label', 'version', 'user',\n",
    "       'time']\n",
    "    count = 0\n",
    "    data = Parallel(n_jobs=20,verbose=1)(delayed(get_features)(user_data.loc[i:i+10],user) for i,row in user_data.iterrows())\n",
    "#                                         if not np.isnan(user_data.loc[i:i+10]['score'].values[-1]))\n",
    "    for a in data:\n",
    "        if not isinstance(a[2], str):\n",
    "            continue\n",
    "        X.append(a[0])\n",
    "        y.append(a[1])\n",
    "        groups.append(a[2])\n",
    "        X_date.append(a[3])\n",
    "        days.append(a[4])\n",
    "    return X,y,groups,X_date,days\n",
    "\n",
    "\n",
    "def get_data(all_stress):\n",
    "    X_date,X,y,groups,days = [],[],[],[],[]\n",
    "    final = [get_user_data(all_stress[all_stress.user.isin([user])],user) \n",
    "                                          for user in np.unique(all_stress['user'].values)]\n",
    "    for a in final:\n",
    "        X.extend(a[0])\n",
    "        y.extend(a[1])\n",
    "        groups.extend(a[2])\n",
    "        X_date.extend(a[3])\n",
    "        days.extend(a[4])\n",
    "    return X,y,groups,X_date,days"
   ]
  },
  {
   "cell_type": "code",
   "execution_count": 2,
   "metadata": {},
   "outputs": [],
   "source": [
    "import warnings\n",
    "import pickle\n",
    "warnings.filterwarnings('ignore')\n",
    "from sklearn.preprocessing import StandardScaler,OneHotEncoder\n",
    "all_stress_left = pickle.load(open('../data/stress_ema_md2k_aa_rice_left_ppg.p','rb'))\n",
    "# all_stress_left = all_stress_left[all_stress_left.imputed.isin([0])]\n",
    "all_stress_right = pickle.load(open('../data/stress_ema_md2k_aa_rice_right1_ppg.p','rb'))\n",
    "# all_stress_right = all_stress_right[all_stress_right.imputed.isin([0])]"
   ]
  },
  {
   "cell_type": "code",
   "execution_count": 7,
   "metadata": {
    "scrolled": true
   },
   "outputs": [
    {
     "name": "stderr",
     "output_type": "stream",
     "text": [
      "[Parallel(n_jobs=20)]: Using backend LokyBackend with 20 concurrent workers.\n",
      "[Parallel(n_jobs=20)]: Done  10 tasks      | elapsed:    1.1s\n",
      "[Parallel(n_jobs=20)]: Done 240 tasks      | elapsed:    2.1s\n",
      "[Parallel(n_jobs=20)]: Done 740 tasks      | elapsed:    3.8s\n",
      "[Parallel(n_jobs=20)]: Done 1440 tasks      | elapsed:    6.1s\n",
      "[Parallel(n_jobs=20)]: Done 2340 tasks      | elapsed:    9.1s\n",
      "[Parallel(n_jobs=20)]: Done 4520 tasks      | elapsed:   14.7s\n",
      "[Parallel(n_jobs=20)]: Done 7120 tasks      | elapsed:   20.9s\n",
      "[Parallel(n_jobs=20)]: Done 8178 out of 8178 | elapsed:   23.2s finished\n",
      "[Parallel(n_jobs=20)]: Using backend LokyBackend with 20 concurrent workers.\n",
      "[Parallel(n_jobs=20)]: Done  10 tasks      | elapsed:    0.2s\n",
      "[Parallel(n_jobs=20)]: Done 280 tasks      | elapsed:    1.3s\n",
      "[Parallel(n_jobs=20)]: Done 780 tasks      | elapsed:    3.0s\n",
      "[Parallel(n_jobs=20)]: Done 1480 tasks      | elapsed:    5.3s\n",
      "[Parallel(n_jobs=20)]: Done 3080 tasks      | elapsed:    9.8s\n",
      "[Parallel(n_jobs=20)]: Done 5280 tasks      | elapsed:   15.1s\n",
      "[Parallel(n_jobs=20)]: Done 7880 tasks      | elapsed:   21.5s\n",
      "[Parallel(n_jobs=20)]: Done 10880 tasks      | elapsed:   29.1s\n",
      "[Parallel(n_jobs=20)]: Done 13264 out of 13264 | elapsed:   34.7s finished\n",
      "[Parallel(n_jobs=20)]: Using backend LokyBackend with 20 concurrent workers.\n",
      "[Parallel(n_jobs=20)]: Done  11 tasks      | elapsed:    0.3s\n",
      "[Parallel(n_jobs=20)]: Done 282 tasks      | elapsed:    1.3s\n",
      "[Parallel(n_jobs=20)]: Done 782 tasks      | elapsed:    3.1s\n",
      "[Parallel(n_jobs=20)]: Done 2164 tasks      | elapsed:    6.4s\n",
      "[Parallel(n_jobs=20)]: Done 3964 tasks      | elapsed:   10.9s\n",
      "[Parallel(n_jobs=20)]: Done 6164 tasks      | elapsed:   16.2s\n",
      "[Parallel(n_jobs=20)]: Done 8764 tasks      | elapsed:   23.0s\n",
      "[Parallel(n_jobs=20)]: Done 10738 out of 10738 | elapsed:   27.4s finished\n",
      "[Parallel(n_jobs=20)]: Using backend LokyBackend with 20 concurrent workers.\n",
      "[Parallel(n_jobs=20)]: Done  10 tasks      | elapsed:    0.2s\n",
      "[Parallel(n_jobs=20)]: Done 280 tasks      | elapsed:    1.3s\n",
      "[Parallel(n_jobs=20)]: Done 780 tasks      | elapsed:    3.0s\n",
      "[Parallel(n_jobs=20)]: Done 1480 tasks      | elapsed:    5.4s\n",
      "[Parallel(n_jobs=20)]: Done 2380 tasks      | elapsed:    8.3s\n",
      "[Parallel(n_jobs=20)]: Done 3480 tasks      | elapsed:   12.0s\n",
      "[Parallel(n_jobs=20)]: Done 5680 tasks      | elapsed:   17.9s\n",
      "[Parallel(n_jobs=20)]: Done 7152 out of 7152 | elapsed:   21.2s finished\n",
      "[Parallel(n_jobs=20)]: Using backend LokyBackend with 20 concurrent workers.\n",
      "[Parallel(n_jobs=20)]: Done  12 tasks      | elapsed:    0.3s\n",
      "[Parallel(n_jobs=20)]: Done 408 tasks      | elapsed:    1.5s\n",
      "[Parallel(n_jobs=20)]: Done 1408 tasks      | elapsed:    4.1s\n",
      "[Parallel(n_jobs=20)]: Done 2808 tasks      | elapsed:    7.7s\n",
      "[Parallel(n_jobs=20)]: Done 4608 tasks      | elapsed:   12.2s\n",
      "[Parallel(n_jobs=20)]: Done 5686 out of 5686 | elapsed:   14.4s finished\n",
      "[Parallel(n_jobs=20)]: Using backend LokyBackend with 20 concurrent workers.\n",
      "[Parallel(n_jobs=20)]: Done  10 tasks      | elapsed:    0.2s\n",
      "[Parallel(n_jobs=20)]: Done 280 tasks      | elapsed:    1.2s\n",
      "[Parallel(n_jobs=20)]: Done 780 tasks      | elapsed:    2.8s\n",
      "[Parallel(n_jobs=20)]: Done 1480 tasks      | elapsed:    5.2s\n",
      "[Parallel(n_jobs=20)]: Done 2380 tasks      | elapsed:    8.3s\n",
      "[Parallel(n_jobs=20)]: Done 3840 tasks      | elapsed:   12.5s\n",
      "[Parallel(n_jobs=20)]: Done 6440 tasks      | elapsed:   18.8s\n",
      "[Parallel(n_jobs=20)]: Done 9440 tasks      | elapsed:   26.2s\n",
      "[Parallel(n_jobs=20)]: Done 12840 tasks      | elapsed:   34.7s\n",
      "[Parallel(n_jobs=20)]: Done 16640 tasks      | elapsed:   44.0s\n",
      "[Parallel(n_jobs=20)]: Done 19822 out of 19822 | elapsed:   51.6s finished\n",
      "[Parallel(n_jobs=20)]: Using backend LokyBackend with 20 concurrent workers.\n",
      "[Parallel(n_jobs=20)]: Done  13 tasks      | elapsed:    0.3s\n",
      "[Parallel(n_jobs=20)]: Done 286 tasks      | elapsed:    1.3s\n",
      "[Parallel(n_jobs=20)]: Done 786 tasks      | elapsed:    3.0s\n",
      "[Parallel(n_jobs=20)]: Done 1486 tasks      | elapsed:    5.4s\n",
      "[Parallel(n_jobs=20)]: Done 2772 tasks      | elapsed:    9.2s\n",
      "[Parallel(n_jobs=20)]: Done 4972 tasks      | elapsed:   14.4s\n",
      "[Parallel(n_jobs=20)]: Done 7572 tasks      | elapsed:   21.0s\n",
      "[Parallel(n_jobs=20)]: Done 10572 tasks      | elapsed:   28.2s\n",
      "[Parallel(n_jobs=20)]: Done 13972 tasks      | elapsed:   36.7s\n",
      "[Parallel(n_jobs=20)]: Done 17796 out of 17796 | elapsed:   45.7s finished\n",
      "[Parallel(n_jobs=20)]: Using backend LokyBackend with 20 concurrent workers.\n",
      "[Parallel(n_jobs=20)]: Done  10 tasks      | elapsed:    0.2s\n",
      "[Parallel(n_jobs=20)]: Done 280 tasks      | elapsed:    1.1s\n",
      "[Parallel(n_jobs=20)]: Done 780 tasks      | elapsed:    2.8s\n",
      "[Parallel(n_jobs=20)]: Done 1480 tasks      | elapsed:    5.2s\n",
      "[Parallel(n_jobs=20)]: Done 2380 tasks      | elapsed:    8.3s\n",
      "[Parallel(n_jobs=20)]: Done 3480 tasks      | elapsed:   12.1s\n",
      "[Parallel(n_jobs=20)]: Done 4780 tasks      | elapsed:   16.5s\n",
      "[Parallel(n_jobs=20)]: Done 6280 tasks      | elapsed:   21.5s\n",
      "[Parallel(n_jobs=20)]: Done 7980 tasks      | elapsed:   27.4s\n",
      "[Parallel(n_jobs=20)]: Done 10399 out of 10399 | elapsed:   34.8s finished\n",
      "[Parallel(n_jobs=20)]: Using backend LokyBackend with 20 concurrent workers.\n",
      "[Parallel(n_jobs=20)]: Done  10 tasks      | elapsed:    0.2s\n",
      "[Parallel(n_jobs=20)]: Done 280 tasks      | elapsed:    1.3s\n",
      "[Parallel(n_jobs=20)]: Done 840 tasks      | elapsed:    3.3s\n",
      "[Parallel(n_jobs=20)]: Done 2240 tasks      | elapsed:    6.8s\n",
      "[Parallel(n_jobs=20)]: Done 4040 tasks      | elapsed:   11.2s\n",
      "[Parallel(n_jobs=20)]: Done 6240 tasks      | elapsed:   16.5s\n",
      "[Parallel(n_jobs=20)]: Done 8840 tasks      | elapsed:   22.8s\n",
      "[Parallel(n_jobs=20)]: Done 11840 tasks      | elapsed:   30.4s\n",
      "[Parallel(n_jobs=20)]: Done 15240 tasks      | elapsed:   38.8s\n",
      "[Parallel(n_jobs=20)]: Done 17432 out of 17471 | elapsed:   44.0s remaining:    0.1s\n",
      "[Parallel(n_jobs=20)]: Done 17471 out of 17471 | elapsed:   44.0s finished\n",
      "[Parallel(n_jobs=20)]: Using backend LokyBackend with 20 concurrent workers.\n",
      "[Parallel(n_jobs=20)]: Done  10 tasks      | elapsed:    0.3s\n",
      "[Parallel(n_jobs=20)]: Done 280 tasks      | elapsed:    1.2s\n",
      "[Parallel(n_jobs=20)]: Done 780 tasks      | elapsed:    2.8s\n",
      "[Parallel(n_jobs=20)]: Done 1480 tasks      | elapsed:    5.2s\n",
      "[Parallel(n_jobs=20)]: Done 3240 tasks      | elapsed:    9.6s\n",
      "[Parallel(n_jobs=20)]: Done 5440 tasks      | elapsed:   15.2s\n",
      "[Parallel(n_jobs=20)]: Done 8040 tasks      | elapsed:   21.7s\n",
      "[Parallel(n_jobs=20)]: Done 11040 tasks      | elapsed:   28.9s\n",
      "[Parallel(n_jobs=20)]: Done 11249 out of 11249 | elapsed:   29.2s finished\n",
      "[Parallel(n_jobs=20)]: Using backend LokyBackend with 20 concurrent workers.\n",
      "[Parallel(n_jobs=20)]: Done  10 tasks      | elapsed:    0.2s\n",
      "[Parallel(n_jobs=20)]: Done 280 tasks      | elapsed:    1.2s\n",
      "[Parallel(n_jobs=20)]: Done 780 tasks      | elapsed:    2.9s\n",
      "[Parallel(n_jobs=20)]: Done 1480 tasks      | elapsed:    5.2s\n",
      "[Parallel(n_jobs=20)]: Done 2380 tasks      | elapsed:    8.4s\n",
      "[Parallel(n_jobs=20)]: Done 3480 tasks      | elapsed:   12.3s\n",
      "[Parallel(n_jobs=20)]: Done 5280 tasks      | elapsed:   17.5s\n",
      "[Parallel(n_jobs=20)]: Done 8280 tasks      | elapsed:   25.0s\n",
      "[Parallel(n_jobs=20)]: Done 11680 tasks      | elapsed:   33.3s\n",
      "[Parallel(n_jobs=20)]: Done 15480 tasks      | elapsed:   42.9s\n",
      "[Parallel(n_jobs=20)]: Done 15765 out of 15765 | elapsed:   43.3s finished\n",
      "[Parallel(n_jobs=20)]: Using backend LokyBackend with 20 concurrent workers.\n",
      "[Parallel(n_jobs=20)]: Done  11 tasks      | elapsed:    0.3s\n",
      "[Parallel(n_jobs=20)]: Done 324 tasks      | elapsed:    1.5s\n",
      "[Parallel(n_jobs=20)]: Done 1324 tasks      | elapsed:    4.0s\n",
      "[Parallel(n_jobs=20)]: Done 2724 tasks      | elapsed:    7.3s\n",
      "[Parallel(n_jobs=20)]: Done 4524 tasks      | elapsed:   11.7s\n",
      "[Parallel(n_jobs=20)]: Done 6724 tasks      | elapsed:   17.0s\n",
      "[Parallel(n_jobs=20)]: Done 9324 tasks      | elapsed:   23.6s\n",
      "[Parallel(n_jobs=20)]: Done 12324 tasks      | elapsed:   30.9s\n",
      "[Parallel(n_jobs=20)]: Done 14541 out of 14541 | elapsed:   36.1s finished\n",
      "[Parallel(n_jobs=20)]: Using backend LokyBackend with 20 concurrent workers.\n",
      "[Parallel(n_jobs=20)]: Done  10 tasks      | elapsed:    0.3s\n",
      "[Parallel(n_jobs=20)]: Done 280 tasks      | elapsed:    1.3s\n",
      "[Parallel(n_jobs=20)]: Done 780 tasks      | elapsed:    3.1s\n"
     ]
    },
    {
     "name": "stderr",
     "output_type": "stream",
     "text": [
      "[Parallel(n_jobs=20)]: Done 1480 tasks      | elapsed:    5.5s\n",
      "[Parallel(n_jobs=20)]: Done 2380 tasks      | elapsed:    8.5s\n",
      "[Parallel(n_jobs=20)]: Done 3480 tasks      | elapsed:   12.2s\n",
      "[Parallel(n_jobs=20)]: Done 4780 tasks      | elapsed:   16.9s\n",
      "[Parallel(n_jobs=20)]: Done 7520 tasks      | elapsed:   24.2s\n",
      "[Parallel(n_jobs=20)]: Done 8517 out of 8517 | elapsed:   26.5s finished\n",
      "[Parallel(n_jobs=20)]: Using backend LokyBackend with 20 concurrent workers.\n",
      "[Parallel(n_jobs=20)]: Done  10 tasks      | elapsed:    0.3s\n",
      "[Parallel(n_jobs=20)]: Done 280 tasks      | elapsed:    1.3s\n",
      "[Parallel(n_jobs=20)]: Done 780 tasks      | elapsed:    3.1s\n",
      "[Parallel(n_jobs=20)]: Done 2120 tasks      | elapsed:    6.4s\n",
      "[Parallel(n_jobs=20)]: Done 3920 tasks      | elapsed:   10.6s\n",
      "[Parallel(n_jobs=20)]: Done 6120 tasks      | elapsed:   15.9s\n",
      "[Parallel(n_jobs=20)]: Done 8720 tasks      | elapsed:   22.4s\n",
      "[Parallel(n_jobs=20)]: Done 11720 tasks      | elapsed:   29.8s\n",
      "[Parallel(n_jobs=20)]: Done 15120 tasks      | elapsed:   38.2s\n",
      "[Parallel(n_jobs=20)]: Done 15387 out of 15387 | elapsed:   38.7s finished\n",
      "[Parallel(n_jobs=20)]: Using backend LokyBackend with 20 concurrent workers.\n",
      "[Parallel(n_jobs=20)]: Done  10 tasks      | elapsed:    0.3s\n",
      "[Parallel(n_jobs=20)]: Done 280 tasks      | elapsed:    1.3s\n",
      "[Parallel(n_jobs=20)]: Done 780 tasks      | elapsed:    2.9s\n",
      "[Parallel(n_jobs=20)]: Done 1480 tasks      | elapsed:    5.3s\n",
      "[Parallel(n_jobs=20)]: Done 2380 tasks      | elapsed:    8.4s\n",
      "[Parallel(n_jobs=20)]: Done 3480 tasks      | elapsed:   12.2s\n",
      "[Parallel(n_jobs=20)]: Done 4780 tasks      | elapsed:   16.6s\n",
      "[Parallel(n_jobs=20)]: Done 6680 tasks      | elapsed:   22.2s\n",
      "[Parallel(n_jobs=20)]: Done 10080 tasks      | elapsed:   30.4s\n",
      "[Parallel(n_jobs=20)]: Done 13771 out of 13771 | elapsed:   40.1s finished\n",
      "[Parallel(n_jobs=20)]: Using backend LokyBackend with 20 concurrent workers.\n",
      "[Parallel(n_jobs=20)]: Done  10 tasks      | elapsed:    0.2s\n",
      "[Parallel(n_jobs=20)]: Done 280 tasks      | elapsed:    1.2s\n",
      "[Parallel(n_jobs=20)]: Done 780 tasks      | elapsed:    2.8s\n",
      "[Parallel(n_jobs=20)]: Done 1480 tasks      | elapsed:    5.2s\n",
      "[Parallel(n_jobs=20)]: Done 2380 tasks      | elapsed:    8.2s\n",
      "[Parallel(n_jobs=20)]: Done 3480 tasks      | elapsed:   11.9s\n",
      "[Parallel(n_jobs=20)]: Done 5520 tasks      | elapsed:   17.7s\n",
      "[Parallel(n_jobs=20)]: Done 7862 out of 7862 | elapsed:   23.3s finished\n",
      "[Parallel(n_jobs=20)]: Using backend LokyBackend with 20 concurrent workers.\n",
      "[Parallel(n_jobs=20)]: Done  10 tasks      | elapsed:    0.3s\n",
      "[Parallel(n_jobs=20)]: Done 280 tasks      | elapsed:    1.3s\n",
      "[Parallel(n_jobs=20)]: Done 780 tasks      | elapsed:    3.1s\n",
      "[Parallel(n_jobs=20)]: Done 1480 tasks      | elapsed:    5.4s\n",
      "[Parallel(n_jobs=20)]: Done 2380 tasks      | elapsed:    8.4s\n",
      "[Parallel(n_jobs=20)]: Done 3480 tasks      | elapsed:   12.1s\n",
      "[Parallel(n_jobs=20)]: Done 4780 tasks      | elapsed:   16.4s\n",
      "[Parallel(n_jobs=20)]: Done 6280 tasks      | elapsed:   21.5s\n",
      "[Parallel(n_jobs=20)]: Done 8440 tasks      | elapsed:   28.1s\n",
      "[Parallel(n_jobs=20)]: Done 12240 tasks      | elapsed:   37.3s\n",
      "[Parallel(n_jobs=20)]: Done 13529 out of 13529 | elapsed:   40.1s finished\n",
      "[Parallel(n_jobs=20)]: Using backend LokyBackend with 20 concurrent workers.\n",
      "[Parallel(n_jobs=20)]: Done  10 tasks      | elapsed:    0.3s\n",
      "[Parallel(n_jobs=20)]: Done 280 tasks      | elapsed:    1.3s\n",
      "[Parallel(n_jobs=20)]: Done 780 tasks      | elapsed:    2.9s\n",
      "[Parallel(n_jobs=20)]: Done 1480 tasks      | elapsed:    5.4s\n",
      "[Parallel(n_jobs=20)]: Done 3280 tasks      | elapsed:    9.8s\n",
      "[Parallel(n_jobs=20)]: Done 5480 tasks      | elapsed:   15.3s\n",
      "[Parallel(n_jobs=20)]: Done 8080 tasks      | elapsed:   22.1s\n",
      "[Parallel(n_jobs=20)]: Done 11080 tasks      | elapsed:   29.4s\n",
      "[Parallel(n_jobs=20)]: Done 14480 tasks      | elapsed:   37.8s\n",
      "[Parallel(n_jobs=20)]: Done 18280 tasks      | elapsed:   47.4s\n",
      "[Parallel(n_jobs=20)]: Done 19116 out of 19116 | elapsed:   49.1s finished\n",
      "[Parallel(n_jobs=20)]: Using backend LokyBackend with 20 concurrent workers.\n",
      "[Parallel(n_jobs=20)]: Done  10 tasks      | elapsed:    0.3s\n",
      "[Parallel(n_jobs=20)]: Done 280 tasks      | elapsed:    1.3s\n",
      "[Parallel(n_jobs=20)]: Done 780 tasks      | elapsed:    3.0s\n",
      "[Parallel(n_jobs=20)]: Done 1480 tasks      | elapsed:    5.4s\n",
      "[Parallel(n_jobs=20)]: Done 2380 tasks      | elapsed:    8.5s\n",
      "[Parallel(n_jobs=20)]: Done 3480 tasks      | elapsed:   12.1s\n",
      "[Parallel(n_jobs=20)]: Done 4780 tasks      | elapsed:   16.5s\n",
      "[Parallel(n_jobs=20)]: Done 6280 tasks      | elapsed:   21.5s\n",
      "[Parallel(n_jobs=20)]: Done 7980 tasks      | elapsed:   27.3s\n",
      "[Parallel(n_jobs=20)]: Done 9880 tasks      | elapsed:   33.6s\n",
      "[Parallel(n_jobs=20)]: Done 12529 out of 12529 | elapsed:   40.2s finished\n",
      "[Parallel(n_jobs=20)]: Using backend LokyBackend with 20 concurrent workers.\n",
      "[Parallel(n_jobs=20)]: Done  10 tasks      | elapsed:    0.2s\n",
      "[Parallel(n_jobs=20)]: Done 280 tasks      | elapsed:    1.2s\n",
      "[Parallel(n_jobs=20)]: Done 780 tasks      | elapsed:    2.9s\n",
      "[Parallel(n_jobs=20)]: Done 1480 tasks      | elapsed:    5.1s\n",
      "[Parallel(n_jobs=20)]: Done 2380 tasks      | elapsed:    8.2s\n",
      "[Parallel(n_jobs=20)]: Done 3480 tasks      | elapsed:   12.2s\n",
      "[Parallel(n_jobs=20)]: Done 4780 tasks      | elapsed:   16.4s\n",
      "[Parallel(n_jobs=20)]: Done 6280 tasks      | elapsed:   21.4s\n",
      "[Parallel(n_jobs=20)]: Done 7092 out of 7092 | elapsed:   23.9s finished\n",
      "[Parallel(n_jobs=20)]: Using backend LokyBackend with 20 concurrent workers.\n",
      "[Parallel(n_jobs=20)]: Done  10 tasks      | elapsed:    0.2s\n",
      "[Parallel(n_jobs=20)]: Done 280 tasks      | elapsed:    1.3s\n",
      "[Parallel(n_jobs=20)]: Done 780 tasks      | elapsed:    3.0s\n",
      "[Parallel(n_jobs=20)]: Done 1800 tasks      | elapsed:    5.9s\n",
      "[Parallel(n_jobs=20)]: Done 3600 tasks      | elapsed:   10.4s\n",
      "[Parallel(n_jobs=20)]: Done 5800 tasks      | elapsed:   16.1s\n",
      "[Parallel(n_jobs=20)]: Done 8400 tasks      | elapsed:   22.6s\n",
      "[Parallel(n_jobs=20)]: Done 11400 tasks      | elapsed:   29.9s\n",
      "[Parallel(n_jobs=20)]: Done 12010 out of 12010 | elapsed:   31.1s finished\n",
      "[Parallel(n_jobs=20)]: Using backend LokyBackend with 20 concurrent workers.\n",
      "[Parallel(n_jobs=20)]: Done  10 tasks      | elapsed:    0.2s\n",
      "[Parallel(n_jobs=20)]: Done 280 tasks      | elapsed:    1.2s\n",
      "[Parallel(n_jobs=20)]: Done 780 tasks      | elapsed:    2.9s\n",
      "[Parallel(n_jobs=20)]: Done 1480 tasks      | elapsed:    5.3s\n",
      "[Parallel(n_jobs=20)]: Done 2380 tasks      | elapsed:    8.4s\n",
      "[Parallel(n_jobs=20)]: Done 3480 tasks      | elapsed:   12.4s\n",
      "[Parallel(n_jobs=20)]: Done 4920 tasks      | elapsed:   17.2s\n",
      "[Parallel(n_jobs=20)]: Done 7920 tasks      | elapsed:   24.4s\n",
      "[Parallel(n_jobs=20)]: Done 11320 tasks      | elapsed:   32.6s\n",
      "[Parallel(n_jobs=20)]: Done 15120 tasks      | elapsed:   42.0s\n",
      "[Parallel(n_jobs=20)]: Done 15840 out of 15840 | elapsed:   43.4s finished\n",
      "[Parallel(n_jobs=20)]: Using backend LokyBackend with 20 concurrent workers.\n",
      "[Parallel(n_jobs=20)]: Done  10 tasks      | elapsed:    0.2s\n",
      "[Parallel(n_jobs=20)]: Done 320 tasks      | elapsed:    1.5s\n",
      "[Parallel(n_jobs=20)]: Done 1320 tasks      | elapsed:    4.0s\n",
      "[Parallel(n_jobs=20)]: Done 2720 tasks      | elapsed:    7.4s\n",
      "[Parallel(n_jobs=20)]: Done 4520 tasks      | elapsed:   12.0s\n",
      "[Parallel(n_jobs=20)]: Done 6720 tasks      | elapsed:   17.5s\n",
      "[Parallel(n_jobs=20)]: Done 9320 tasks      | elapsed:   24.2s\n",
      "[Parallel(n_jobs=20)]: Done 12320 tasks      | elapsed:   31.5s\n",
      "[Parallel(n_jobs=20)]: Done 15720 tasks      | elapsed:   40.3s\n",
      "[Parallel(n_jobs=20)]: Done 18346 out of 18346 | elapsed:   46.4s finished\n",
      "[Parallel(n_jobs=20)]: Using backend LokyBackend with 20 concurrent workers.\n",
      "[Parallel(n_jobs=20)]: Done  10 tasks      | elapsed:    0.2s\n",
      "[Parallel(n_jobs=20)]: Done 280 tasks      | elapsed:    1.2s\n",
      "[Parallel(n_jobs=20)]: Done 780 tasks      | elapsed:    2.9s\n",
      "[Parallel(n_jobs=20)]: Done 1480 tasks      | elapsed:    5.5s\n",
      "[Parallel(n_jobs=20)]: Done 2380 tasks      | elapsed:    8.7s\n",
      "[Parallel(n_jobs=20)]: Done 3480 tasks      | elapsed:   12.5s\n",
      "[Parallel(n_jobs=20)]: Done 4780 tasks      | elapsed:   16.8s\n",
      "[Parallel(n_jobs=20)]: Done 6280 tasks      | elapsed:   21.7s\n",
      "[Parallel(n_jobs=20)]: Done 7980 tasks      | elapsed:   27.4s\n"
     ]
    },
    {
     "name": "stderr",
     "output_type": "stream",
     "text": [
      "[Parallel(n_jobs=20)]: Done 9880 tasks      | elapsed:   34.0s\n",
      "[Parallel(n_jobs=20)]: Done 11980 tasks      | elapsed:   41.1s\n",
      "[Parallel(n_jobs=20)]: Done 14280 tasks      | elapsed:   48.8s\n",
      "[Parallel(n_jobs=20)]: Done 16780 tasks      | elapsed:   57.0s\n",
      "[Parallel(n_jobs=20)]: Done 19720 tasks      | elapsed:  1.1min\n",
      "[Parallel(n_jobs=20)]: Done 20072 out of 20072 | elapsed:  1.1min finished\n",
      "[Parallel(n_jobs=20)]: Using backend LokyBackend with 20 concurrent workers.\n",
      "[Parallel(n_jobs=20)]: Done  10 tasks      | elapsed:    0.3s\n",
      "[Parallel(n_jobs=20)]: Done 280 tasks      | elapsed:    1.3s\n",
      "[Parallel(n_jobs=20)]: Done 780 tasks      | elapsed:    3.0s\n",
      "[Parallel(n_jobs=20)]: Done 1720 tasks      | elapsed:    5.9s\n",
      "[Parallel(n_jobs=20)]: Done 3520 tasks      | elapsed:   10.3s\n",
      "[Parallel(n_jobs=20)]: Done 5720 tasks      | elapsed:   15.6s\n",
      "[Parallel(n_jobs=20)]: Done 8320 tasks      | elapsed:   22.1s\n",
      "[Parallel(n_jobs=20)]: Done 11320 tasks      | elapsed:   29.6s\n",
      "[Parallel(n_jobs=20)]: Done 14720 tasks      | elapsed:   38.0s\n",
      "[Parallel(n_jobs=20)]: Done 17852 out of 17852 | elapsed:   45.7s finished\n",
      "[Parallel(n_jobs=20)]: Using backend LokyBackend with 20 concurrent workers.\n",
      "[Parallel(n_jobs=20)]: Done  10 tasks      | elapsed:    0.3s\n",
      "[Parallel(n_jobs=20)]: Done 280 tasks      | elapsed:    1.2s\n",
      "[Parallel(n_jobs=20)]: Done 780 tasks      | elapsed:    2.8s\n",
      "[Parallel(n_jobs=20)]: Done 1480 tasks      | elapsed:    5.3s\n",
      "[Parallel(n_jobs=20)]: Done 2380 tasks      | elapsed:    8.4s\n",
      "[Parallel(n_jobs=20)]: Done 3480 tasks      | elapsed:   12.1s\n",
      "[Parallel(n_jobs=20)]: Done 4780 tasks      | elapsed:   16.3s\n",
      "[Parallel(n_jobs=20)]: Done 6280 tasks      | elapsed:   21.3s\n",
      "[Parallel(n_jobs=20)]: Done 7980 tasks      | elapsed:   27.0s\n",
      "[Parallel(n_jobs=20)]: Done 9880 tasks      | elapsed:   33.7s\n",
      "[Parallel(n_jobs=20)]: Done 11874 out of 11913 | elapsed:   40.3s remaining:    0.1s\n",
      "[Parallel(n_jobs=20)]: Done 11913 out of 11913 | elapsed:   40.3s finished\n",
      "[Parallel(n_jobs=20)]: Using backend LokyBackend with 20 concurrent workers.\n",
      "[Parallel(n_jobs=20)]: Done  10 tasks      | elapsed:    0.2s\n",
      "[Parallel(n_jobs=20)]: Done 280 tasks      | elapsed:    1.3s\n",
      "[Parallel(n_jobs=20)]: Done 780 tasks      | elapsed:    3.0s\n",
      "[Parallel(n_jobs=20)]: Done 1480 tasks      | elapsed:    5.3s\n",
      "[Parallel(n_jobs=20)]: Done 2380 tasks      | elapsed:    8.3s\n",
      "[Parallel(n_jobs=20)]: Done 3480 tasks      | elapsed:   12.1s\n",
      "[Parallel(n_jobs=20)]: Done 5080 tasks      | elapsed:   17.1s\n",
      "[Parallel(n_jobs=20)]: Done 8080 tasks      | elapsed:   24.9s\n",
      "[Parallel(n_jobs=20)]: Done 11480 tasks      | elapsed:   33.2s\n",
      "[Parallel(n_jobs=20)]: Done 13929 out of 13929 | elapsed:   38.8s finished\n",
      "[Parallel(n_jobs=20)]: Using backend LokyBackend with 20 concurrent workers.\n",
      "[Parallel(n_jobs=20)]: Done  10 tasks      | elapsed:    0.2s\n",
      "[Parallel(n_jobs=20)]: Done 280 tasks      | elapsed:    1.2s\n",
      "[Parallel(n_jobs=20)]: Done 840 tasks      | elapsed:    3.0s\n",
      "[Parallel(n_jobs=20)]: Done 2240 tasks      | elapsed:    6.7s\n",
      "[Parallel(n_jobs=20)]: Done 4040 tasks      | elapsed:   11.1s\n",
      "[Parallel(n_jobs=20)]: Done 6053 out of 6053 | elapsed:   14.3s finished\n",
      "[Parallel(n_jobs=20)]: Using backend LokyBackend with 20 concurrent workers.\n",
      "[Parallel(n_jobs=20)]: Done  10 tasks      | elapsed:    0.2s\n",
      "[Parallel(n_jobs=20)]: Done 400 tasks      | elapsed:    1.1s\n",
      "[Parallel(n_jobs=20)]: Done 1400 tasks      | elapsed:    2.7s\n",
      "[Parallel(n_jobs=20)]: Done 2800 tasks      | elapsed:    4.9s\n",
      "[Parallel(n_jobs=20)]: Done 6000 tasks      | elapsed:    9.8s\n",
      "[Parallel(n_jobs=20)]: Done 10400 tasks      | elapsed:   15.8s\n",
      "[Parallel(n_jobs=20)]: Done 13660 out of 13660 | elapsed:   20.2s finished\n",
      "[Parallel(n_jobs=20)]: Using backend LokyBackend with 20 concurrent workers.\n",
      "[Parallel(n_jobs=20)]: Done  10 tasks      | elapsed:    0.2s\n",
      "[Parallel(n_jobs=20)]: Done 360 tasks      | elapsed:    1.3s\n",
      "[Parallel(n_jobs=20)]: Done 2360 tasks      | elapsed:    4.0s\n",
      "[Parallel(n_jobs=20)]: Done 5160 tasks      | elapsed:    8.3s\n",
      "[Parallel(n_jobs=20)]: Done 8760 tasks      | elapsed:   13.2s\n",
      "[Parallel(n_jobs=20)]: Done 13160 tasks      | elapsed:   19.0s\n",
      "[Parallel(n_jobs=20)]: Done 18608 out of 18608 | elapsed:   25.9s finished\n",
      "[Parallel(n_jobs=20)]: Using backend LokyBackend with 20 concurrent workers.\n",
      "[Parallel(n_jobs=20)]: Done  10 tasks      | elapsed:    0.2s\n",
      "[Parallel(n_jobs=20)]: Done 280 tasks      | elapsed:    1.0s\n",
      "[Parallel(n_jobs=20)]: Done 1200 tasks      | elapsed:    2.5s\n",
      "[Parallel(n_jobs=20)]: Done 2600 tasks      | elapsed:    4.7s\n",
      "[Parallel(n_jobs=20)]: Done 4400 tasks      | elapsed:    7.8s\n",
      "[Parallel(n_jobs=20)]: Done 6600 tasks      | elapsed:   11.3s\n",
      "[Parallel(n_jobs=20)]: Done 10040 tasks      | elapsed:   16.5s\n",
      "[Parallel(n_jobs=20)]: Done 16176 out of 16215 | elapsed:   24.8s remaining:    0.1s\n",
      "[Parallel(n_jobs=20)]: Done 16215 out of 16215 | elapsed:   24.8s finished\n",
      "[Parallel(n_jobs=20)]: Using backend LokyBackend with 20 concurrent workers.\n",
      "[Parallel(n_jobs=20)]: Done  10 tasks      | elapsed:    0.2s\n",
      "[Parallel(n_jobs=20)]: Done 600 tasks      | elapsed:    1.4s\n",
      "[Parallel(n_jobs=20)]: Done 2600 tasks      | elapsed:    4.2s\n",
      "[Parallel(n_jobs=20)]: Done 5400 tasks      | elapsed:    7.9s\n",
      "[Parallel(n_jobs=20)]: Done 8230 tasks      | elapsed:   11.8s\n",
      "[Parallel(n_jobs=20)]: Done 8276 out of 8276 | elapsed:   11.8s finished\n",
      "[Parallel(n_jobs=20)]: Using backend LokyBackend with 20 concurrent workers.\n",
      "[Parallel(n_jobs=20)]: Done  10 tasks      | elapsed:    0.2s\n",
      "[Parallel(n_jobs=20)]: Done 440 tasks      | elapsed:    1.0s\n",
      "[Parallel(n_jobs=20)]: Done 1440 tasks      | elapsed:    2.6s\n",
      "[Parallel(n_jobs=20)]: Done 2840 tasks      | elapsed:    5.0s\n",
      "[Parallel(n_jobs=20)]: Done 4640 tasks      | elapsed:    8.2s\n",
      "[Parallel(n_jobs=20)]: Done 6840 tasks      | elapsed:   11.7s\n",
      "[Parallel(n_jobs=20)]: Done 9640 tasks      | elapsed:   16.4s\n",
      "[Parallel(n_jobs=20)]: Done 15640 tasks      | elapsed:   24.7s\n",
      "[Parallel(n_jobs=20)]: Done 17030 out of 17030 | elapsed:   26.5s finished\n",
      "[Parallel(n_jobs=20)]: Using backend LokyBackend with 20 concurrent workers.\n",
      "[Parallel(n_jobs=20)]: Done  10 tasks      | elapsed:    0.2s\n",
      "[Parallel(n_jobs=20)]: Done 440 tasks      | elapsed:    1.1s\n",
      "[Parallel(n_jobs=20)]: Done 2280 tasks      | elapsed:    3.9s\n",
      "[Parallel(n_jobs=20)]: Done 5080 tasks      | elapsed:    7.6s\n",
      "[Parallel(n_jobs=20)]: Done 8680 tasks      | elapsed:   12.5s\n",
      "[Parallel(n_jobs=20)]: Done 13080 tasks      | elapsed:   19.1s\n",
      "[Parallel(n_jobs=20)]: Done 18280 tasks      | elapsed:   26.2s\n",
      "[Parallel(n_jobs=20)]: Done 18690 out of 18690 | elapsed:   26.4s finished\n",
      "[Parallel(n_jobs=20)]: Using backend LokyBackend with 20 concurrent workers.\n",
      "[Parallel(n_jobs=20)]: Done  10 tasks      | elapsed:    0.2s\n",
      "[Parallel(n_jobs=20)]: Done 400 tasks      | elapsed:    1.0s\n",
      "[Parallel(n_jobs=20)]: Done 1400 tasks      | elapsed:    2.7s\n",
      "[Parallel(n_jobs=20)]: Done 3760 tasks      | elapsed:    5.9s\n",
      "[Parallel(n_jobs=20)]: Done 7360 tasks      | elapsed:   10.9s\n",
      "[Parallel(n_jobs=20)]: Done 11760 tasks      | elapsed:   16.8s\n",
      "[Parallel(n_jobs=20)]: Done 12562 out of 12562 | elapsed:   17.5s finished\n",
      "[Parallel(n_jobs=20)]: Using backend LokyBackend with 20 concurrent workers.\n",
      "[Parallel(n_jobs=20)]: Done  10 tasks      | elapsed:    0.1s\n",
      "[Parallel(n_jobs=20)]: Done 440 tasks      | elapsed:    1.1s\n",
      "[Parallel(n_jobs=20)]: Done 1440 tasks      | elapsed:    2.7s\n",
      "[Parallel(n_jobs=20)]: Done 2840 tasks      | elapsed:    5.0s\n",
      "[Parallel(n_jobs=20)]: Done 4640 tasks      | elapsed:    8.0s\n",
      "[Parallel(n_jobs=20)]: Done 6840 tasks      | elapsed:   11.9s\n",
      "[Parallel(n_jobs=20)]: Done 9440 tasks      | elapsed:   16.4s\n",
      "[Parallel(n_jobs=20)]: Done 12440 tasks      | elapsed:   21.5s\n",
      "[Parallel(n_jobs=20)]: Done 13340 out of 13340 | elapsed:   22.8s finished\n",
      "[Parallel(n_jobs=20)]: Using backend LokyBackend with 20 concurrent workers.\n",
      "[Parallel(n_jobs=20)]: Done  10 tasks      | elapsed:    0.2s\n",
      "[Parallel(n_jobs=20)]: Done 600 tasks      | elapsed:    1.4s\n",
      "[Parallel(n_jobs=20)]: Done 2600 tasks      | elapsed:    4.1s\n",
      "[Parallel(n_jobs=20)]: Done 5400 tasks      | elapsed:    7.9s\n",
      "[Parallel(n_jobs=20)]: Done 7084 out of 7084 | elapsed:    9.9s finished\n",
      "[Parallel(n_jobs=20)]: Using backend LokyBackend with 20 concurrent workers.\n"
     ]
    },
    {
     "name": "stderr",
     "output_type": "stream",
     "text": [
      "[Parallel(n_jobs=20)]: Done  10 tasks      | elapsed:    0.2s\n",
      "[Parallel(n_jobs=20)]: Done 400 tasks      | elapsed:    1.1s\n",
      "[Parallel(n_jobs=20)]: Done 1400 tasks      | elapsed:    2.8s\n",
      "[Parallel(n_jobs=20)]: Done 2800 tasks      | elapsed:    5.1s\n",
      "[Parallel(n_jobs=20)]: Done 4600 tasks      | elapsed:    8.3s\n",
      "[Parallel(n_jobs=20)]: Done 6800 tasks      | elapsed:   11.8s\n",
      "[Parallel(n_jobs=20)]: Done 9400 tasks      | elapsed:   16.1s\n",
      "[Parallel(n_jobs=20)]: Done 12400 tasks      | elapsed:   20.9s\n",
      "[Parallel(n_jobs=20)]: Done 15800 tasks      | elapsed:   26.7s\n",
      "[Parallel(n_jobs=20)]: Done 18978 out of 18978 | elapsed:   31.9s finished\n",
      "[Parallel(n_jobs=20)]: Using backend LokyBackend with 20 concurrent workers.\n",
      "[Parallel(n_jobs=20)]: Done  10 tasks      | elapsed:    0.1s\n",
      "[Parallel(n_jobs=20)]: Done 440 tasks      | elapsed:    1.1s\n",
      "[Parallel(n_jobs=20)]: Done 1440 tasks      | elapsed:    2.7s\n",
      "[Parallel(n_jobs=20)]: Done 3080 tasks      | elapsed:    5.2s\n",
      "[Parallel(n_jobs=20)]: Done 6190 tasks      | elapsed:    9.5s\n",
      "[Parallel(n_jobs=20)]: Done 6229 out of 6229 | elapsed:    9.5s finished\n",
      "[Parallel(n_jobs=20)]: Using backend LokyBackend with 20 concurrent workers.\n",
      "[Parallel(n_jobs=20)]: Done  10 tasks      | elapsed:    0.2s\n",
      "[Parallel(n_jobs=20)]: Done 600 tasks      | elapsed:    1.4s\n",
      "[Parallel(n_jobs=20)]: Done 2600 tasks      | elapsed:    3.9s\n",
      "[Parallel(n_jobs=20)]: Done 5400 tasks      | elapsed:    8.2s\n",
      "[Parallel(n_jobs=20)]: Done 9000 tasks      | elapsed:   13.2s\n",
      "[Parallel(n_jobs=20)]: Done 13400 tasks      | elapsed:   19.1s\n",
      "[Parallel(n_jobs=20)]: Done 18600 tasks      | elapsed:   26.3s\n",
      "[Parallel(n_jobs=20)]: Done 18817 out of 18817 | elapsed:   26.7s finished\n",
      "[Parallel(n_jobs=20)]: Using backend LokyBackend with 20 concurrent workers.\n",
      "[Parallel(n_jobs=20)]: Done  10 tasks      | elapsed:    0.2s\n",
      "[Parallel(n_jobs=20)]: Done 400 tasks      | elapsed:    1.0s\n",
      "[Parallel(n_jobs=20)]: Done 1400 tasks      | elapsed:    2.5s\n",
      "[Parallel(n_jobs=20)]: Done 2800 tasks      | elapsed:    4.8s\n",
      "[Parallel(n_jobs=20)]: Done 6080 tasks      | elapsed:    9.2s\n",
      "[Parallel(n_jobs=20)]: Done 10480 tasks      | elapsed:   15.2s\n",
      "[Parallel(n_jobs=20)]: Done 10567 out of 10567 | elapsed:   15.3s finished\n",
      "[Parallel(n_jobs=20)]: Using backend LokyBackend with 20 concurrent workers.\n",
      "[Parallel(n_jobs=20)]: Done  10 tasks      | elapsed:    0.2s\n",
      "[Parallel(n_jobs=20)]: Done 440 tasks      | elapsed:    1.2s\n",
      "[Parallel(n_jobs=20)]: Done 1440 tasks      | elapsed:    3.0s\n",
      "[Parallel(n_jobs=20)]: Done 2840 tasks      | elapsed:    5.3s\n",
      "[Parallel(n_jobs=20)]: Done 4640 tasks      | elapsed:    8.2s\n",
      "[Parallel(n_jobs=20)]: Done 6840 tasks      | elapsed:   12.1s\n",
      "[Parallel(n_jobs=20)]: Done 9800 tasks      | elapsed:   16.9s\n",
      "[Parallel(n_jobs=20)]: Done 13681 out of 13681 | elapsed:   22.1s finished\n",
      "[Parallel(n_jobs=20)]: Using backend LokyBackend with 20 concurrent workers.\n",
      "[Parallel(n_jobs=20)]: Done  10 tasks      | elapsed:    0.2s\n",
      "[Parallel(n_jobs=20)]: Done 400 tasks      | elapsed:    1.0s\n",
      "[Parallel(n_jobs=20)]: Done 1680 tasks      | elapsed:    3.0s\n",
      "[Parallel(n_jobs=20)]: Done 4480 tasks      | elapsed:    6.8s\n",
      "[Parallel(n_jobs=20)]: Done 8080 tasks      | elapsed:   11.5s\n",
      "[Parallel(n_jobs=20)]: Done 12060 tasks      | elapsed:   16.9s\n",
      "[Parallel(n_jobs=20)]: Done 12120 out of 12120 | elapsed:   16.9s finished\n",
      "[Parallel(n_jobs=20)]: Using backend LokyBackend with 20 concurrent workers.\n",
      "[Parallel(n_jobs=20)]: Done  10 tasks      | elapsed:    0.2s\n",
      "[Parallel(n_jobs=20)]: Done 440 tasks      | elapsed:    1.1s\n",
      "[Parallel(n_jobs=20)]: Done 1440 tasks      | elapsed:    2.8s\n",
      "[Parallel(n_jobs=20)]: Done 2840 tasks      | elapsed:    5.1s\n",
      "[Parallel(n_jobs=20)]: Done 4640 tasks      | elapsed:    8.0s\n",
      "[Parallel(n_jobs=20)]: Done 6840 tasks      | elapsed:   11.7s\n",
      "[Parallel(n_jobs=20)]: Done 7949 out of 7949 | elapsed:   13.4s finished\n",
      "[Parallel(n_jobs=20)]: Using backend LokyBackend with 20 concurrent workers.\n",
      "[Parallel(n_jobs=20)]: Done  10 tasks      | elapsed:    0.2s\n",
      "[Parallel(n_jobs=20)]: Done 280 tasks      | elapsed:    1.0s\n",
      "[Parallel(n_jobs=20)]: Done 1280 tasks      | elapsed:    2.8s\n",
      "[Parallel(n_jobs=20)]: Done 3000 tasks      | elapsed:    5.6s\n",
      "[Parallel(n_jobs=20)]: Done 6600 tasks      | elapsed:   11.3s\n",
      "[Parallel(n_jobs=20)]: Done 11000 tasks      | elapsed:   17.4s\n",
      "[Parallel(n_jobs=20)]: Done 16200 tasks      | elapsed:   24.6s\n",
      "[Parallel(n_jobs=20)]: Done 19957 out of 19957 | elapsed:   29.5s finished\n",
      "[Parallel(n_jobs=20)]: Using backend LokyBackend with 20 concurrent workers.\n",
      "[Parallel(n_jobs=20)]: Done  10 tasks      | elapsed:    0.2s\n",
      "[Parallel(n_jobs=20)]: Done 600 tasks      | elapsed:    1.3s\n",
      "[Parallel(n_jobs=20)]: Done 2600 tasks      | elapsed:    4.1s\n",
      "[Parallel(n_jobs=20)]: Done 5400 tasks      | elapsed:    7.9s\n",
      "[Parallel(n_jobs=20)]: Done 6467 out of 6467 | elapsed:    9.4s finished\n",
      "[Parallel(n_jobs=20)]: Using backend LokyBackend with 20 concurrent workers.\n",
      "[Parallel(n_jobs=20)]: Done  10 tasks      | elapsed:    0.2s\n",
      "[Parallel(n_jobs=20)]: Done 400 tasks      | elapsed:    1.0s\n",
      "[Parallel(n_jobs=20)]: Done 1400 tasks      | elapsed:    2.8s\n",
      "[Parallel(n_jobs=20)]: Done 2800 tasks      | elapsed:    5.2s\n",
      "[Parallel(n_jobs=20)]: Done 4600 tasks      | elapsed:    8.1s\n",
      "[Parallel(n_jobs=20)]: Done 6800 tasks      | elapsed:   11.6s\n",
      "[Parallel(n_jobs=20)]: Done 9840 tasks      | elapsed:   16.2s\n",
      "[Parallel(n_jobs=20)]: Done 11700 out of 11700 | elapsed:   18.4s finished\n",
      "[Parallel(n_jobs=20)]: Using backend LokyBackend with 20 concurrent workers.\n",
      "[Parallel(n_jobs=20)]: Done  10 tasks      | elapsed:    0.1s\n",
      "[Parallel(n_jobs=20)]: Done 600 tasks      | elapsed:    1.3s\n",
      "[Parallel(n_jobs=20)]: Done 2600 tasks      | elapsed:    4.1s\n",
      "[Parallel(n_jobs=20)]: Done 5400 tasks      | elapsed:    7.8s\n",
      "[Parallel(n_jobs=20)]: Done 6848 out of 6848 | elapsed:    9.4s finished\n",
      "[Parallel(n_jobs=20)]: Using backend LokyBackend with 20 concurrent workers.\n",
      "[Parallel(n_jobs=20)]: Done  10 tasks      | elapsed:    0.2s\n",
      "[Parallel(n_jobs=20)]: Done 360 tasks      | elapsed:    1.2s\n",
      "[Parallel(n_jobs=20)]: Done 2360 tasks      | elapsed:    3.9s\n",
      "[Parallel(n_jobs=20)]: Done 5160 tasks      | elapsed:    7.6s\n",
      "[Parallel(n_jobs=20)]: Done 8760 tasks      | elapsed:   12.3s\n",
      "[Parallel(n_jobs=20)]: Done 10133 out of 10133 | elapsed:   13.7s finished\n",
      "[Parallel(n_jobs=20)]: Using backend LokyBackend with 20 concurrent workers.\n",
      "[Parallel(n_jobs=20)]: Done  10 tasks      | elapsed:    0.2s\n",
      "[Parallel(n_jobs=20)]: Done 440 tasks      | elapsed:    1.1s\n",
      "[Parallel(n_jobs=20)]: Done 1440 tasks      | elapsed:    2.9s\n",
      "[Parallel(n_jobs=20)]: Done 2840 tasks      | elapsed:    5.2s\n",
      "[Parallel(n_jobs=20)]: Done 4640 tasks      | elapsed:    8.2s\n",
      "[Parallel(n_jobs=20)]: Done 7000 tasks      | elapsed:   12.1s\n",
      "[Parallel(n_jobs=20)]: Done 12200 tasks      | elapsed:   19.2s\n",
      "[Parallel(n_jobs=20)]: Done 14532 out of 14532 | elapsed:   22.3s finished\n",
      "[Parallel(n_jobs=20)]: Using backend LokyBackend with 20 concurrent workers.\n",
      "[Parallel(n_jobs=20)]: Done  10 tasks      | elapsed:    0.2s\n",
      "[Parallel(n_jobs=20)]: Done 400 tasks      | elapsed:    1.0s\n",
      "[Parallel(n_jobs=20)]: Done 1400 tasks      | elapsed:    2.9s\n",
      "[Parallel(n_jobs=20)]: Done 2800 tasks      | elapsed:    5.6s\n",
      "[Parallel(n_jobs=20)]: Done 4600 tasks      | elapsed:    8.7s\n",
      "[Parallel(n_jobs=20)]: Done 8960 tasks      | elapsed:   14.6s\n",
      "[Parallel(n_jobs=20)]: Done 10583 out of 10583 | elapsed:   16.5s finished\n",
      "[Parallel(n_jobs=20)]: Using backend LokyBackend with 20 concurrent workers.\n",
      "[Parallel(n_jobs=20)]: Done  10 tasks      | elapsed:    0.2s\n",
      "[Parallel(n_jobs=20)]: Done 320 tasks      | elapsed:    1.0s\n",
      "[Parallel(n_jobs=20)]: Done 2000 tasks      | elapsed:    3.5s\n",
      "[Parallel(n_jobs=20)]: Done 4800 tasks      | elapsed:    7.3s\n",
      "[Parallel(n_jobs=20)]: Done 8400 tasks      | elapsed:   12.1s\n",
      "[Parallel(n_jobs=20)]: Done 12800 tasks      | elapsed:   17.9s\n",
      "[Parallel(n_jobs=20)]: Done 13844 out of 13844 | elapsed:   19.0s finished\n",
      "[Parallel(n_jobs=20)]: Using backend LokyBackend with 20 concurrent workers.\n",
      "[Parallel(n_jobs=20)]: Done  10 tasks      | elapsed:    0.2s\n",
      "[Parallel(n_jobs=20)]: Done 440 tasks      | elapsed:    1.2s\n",
      "[Parallel(n_jobs=20)]: Done 1440 tasks      | elapsed:    2.9s\n"
     ]
    },
    {
     "name": "stderr",
     "output_type": "stream",
     "text": [
      "[Parallel(n_jobs=20)]: Done 2840 tasks      | elapsed:    5.3s\n",
      "[Parallel(n_jobs=20)]: Done 4640 tasks      | elapsed:    8.2s\n",
      "[Parallel(n_jobs=20)]: Done 6840 tasks      | elapsed:   11.9s\n",
      "[Parallel(n_jobs=20)]: Done 8389 out of 8389 | elapsed:   14.2s finished\n",
      "[Parallel(n_jobs=20)]: Using backend LokyBackend with 20 concurrent workers.\n",
      "[Parallel(n_jobs=20)]: Done  10 tasks      | elapsed:    0.2s\n",
      "[Parallel(n_jobs=20)]: Done 440 tasks      | elapsed:    1.1s\n",
      "[Parallel(n_jobs=20)]: Done 1440 tasks      | elapsed:    2.8s\n",
      "[Parallel(n_jobs=20)]: Done 2840 tasks      | elapsed:    4.9s\n",
      "[Parallel(n_jobs=20)]: Done 4640 tasks      | elapsed:    8.0s\n",
      "[Parallel(n_jobs=20)]: Done 6840 tasks      | elapsed:   11.6s\n",
      "[Parallel(n_jobs=20)]: Done 9800 tasks      | elapsed:   16.3s\n",
      "[Parallel(n_jobs=20)]: Done 15800 tasks      | elapsed:   24.8s\n",
      "[Parallel(n_jobs=20)]: Done 17697 out of 17697 | elapsed:   27.3s finished\n",
      "[Parallel(n_jobs=20)]: Using backend LokyBackend with 20 concurrent workers.\n",
      "[Parallel(n_jobs=20)]: Done  10 tasks      | elapsed:    0.2s\n",
      "[Parallel(n_jobs=20)]: Done 440 tasks      | elapsed:    1.1s\n",
      "[Parallel(n_jobs=20)]: Done 1440 tasks      | elapsed:    2.9s\n",
      "[Parallel(n_jobs=20)]: Done 3400 tasks      | elapsed:    5.9s\n",
      "[Parallel(n_jobs=20)]: Done 7000 tasks      | elapsed:   10.6s\n",
      "[Parallel(n_jobs=20)]: Done 11400 tasks      | elapsed:   16.7s\n",
      "[Parallel(n_jobs=20)]: Done 12111 out of 12111 | elapsed:   17.5s finished\n",
      "[Parallel(n_jobs=20)]: Using backend LokyBackend with 20 concurrent workers.\n",
      "[Parallel(n_jobs=20)]: Done  10 tasks      | elapsed:    0.2s\n",
      "[Parallel(n_jobs=20)]: Done 440 tasks      | elapsed:    1.1s\n",
      "[Parallel(n_jobs=20)]: Done 1440 tasks      | elapsed:    2.8s\n",
      "[Parallel(n_jobs=20)]: Done 2840 tasks      | elapsed:    5.1s\n",
      "[Parallel(n_jobs=20)]: Done 4640 tasks      | elapsed:    8.1s\n",
      "[Parallel(n_jobs=20)]: Done 8840 tasks      | elapsed:   14.5s\n",
      "[Parallel(n_jobs=20)]: Done 14040 tasks      | elapsed:   21.4s\n",
      "[Parallel(n_jobs=20)]: Done 17796 out of 17796 | elapsed:   26.6s finished\n",
      "[Parallel(n_jobs=20)]: Using backend LokyBackend with 20 concurrent workers.\n",
      "[Parallel(n_jobs=20)]: Done  10 tasks      | elapsed:    0.2s\n",
      "[Parallel(n_jobs=20)]: Done 440 tasks      | elapsed:    1.1s\n",
      "[Parallel(n_jobs=20)]: Done 1440 tasks      | elapsed:    2.8s\n",
      "[Parallel(n_jobs=20)]: Done 2840 tasks      | elapsed:    5.1s\n",
      "[Parallel(n_jobs=20)]: Done 4640 tasks      | elapsed:    8.0s\n",
      "[Parallel(n_jobs=20)]: Done 7462 out of 7462 | elapsed:   11.9s finished\n",
      "[Parallel(n_jobs=20)]: Using backend LokyBackend with 20 concurrent workers.\n",
      "[Parallel(n_jobs=20)]: Done  10 tasks      | elapsed:    0.2s\n",
      "[Parallel(n_jobs=20)]: Done 600 tasks      | elapsed:    1.2s\n",
      "[Parallel(n_jobs=20)]: Done 2600 tasks      | elapsed:    4.1s\n",
      "[Parallel(n_jobs=20)]: Done 5400 tasks      | elapsed:    8.0s\n",
      "[Parallel(n_jobs=20)]: Done 9000 tasks      | elapsed:   13.1s\n",
      "[Parallel(n_jobs=20)]: Done 13400 tasks      | elapsed:   19.1s\n",
      "[Parallel(n_jobs=20)]: Done 15288 out of 15288 | elapsed:   21.6s finished\n",
      "[Parallel(n_jobs=20)]: Using backend LokyBackend with 20 concurrent workers.\n",
      "[Parallel(n_jobs=20)]: Done  10 tasks      | elapsed:    0.2s\n",
      "[Parallel(n_jobs=20)]: Done 280 tasks      | elapsed:    1.0s\n",
      "[Parallel(n_jobs=20)]: Done 2000 tasks      | elapsed:    3.7s\n",
      "[Parallel(n_jobs=20)]: Done 4800 tasks      | elapsed:    7.5s\n",
      "[Parallel(n_jobs=20)]: Done 8400 tasks      | elapsed:   12.6s\n",
      "[Parallel(n_jobs=20)]: Done 11914 out of 11914 | elapsed:   17.2s finished\n",
      "[Parallel(n_jobs=20)]: Using backend LokyBackend with 20 concurrent workers.\n",
      "[Parallel(n_jobs=20)]: Done  10 tasks      | elapsed:    0.2s\n",
      "[Parallel(n_jobs=20)]: Done 440 tasks      | elapsed:    1.1s\n",
      "[Parallel(n_jobs=20)]: Done 1440 tasks      | elapsed:    2.8s\n",
      "[Parallel(n_jobs=20)]: Done 3720 tasks      | elapsed:    6.0s\n",
      "[Parallel(n_jobs=20)]: Done 7320 tasks      | elapsed:   11.0s\n",
      "[Parallel(n_jobs=20)]: Done 11720 tasks      | elapsed:   17.3s\n",
      "[Parallel(n_jobs=20)]: Done 16920 tasks      | elapsed:   25.0s\n",
      "[Parallel(n_jobs=20)]: Done 19591 out of 19591 | elapsed:   28.2s finished\n",
      "[Parallel(n_jobs=20)]: Using backend LokyBackend with 20 concurrent workers.\n",
      "[Parallel(n_jobs=20)]: Done  10 tasks      | elapsed:    0.2s\n",
      "[Parallel(n_jobs=20)]: Done 440 tasks      | elapsed:    1.1s\n",
      "[Parallel(n_jobs=20)]: Done 1440 tasks      | elapsed:    2.6s\n",
      "[Parallel(n_jobs=20)]: Done 2840 tasks      | elapsed:    5.0s\n",
      "[Parallel(n_jobs=20)]: Done 5960 tasks      | elapsed:    9.3s\n",
      "[Parallel(n_jobs=20)]: Done 8888 out of 8888 | elapsed:   12.9s finished\n",
      "[Parallel(n_jobs=20)]: Using backend LokyBackend with 20 concurrent workers.\n",
      "[Parallel(n_jobs=20)]: Done  10 tasks      | elapsed:    0.2s\n",
      "[Parallel(n_jobs=20)]: Done 360 tasks      | elapsed:    1.1s\n",
      "[Parallel(n_jobs=20)]: Done 1720 tasks      | elapsed:    3.3s\n",
      "[Parallel(n_jobs=20)]: Done 4520 tasks      | elapsed:    7.0s\n",
      "[Parallel(n_jobs=20)]: Done 8120 tasks      | elapsed:   11.9s\n",
      "[Parallel(n_jobs=20)]: Done 12520 tasks      | elapsed:   17.7s\n",
      "[Parallel(n_jobs=20)]: Done 17053 out of 17053 | elapsed:   23.5s finished\n",
      "[Parallel(n_jobs=20)]: Using backend LokyBackend with 20 concurrent workers.\n",
      "[Parallel(n_jobs=20)]: Done  10 tasks      | elapsed:    0.2s\n",
      "[Parallel(n_jobs=20)]: Done 400 tasks      | elapsed:    1.2s\n",
      "[Parallel(n_jobs=20)]: Done 1600 tasks      | elapsed:    3.1s\n",
      "[Parallel(n_jobs=20)]: Done 4400 tasks      | elapsed:    6.9s\n",
      "[Parallel(n_jobs=20)]: Done 8000 tasks      | elapsed:   11.8s\n",
      "[Parallel(n_jobs=20)]: Done 12400 tasks      | elapsed:   17.9s\n",
      "[Parallel(n_jobs=20)]: Done 13240 out of 13240 | elapsed:   18.7s finished\n",
      "[Parallel(n_jobs=20)]: Using backend LokyBackend with 20 concurrent workers.\n",
      "[Parallel(n_jobs=20)]: Done  10 tasks      | elapsed:    0.2s\n",
      "[Parallel(n_jobs=20)]: Done 440 tasks      | elapsed:    1.1s\n",
      "[Parallel(n_jobs=20)]: Done 1440 tasks      | elapsed:    2.7s\n",
      "[Parallel(n_jobs=20)]: Done 2840 tasks      | elapsed:    5.1s\n",
      "[Parallel(n_jobs=20)]: Done 4920 tasks      | elapsed:    8.3s\n",
      "[Parallel(n_jobs=20)]: Done 9320 tasks      | elapsed:   14.6s\n",
      "[Parallel(n_jobs=20)]: Done 14520 tasks      | elapsed:   21.6s\n",
      "[Parallel(n_jobs=20)]: Done 18235 out of 18235 | elapsed:   27.1s finished\n",
      "[Parallel(n_jobs=20)]: Using backend LokyBackend with 20 concurrent workers.\n",
      "[Parallel(n_jobs=20)]: Done  10 tasks      | elapsed:    0.2s\n",
      "[Parallel(n_jobs=20)]: Done 360 tasks      | elapsed:    1.1s\n",
      "[Parallel(n_jobs=20)]: Done 2360 tasks      | elapsed:    4.1s\n",
      "[Parallel(n_jobs=20)]: Done 5160 tasks      | elapsed:    8.0s\n",
      "[Parallel(n_jobs=20)]: Done 5444 out of 5444 | elapsed:    8.3s finished\n",
      "[Parallel(n_jobs=20)]: Using backend LokyBackend with 20 concurrent workers.\n",
      "[Parallel(n_jobs=20)]: Done  10 tasks      | elapsed:    0.2s\n",
      "[Parallel(n_jobs=20)]: Done 280 tasks      | elapsed:    0.9s\n",
      "[Parallel(n_jobs=20)]: Done 1200 tasks      | elapsed:    2.5s\n",
      "[Parallel(n_jobs=20)]: Done 2600 tasks      | elapsed:    5.0s\n",
      "[Parallel(n_jobs=20)]: Done 2873 out of 2873 | elapsed:    5.3s finished\n",
      "[Parallel(n_jobs=20)]: Using backend LokyBackend with 20 concurrent workers.\n",
      "[Parallel(n_jobs=20)]: Done  10 tasks      | elapsed:    0.2s\n",
      "[Parallel(n_jobs=20)]: Done 480 tasks      | elapsed:    1.3s\n",
      "[Parallel(n_jobs=20)]: Done 2480 tasks      | elapsed:    4.2s\n",
      "[Parallel(n_jobs=20)]: Done 5280 tasks      | elapsed:    7.9s\n",
      "[Parallel(n_jobs=20)]: Done 8880 tasks      | elapsed:   12.7s\n",
      "[Parallel(n_jobs=20)]: Done 13280 tasks      | elapsed:   18.5s\n",
      "[Parallel(n_jobs=20)]: Done 18480 tasks      | elapsed:   25.5s\n",
      "[Parallel(n_jobs=20)]: Done 18685 out of 18685 | elapsed:   25.8s finished\n",
      "[Parallel(n_jobs=20)]: Using backend LokyBackend with 20 concurrent workers.\n",
      "[Parallel(n_jobs=20)]: Done  10 tasks      | elapsed:    0.2s\n",
      "[Parallel(n_jobs=20)]: Done 480 tasks      | elapsed:    1.3s\n",
      "[Parallel(n_jobs=20)]: Done 2480 tasks      | elapsed:    4.1s\n",
      "[Parallel(n_jobs=20)]: Done 5280 tasks      | elapsed:    8.1s\n",
      "[Parallel(n_jobs=20)]: Done 8880 tasks      | elapsed:   13.0s\n",
      "[Parallel(n_jobs=20)]: Done 13280 tasks      | elapsed:   19.0s\n",
      "[Parallel(n_jobs=20)]: Done 18410 tasks      | elapsed:   25.7s\n",
      "[Parallel(n_jobs=20)]: Done 18473 out of 18473 | elapsed:   25.8s finished\n",
      "[Parallel(n_jobs=20)]: Using backend LokyBackend with 20 concurrent workers.\n",
      "[Parallel(n_jobs=20)]: Done  10 tasks      | elapsed:    0.1s\n"
     ]
    },
    {
     "name": "stderr",
     "output_type": "stream",
     "text": [
      "[Parallel(n_jobs=20)]: Done 600 tasks      | elapsed:    1.4s\n",
      "[Parallel(n_jobs=20)]: Done 2600 tasks      | elapsed:    4.1s\n",
      "[Parallel(n_jobs=20)]: Done 5400 tasks      | elapsed:    8.0s\n",
      "[Parallel(n_jobs=20)]: Done 7753 out of 7753 | elapsed:   11.1s finished\n",
      "[Parallel(n_jobs=20)]: Using backend LokyBackend with 20 concurrent workers.\n",
      "[Parallel(n_jobs=20)]: Done  10 tasks      | elapsed:    0.2s\n",
      "[Parallel(n_jobs=20)]: Done 440 tasks      | elapsed:    1.0s\n",
      "[Parallel(n_jobs=20)]: Done 1440 tasks      | elapsed:    2.6s\n",
      "[Parallel(n_jobs=20)]: Done 2840 tasks      | elapsed:    4.9s\n",
      "[Parallel(n_jobs=20)]: Done 4640 tasks      | elapsed:    7.9s\n",
      "[Parallel(n_jobs=20)]: Done 6840 tasks      | elapsed:   11.9s\n",
      "[Parallel(n_jobs=20)]: Done 9440 tasks      | elapsed:   16.4s\n",
      "[Parallel(n_jobs=20)]: Done 14920 tasks      | elapsed:   23.9s\n",
      "[Parallel(n_jobs=20)]: Done 16306 out of 16306 | elapsed:   25.6s finished\n",
      "[Parallel(n_jobs=20)]: Using backend LokyBackend with 20 concurrent workers.\n",
      "[Parallel(n_jobs=20)]: Done  10 tasks      | elapsed:    0.2s\n",
      "[Parallel(n_jobs=20)]: Done 400 tasks      | elapsed:    1.1s\n",
      "[Parallel(n_jobs=20)]: Done 1400 tasks      | elapsed:    2.9s\n",
      "[Parallel(n_jobs=20)]: Done 4160 tasks      | elapsed:    6.6s\n",
      "[Parallel(n_jobs=20)]: Done 7760 tasks      | elapsed:   11.4s\n",
      "[Parallel(n_jobs=20)]: Done 11058 out of 11058 | elapsed:   15.7s finished\n",
      "[Parallel(n_jobs=20)]: Using backend LokyBackend with 20 concurrent workers.\n",
      "[Parallel(n_jobs=20)]: Done  10 tasks      | elapsed:    0.2s\n",
      "[Parallel(n_jobs=20)]: Done 600 tasks      | elapsed:    1.3s\n",
      "[Parallel(n_jobs=20)]: Done 2600 tasks      | elapsed:    3.9s\n",
      "[Parallel(n_jobs=20)]: Done 5400 tasks      | elapsed:    8.1s\n",
      "[Parallel(n_jobs=20)]: Done 8073 out of 8073 | elapsed:   11.6s finished\n",
      "[Parallel(n_jobs=20)]: Using backend LokyBackend with 20 concurrent workers.\n",
      "[Parallel(n_jobs=20)]: Done  10 tasks      | elapsed:    0.2s\n",
      "[Parallel(n_jobs=20)]: Done 440 tasks      | elapsed:    1.1s\n",
      "[Parallel(n_jobs=20)]: Done 1720 tasks      | elapsed:    3.1s\n",
      "[Parallel(n_jobs=20)]: Done 4520 tasks      | elapsed:    7.1s\n",
      "[Parallel(n_jobs=20)]: Done 6482 out of 6482 | elapsed:    9.5s finished\n",
      "[Parallel(n_jobs=20)]: Using backend LokyBackend with 20 concurrent workers.\n",
      "[Parallel(n_jobs=20)]: Done  10 tasks      | elapsed:    0.1s\n",
      "[Parallel(n_jobs=20)]: Done 400 tasks      | elapsed:    1.0s\n",
      "[Parallel(n_jobs=20)]: Done 1400 tasks      | elapsed:    2.6s\n",
      "[Parallel(n_jobs=20)]: Done 2800 tasks      | elapsed:    4.9s\n",
      "[Parallel(n_jobs=20)]: Done 4600 tasks      | elapsed:    7.9s\n",
      "[Parallel(n_jobs=20)]: Done 6800 tasks      | elapsed:   11.6s\n",
      "[Parallel(n_jobs=20)]: Done 9600 tasks      | elapsed:   16.2s\n",
      "[Parallel(n_jobs=20)]: Done 15600 tasks      | elapsed:   23.9s\n",
      "[Parallel(n_jobs=20)]: Done 16109 out of 16109 | elapsed:   24.3s finished\n",
      "[Parallel(n_jobs=20)]: Using backend LokyBackend with 20 concurrent workers.\n",
      "[Parallel(n_jobs=20)]: Done  10 tasks      | elapsed:    0.2s\n",
      "[Parallel(n_jobs=20)]: Done 440 tasks      | elapsed:    1.2s\n",
      "[Parallel(n_jobs=20)]: Done 1440 tasks      | elapsed:    2.9s\n",
      "[Parallel(n_jobs=20)]: Done 2840 tasks      | elapsed:    5.1s\n",
      "[Parallel(n_jobs=20)]: Done 4640 tasks      | elapsed:    8.1s\n",
      "[Parallel(n_jobs=20)]: Done 7937 out of 7937 | elapsed:   12.4s finished\n",
      "[Parallel(n_jobs=20)]: Using backend LokyBackend with 20 concurrent workers.\n",
      "[Parallel(n_jobs=20)]: Done  10 tasks      | elapsed:    0.2s\n",
      "[Parallel(n_jobs=20)]: Done 440 tasks      | elapsed:    1.1s\n",
      "[Parallel(n_jobs=20)]: Done 1440 tasks      | elapsed:    2.7s\n",
      "[Parallel(n_jobs=20)]: Done 2840 tasks      | elapsed:    4.9s\n",
      "[Parallel(n_jobs=20)]: Done 4640 tasks      | elapsed:    7.9s\n",
      "[Parallel(n_jobs=20)]: Done 6840 tasks      | elapsed:   11.7s\n",
      "[Parallel(n_jobs=20)]: Done 10920 tasks      | elapsed:   18.5s\n",
      "[Parallel(n_jobs=20)]: Done 16920 tasks      | elapsed:   26.8s\n",
      "[Parallel(n_jobs=20)]: Done 18144 out of 18144 | elapsed:   28.2s finished\n",
      "[Parallel(n_jobs=20)]: Using backend LokyBackend with 20 concurrent workers.\n",
      "[Parallel(n_jobs=20)]: Done  10 tasks      | elapsed:    0.2s\n",
      "[Parallel(n_jobs=20)]: Done 440 tasks      | elapsed:    1.1s\n",
      "[Parallel(n_jobs=20)]: Done 1440 tasks      | elapsed:    2.8s\n",
      "[Parallel(n_jobs=20)]: Done 2840 tasks      | elapsed:    5.2s\n",
      "[Parallel(n_jobs=20)]: Done 4640 tasks      | elapsed:    8.3s\n",
      "[Parallel(n_jobs=20)]: Done 6840 tasks      | elapsed:   11.8s\n",
      "[Parallel(n_jobs=20)]: Done 9440 tasks      | elapsed:   16.0s\n",
      "[Parallel(n_jobs=20)]: Done 11632 out of 11632 | elapsed:   18.9s finished\n",
      "[Parallel(n_jobs=20)]: Using backend LokyBackend with 20 concurrent workers.\n",
      "[Parallel(n_jobs=20)]: Done  10 tasks      | elapsed:    0.2s\n",
      "[Parallel(n_jobs=20)]: Done 440 tasks      | elapsed:    1.1s\n",
      "[Parallel(n_jobs=20)]: Done 1440 tasks      | elapsed:    2.9s\n",
      "[Parallel(n_jobs=20)]: Done 2840 tasks      | elapsed:    5.3s\n",
      "[Parallel(n_jobs=20)]: Done 4640 tasks      | elapsed:    8.3s\n",
      "[Parallel(n_jobs=20)]: Done 6840 tasks      | elapsed:   11.8s\n",
      "[Parallel(n_jobs=20)]: Done 9440 tasks      | elapsed:   16.2s\n",
      "[Parallel(n_jobs=20)]: Done 12600 tasks      | elapsed:   21.2s\n",
      "[Parallel(n_jobs=20)]: Done 17240 out of 17240 | elapsed:   26.9s finished\n",
      "[Parallel(n_jobs=20)]: Using backend LokyBackend with 20 concurrent workers.\n",
      "[Parallel(n_jobs=20)]: Done  10 tasks      | elapsed:    0.1s\n",
      "[Parallel(n_jobs=20)]: Done 600 tasks      | elapsed:    1.3s\n",
      "[Parallel(n_jobs=20)]: Done 2600 tasks      | elapsed:    4.0s\n",
      "[Parallel(n_jobs=20)]: Done 5400 tasks      | elapsed:    7.8s\n",
      "[Parallel(n_jobs=20)]: Done 8790 tasks      | elapsed:   12.2s\n",
      "[Parallel(n_jobs=20)]: Done 8839 out of 8839 | elapsed:   12.3s finished\n",
      "[Parallel(n_jobs=20)]: Using backend LokyBackend with 20 concurrent workers.\n",
      "[Parallel(n_jobs=20)]: Done  10 tasks      | elapsed:    0.2s\n",
      "[Parallel(n_jobs=20)]: Done 600 tasks      | elapsed:    1.3s\n",
      "[Parallel(n_jobs=20)]: Done 2600 tasks      | elapsed:    4.1s\n",
      "[Parallel(n_jobs=20)]: Done 5400 tasks      | elapsed:    7.9s\n",
      "[Parallel(n_jobs=20)]: Done 9000 tasks      | elapsed:   12.9s\n",
      "[Parallel(n_jobs=20)]: Done 10350 out of 10350 | elapsed:   14.6s finished\n",
      "[Parallel(n_jobs=20)]: Using backend LokyBackend with 20 concurrent workers.\n",
      "[Parallel(n_jobs=20)]: Done  10 tasks      | elapsed:    0.2s\n",
      "[Parallel(n_jobs=20)]: Done 400 tasks      | elapsed:    1.1s\n",
      "[Parallel(n_jobs=20)]: Done 1400 tasks      | elapsed:    2.8s\n",
      "[Parallel(n_jobs=20)]: Done 2800 tasks      | elapsed:    5.3s\n",
      "[Parallel(n_jobs=20)]: Done 4600 tasks      | elapsed:    8.3s\n",
      "[Parallel(n_jobs=20)]: Done 6800 tasks      | elapsed:   12.0s\n",
      "[Parallel(n_jobs=20)]: Done 9400 tasks      | elapsed:   16.2s\n",
      "[Parallel(n_jobs=20)]: Done 12400 tasks      | elapsed:   21.1s\n",
      "[Parallel(n_jobs=20)]: Done 15352 out of 15352 | elapsed:   26.2s finished\n",
      "[Parallel(n_jobs=20)]: Using backend LokyBackend with 20 concurrent workers.\n",
      "[Parallel(n_jobs=20)]: Done  10 tasks      | elapsed:    0.2s\n",
      "[Parallel(n_jobs=20)]: Done 400 tasks      | elapsed:    1.1s\n",
      "[Parallel(n_jobs=20)]: Done 1400 tasks      | elapsed:    2.9s\n",
      "[Parallel(n_jobs=20)]: Done 2800 tasks      | elapsed:    5.2s\n",
      "[Parallel(n_jobs=20)]: Done 4600 tasks      | elapsed:    8.0s\n",
      "[Parallel(n_jobs=20)]: Done 6800 tasks      | elapsed:   11.7s\n",
      "[Parallel(n_jobs=20)]: Done 11120 tasks      | elapsed:   18.1s\n",
      "[Parallel(n_jobs=20)]: Done 11888 out of 11888 | elapsed:   18.8s finished\n",
      "[Parallel(n_jobs=20)]: Using backend LokyBackend with 20 concurrent workers.\n",
      "[Parallel(n_jobs=20)]: Done  10 tasks      | elapsed:    0.2s\n",
      "[Parallel(n_jobs=20)]: Done 440 tasks      | elapsed:    1.1s\n",
      "[Parallel(n_jobs=20)]: Done 1440 tasks      | elapsed:    2.9s\n",
      "[Parallel(n_jobs=20)]: Done 2840 tasks      | elapsed:    5.2s\n",
      "[Parallel(n_jobs=20)]: Done 4640 tasks      | elapsed:    8.1s\n",
      "[Parallel(n_jobs=20)]: Done 6840 tasks      | elapsed:   11.8s\n",
      "[Parallel(n_jobs=20)]: Done 8590 out of 8590 | elapsed:   14.5s finished\n",
      "[Parallel(n_jobs=20)]: Using backend LokyBackend with 20 concurrent workers.\n",
      "[Parallel(n_jobs=20)]: Done  10 tasks      | elapsed:    0.2s\n",
      "[Parallel(n_jobs=20)]: Done 440 tasks      | elapsed:    1.1s\n",
      "[Parallel(n_jobs=20)]: Done 1440 tasks      | elapsed:    2.7s\n",
      "[Parallel(n_jobs=20)]: Done 2840 tasks      | elapsed:    5.1s\n"
     ]
    },
    {
     "name": "stderr",
     "output_type": "stream",
     "text": [
      "[Parallel(n_jobs=20)]: Done 4640 tasks      | elapsed:    8.2s\n",
      "[Parallel(n_jobs=20)]: Done 6840 tasks      | elapsed:   11.7s\n",
      "[Parallel(n_jobs=20)]: Done 9440 tasks      | elapsed:   16.2s\n",
      "[Parallel(n_jobs=20)]: Done 13320 tasks      | elapsed:   22.3s\n",
      "[Parallel(n_jobs=20)]: Done 14166 out of 14166 | elapsed:   23.2s finished\n",
      "[Parallel(n_jobs=20)]: Using backend LokyBackend with 20 concurrent workers.\n",
      "[Parallel(n_jobs=20)]: Done  10 tasks      | elapsed:    0.2s\n",
      "[Parallel(n_jobs=20)]: Done 440 tasks      | elapsed:    1.0s\n",
      "[Parallel(n_jobs=20)]: Done 1440 tasks      | elapsed:    2.8s\n",
      "[Parallel(n_jobs=20)]: Done 2840 tasks      | elapsed:    5.2s\n",
      "[Parallel(n_jobs=20)]: Done 4640 tasks      | elapsed:    8.3s\n",
      "[Parallel(n_jobs=20)]: Done 6840 tasks      | elapsed:   11.7s\n",
      "[Parallel(n_jobs=20)]: Done 11720 tasks      | elapsed:   18.6s\n",
      "[Parallel(n_jobs=20)]: Done 17720 tasks      | elapsed:   26.5s\n",
      "[Parallel(n_jobs=20)]: Done 19316 out of 19316 | elapsed:   28.6s finished\n",
      "[Parallel(n_jobs=20)]: Using backend LokyBackend with 20 concurrent workers.\n",
      "[Parallel(n_jobs=20)]: Done  10 tasks      | elapsed:    0.2s\n",
      "[Parallel(n_jobs=20)]: Done 440 tasks      | elapsed:    1.1s\n",
      "[Parallel(n_jobs=20)]: Done 1440 tasks      | elapsed:    2.8s\n",
      "[Parallel(n_jobs=20)]: Done 2840 tasks      | elapsed:    5.0s\n",
      "[Parallel(n_jobs=20)]: Done 4640 tasks      | elapsed:    8.0s\n",
      "[Parallel(n_jobs=20)]: Done 6840 tasks      | elapsed:   11.6s\n",
      "[Parallel(n_jobs=20)]: Done 9373 out of 9373 | elapsed:   16.0s finished\n",
      "[Parallel(n_jobs=20)]: Using backend LokyBackend with 20 concurrent workers.\n",
      "[Parallel(n_jobs=20)]: Done  10 tasks      | elapsed:    0.2s\n",
      "[Parallel(n_jobs=20)]: Done 360 tasks      | elapsed:    1.0s\n",
      "[Parallel(n_jobs=20)]: Done 1360 tasks      | elapsed:    2.7s\n",
      "[Parallel(n_jobs=20)]: Done 2760 tasks      | elapsed:    5.1s\n",
      "[Parallel(n_jobs=20)]: Done 4560 tasks      | elapsed:    8.1s\n",
      "[Parallel(n_jobs=20)]: Done 6760 tasks      | elapsed:   11.8s\n",
      "[Parallel(n_jobs=20)]: Done 7082 out of 7082 | elapsed:   12.0s finished\n",
      "[Parallel(n_jobs=20)]: Using backend LokyBackend with 20 concurrent workers.\n",
      "[Parallel(n_jobs=20)]: Done  10 tasks      | elapsed:    0.2s\n",
      "[Parallel(n_jobs=20)]: Done 320 tasks      | elapsed:    1.1s\n",
      "[Parallel(n_jobs=20)]: Done 1320 tasks      | elapsed:    2.8s\n",
      "[Parallel(n_jobs=20)]: Done 2720 tasks      | elapsed:    5.1s\n",
      "[Parallel(n_jobs=20)]: Done 4520 tasks      | elapsed:    8.1s\n",
      "[Parallel(n_jobs=20)]: Done 6720 tasks      | elapsed:   11.8s\n",
      "[Parallel(n_jobs=20)]: Done 9320 tasks      | elapsed:   16.8s\n",
      "[Parallel(n_jobs=20)]: Done 11890 out of 11890 | elapsed:   21.0s finished\n",
      "[Parallel(n_jobs=20)]: Using backend LokyBackend with 20 concurrent workers.\n",
      "[Parallel(n_jobs=20)]: Done  10 tasks      | elapsed:    0.2s\n",
      "[Parallel(n_jobs=20)]: Done 280 tasks      | elapsed:    1.0s\n",
      "[Parallel(n_jobs=20)]: Done 1800 tasks      | elapsed:    3.2s\n",
      "[Parallel(n_jobs=20)]: Done 4600 tasks      | elapsed:    7.0s\n",
      "[Parallel(n_jobs=20)]: Done 8200 tasks      | elapsed:   11.8s\n",
      "[Parallel(n_jobs=20)]: Done 12600 tasks      | elapsed:   18.0s\n",
      "[Parallel(n_jobs=20)]: Done 15733 out of 15733 | elapsed:   22.1s finished\n",
      "[Parallel(n_jobs=20)]: Using backend LokyBackend with 20 concurrent workers.\n",
      "[Parallel(n_jobs=20)]: Done  10 tasks      | elapsed:    0.2s\n",
      "[Parallel(n_jobs=20)]: Done 440 tasks      | elapsed:    1.1s\n",
      "[Parallel(n_jobs=20)]: Done 1440 tasks      | elapsed:    2.8s\n",
      "[Parallel(n_jobs=20)]: Done 3240 tasks      | elapsed:    5.7s\n",
      "[Parallel(n_jobs=20)]: Done 6840 tasks      | elapsed:   10.7s\n",
      "[Parallel(n_jobs=20)]: Done 11240 tasks      | elapsed:   16.7s\n",
      "[Parallel(n_jobs=20)]: Done 16440 tasks      | elapsed:   23.7s\n",
      "[Parallel(n_jobs=20)]: Done 17763 out of 17763 | elapsed:   25.4s finished\n",
      "[Parallel(n_jobs=20)]: Using backend LokyBackend with 20 concurrent workers.\n",
      "[Parallel(n_jobs=20)]: Done  10 tasks      | elapsed:    0.2s\n",
      "[Parallel(n_jobs=20)]: Done 400 tasks      | elapsed:    1.1s\n",
      "[Parallel(n_jobs=20)]: Done 1400 tasks      | elapsed:    2.8s\n",
      "[Parallel(n_jobs=20)]: Done 2800 tasks      | elapsed:    5.2s\n",
      "[Parallel(n_jobs=20)]: Done 5280 tasks      | elapsed:    9.1s\n",
      "[Parallel(n_jobs=20)]: Done 9680 tasks      | elapsed:   15.2s\n",
      "[Parallel(n_jobs=20)]: Done 14880 tasks      | elapsed:   22.4s\n",
      "[Parallel(n_jobs=20)]: Done 18260 out of 18260 | elapsed:   26.7s finished\n",
      "[Parallel(n_jobs=20)]: Using backend LokyBackend with 20 concurrent workers.\n",
      "[Parallel(n_jobs=20)]: Done  10 tasks      | elapsed:    0.1s\n",
      "[Parallel(n_jobs=20)]: Done 440 tasks      | elapsed:    1.0s\n",
      "[Parallel(n_jobs=20)]: Done 1440 tasks      | elapsed:    2.8s\n",
      "[Parallel(n_jobs=20)]: Done 2840 tasks      | elapsed:    5.2s\n",
      "[Parallel(n_jobs=20)]: Done 6440 tasks      | elapsed:   10.3s\n",
      "[Parallel(n_jobs=20)]: Done 10840 tasks      | elapsed:   16.5s\n",
      "[Parallel(n_jobs=20)]: Done 13773 out of 13773 | elapsed:   20.3s finished\n",
      "[Parallel(n_jobs=20)]: Using backend LokyBackend with 20 concurrent workers.\n",
      "[Parallel(n_jobs=20)]: Done  10 tasks      | elapsed:    0.2s\n",
      "[Parallel(n_jobs=20)]: Done 400 tasks      | elapsed:    1.0s\n",
      "[Parallel(n_jobs=20)]: Done 1840 tasks      | elapsed:    3.4s\n",
      "[Parallel(n_jobs=20)]: Done 4640 tasks      | elapsed:    7.2s\n",
      "[Parallel(n_jobs=20)]: Done 8240 tasks      | elapsed:   12.1s\n",
      "[Parallel(n_jobs=20)]: Done 10028 out of 10028 | elapsed:   14.4s finished\n",
      "[Parallel(n_jobs=20)]: Using backend LokyBackend with 20 concurrent workers.\n",
      "[Parallel(n_jobs=20)]: Done  10 tasks      | elapsed:    0.2s\n",
      "[Parallel(n_jobs=20)]: Done 400 tasks      | elapsed:    1.0s\n",
      "[Parallel(n_jobs=20)]: Done 1400 tasks      | elapsed:    2.8s\n",
      "[Parallel(n_jobs=20)]: Done 2800 tasks      | elapsed:    5.2s\n",
      "[Parallel(n_jobs=20)]: Done 4600 tasks      | elapsed:    8.3s\n",
      "[Parallel(n_jobs=20)]: Done 6800 tasks      | elapsed:   12.2s\n",
      "[Parallel(n_jobs=20)]: Done 9400 tasks      | elapsed:   16.5s\n",
      "[Parallel(n_jobs=20)]: Done 12400 tasks      | elapsed:   21.5s\n",
      "[Parallel(n_jobs=20)]: Done 15065 out of 15065 | elapsed:   25.8s finished\n",
      "[Parallel(n_jobs=20)]: Using backend LokyBackend with 20 concurrent workers.\n",
      "[Parallel(n_jobs=20)]: Done  10 tasks      | elapsed:    0.2s\n",
      "[Parallel(n_jobs=20)]: Done 440 tasks      | elapsed:    1.1s\n",
      "[Parallel(n_jobs=20)]: Done 1440 tasks      | elapsed:    2.9s\n",
      "[Parallel(n_jobs=20)]: Done 2840 tasks      | elapsed:    5.1s\n",
      "[Parallel(n_jobs=20)]: Done 4640 tasks      | elapsed:    8.1s\n",
      "[Parallel(n_jobs=20)]: Done 6425 out of 6425 | elapsed:   10.8s finished\n",
      "[Parallel(n_jobs=20)]: Using backend LokyBackend with 20 concurrent workers.\n",
      "[Parallel(n_jobs=20)]: Done  10 tasks      | elapsed:    0.2s\n",
      "[Parallel(n_jobs=20)]: Done 400 tasks      | elapsed:    1.1s\n",
      "[Parallel(n_jobs=20)]: Done 1400 tasks      | elapsed:    2.8s\n",
      "[Parallel(n_jobs=20)]: Done 2800 tasks      | elapsed:    5.0s\n",
      "[Parallel(n_jobs=20)]: Done 4600 tasks      | elapsed:    8.0s\n",
      "[Parallel(n_jobs=20)]: Done 6800 tasks      | elapsed:   11.4s\n",
      "[Parallel(n_jobs=20)]: Done 9680 tasks      | elapsed:   16.0s\n",
      "[Parallel(n_jobs=20)]: Done 12733 out of 12733 | elapsed:   20.0s finished\n",
      "[Parallel(n_jobs=20)]: Using backend LokyBackend with 20 concurrent workers.\n",
      "[Parallel(n_jobs=20)]: Done  10 tasks      | elapsed:    0.2s\n",
      "[Parallel(n_jobs=20)]: Done 600 tasks      | elapsed:    1.2s\n",
      "[Parallel(n_jobs=20)]: Done 2600 tasks      | elapsed:    4.0s\n",
      "[Parallel(n_jobs=20)]: Done 5400 tasks      | elapsed:    7.7s\n",
      "[Parallel(n_jobs=20)]: Done 9000 tasks      | elapsed:   12.6s\n",
      "[Parallel(n_jobs=20)]: Done 13400 tasks      | elapsed:   18.6s\n",
      "[Parallel(n_jobs=20)]: Done 18600 tasks      | elapsed:   26.3s\n",
      "[Parallel(n_jobs=20)]: Done 19450 out of 19450 | elapsed:   27.3s finished\n",
      "[Parallel(n_jobs=20)]: Using backend LokyBackend with 20 concurrent workers.\n",
      "[Parallel(n_jobs=20)]: Done  10 tasks      | elapsed:    0.2s\n",
      "[Parallel(n_jobs=20)]: Done 440 tasks      | elapsed:    1.1s\n",
      "[Parallel(n_jobs=20)]: Done 1440 tasks      | elapsed:    2.7s\n",
      "[Parallel(n_jobs=20)]: Done 3000 tasks      | elapsed:    5.3s\n",
      "[Parallel(n_jobs=20)]: Done 6600 tasks      | elapsed:   10.5s\n",
      "[Parallel(n_jobs=20)]: Done 11000 tasks      | elapsed:   16.4s\n",
      "[Parallel(n_jobs=20)]: Done 14334 out of 14334 | elapsed:   20.7s finished\n",
      "[Parallel(n_jobs=20)]: Using backend LokyBackend with 20 concurrent workers.\n"
     ]
    },
    {
     "name": "stderr",
     "output_type": "stream",
     "text": [
      "[Parallel(n_jobs=20)]: Done  10 tasks      | elapsed:    0.2s\n",
      "[Parallel(n_jobs=20)]: Done 440 tasks      | elapsed:    1.1s\n",
      "[Parallel(n_jobs=20)]: Done 1440 tasks      | elapsed:    3.0s\n",
      "[Parallel(n_jobs=20)]: Done 2840 tasks      | elapsed:    5.4s\n",
      "[Parallel(n_jobs=20)]: Done 4640 tasks      | elapsed:    8.4s\n",
      "[Parallel(n_jobs=20)]: Done 6840 tasks      | elapsed:   12.0s\n",
      "[Parallel(n_jobs=20)]: Done 11320 tasks      | elapsed:   18.5s\n",
      "[Parallel(n_jobs=20)]: Done 17320 tasks      | elapsed:   27.0s\n",
      "[Parallel(n_jobs=20)]: Done 20095 out of 20095 | elapsed:   30.5s finished\n",
      "[Parallel(n_jobs=20)]: Using backend LokyBackend with 20 concurrent workers.\n",
      "[Parallel(n_jobs=20)]: Done  10 tasks      | elapsed:    0.1s\n",
      "[Parallel(n_jobs=20)]: Done 440 tasks      | elapsed:    1.0s\n",
      "[Parallel(n_jobs=20)]: Done 1440 tasks      | elapsed:    2.7s\n",
      "[Parallel(n_jobs=20)]: Done 2840 tasks      | elapsed:    5.1s\n",
      "[Parallel(n_jobs=20)]: Done 5320 tasks      | elapsed:    8.9s\n",
      "[Parallel(n_jobs=20)]: Done 9720 tasks      | elapsed:   15.0s\n",
      "[Parallel(n_jobs=20)]: Done 14920 tasks      | elapsed:   22.2s\n",
      "[Parallel(n_jobs=20)]: Done 17586 out of 17586 | elapsed:   25.5s finished\n",
      "[Parallel(n_jobs=20)]: Using backend LokyBackend with 20 concurrent workers.\n",
      "[Parallel(n_jobs=20)]: Done  10 tasks      | elapsed:    0.2s\n",
      "[Parallel(n_jobs=20)]: Done 440 tasks      | elapsed:    1.2s\n",
      "[Parallel(n_jobs=20)]: Done 1440 tasks      | elapsed:    2.8s\n",
      "[Parallel(n_jobs=20)]: Done 2840 tasks      | elapsed:    5.3s\n",
      "[Parallel(n_jobs=20)]: Done 4640 tasks      | elapsed:    8.4s\n",
      "[Parallel(n_jobs=20)]: Done 7960 tasks      | elapsed:   13.1s\n",
      "[Parallel(n_jobs=20)]: Done 13160 tasks      | elapsed:   20.7s\n",
      "[Parallel(n_jobs=20)]: Done 13305 out of 13305 | elapsed:   20.9s finished\n",
      "[Parallel(n_jobs=20)]: Using backend LokyBackend with 20 concurrent workers.\n",
      "[Parallel(n_jobs=20)]: Done  10 tasks      | elapsed:    0.2s\n",
      "[Parallel(n_jobs=20)]: Done 440 tasks      | elapsed:    1.1s\n",
      "[Parallel(n_jobs=20)]: Done 1440 tasks      | elapsed:    3.0s\n",
      "[Parallel(n_jobs=20)]: Done 2840 tasks      | elapsed:    5.1s\n",
      "[Parallel(n_jobs=20)]: Done 4640 tasks      | elapsed:    8.1s\n",
      "[Parallel(n_jobs=20)]: Done 6840 tasks      | elapsed:   11.6s\n",
      "[Parallel(n_jobs=20)]: Done 11720 tasks      | elapsed:   18.5s\n",
      "[Parallel(n_jobs=20)]: Done 17143 out of 17143 | elapsed:   25.5s finished\n",
      "[Parallel(n_jobs=20)]: Using backend LokyBackend with 20 concurrent workers.\n",
      "[Parallel(n_jobs=20)]: Done  10 tasks      | elapsed:    0.2s\n",
      "[Parallel(n_jobs=20)]: Done 440 tasks      | elapsed:    1.1s\n",
      "[Parallel(n_jobs=20)]: Done 1720 tasks      | elapsed:    3.2s\n",
      "[Parallel(n_jobs=20)]: Done 4520 tasks      | elapsed:    7.0s\n",
      "[Parallel(n_jobs=20)]: Done 8120 tasks      | elapsed:   11.9s\n",
      "[Parallel(n_jobs=20)]: Done 9727 out of 9727 | elapsed:   14.0s finished\n",
      "[Parallel(n_jobs=20)]: Using backend LokyBackend with 20 concurrent workers.\n",
      "[Parallel(n_jobs=20)]: Done  10 tasks      | elapsed:    0.2s\n",
      "[Parallel(n_jobs=20)]: Done 400 tasks      | elapsed:    1.1s\n",
      "[Parallel(n_jobs=20)]: Done 1400 tasks      | elapsed:    2.7s\n",
      "[Parallel(n_jobs=20)]: Done 2800 tasks      | elapsed:    5.0s\n",
      "[Parallel(n_jobs=20)]: Done 4600 tasks      | elapsed:    8.3s\n",
      "[Parallel(n_jobs=20)]: Done 6800 tasks      | elapsed:   11.9s\n",
      "[Parallel(n_jobs=20)]: Done 9400 tasks      | elapsed:   16.0s\n",
      "[Parallel(n_jobs=20)]: Done 12400 tasks      | elapsed:   21.0s\n",
      "[Parallel(n_jobs=20)]: Done 17280 tasks      | elapsed:   28.3s\n",
      "[Parallel(n_jobs=20)]: Done 19469 out of 19469 | elapsed:   30.8s finished\n",
      "[Parallel(n_jobs=20)]: Using backend LokyBackend with 20 concurrent workers.\n",
      "[Parallel(n_jobs=20)]: Done  10 tasks      | elapsed:    0.2s\n",
      "[Parallel(n_jobs=20)]: Done 440 tasks      | elapsed:    1.1s\n",
      "[Parallel(n_jobs=20)]: Done 1440 tasks      | elapsed:    2.7s\n",
      "[Parallel(n_jobs=20)]: Done 3960 tasks      | elapsed:    6.1s\n",
      "[Parallel(n_jobs=20)]: Done 6228 out of 6228 | elapsed:    9.1s finished\n",
      "[Parallel(n_jobs=20)]: Using backend LokyBackend with 20 concurrent workers.\n",
      "[Parallel(n_jobs=20)]: Done  10 tasks      | elapsed:    0.2s\n",
      "[Parallel(n_jobs=20)]: Done 440 tasks      | elapsed:    1.1s\n",
      "[Parallel(n_jobs=20)]: Done 1440 tasks      | elapsed:    2.8s\n",
      "[Parallel(n_jobs=20)]: Done 2840 tasks      | elapsed:    5.2s\n",
      "[Parallel(n_jobs=20)]: Done 4640 tasks      | elapsed:    8.3s\n",
      "[Parallel(n_jobs=20)]: Done 6840 tasks      | elapsed:   11.8s\n",
      "[Parallel(n_jobs=20)]: Done 10840 tasks      | elapsed:   17.9s\n",
      "[Parallel(n_jobs=20)]: Done 16211 out of 16211 | elapsed:   25.5s finished\n",
      "[Parallel(n_jobs=20)]: Using backend LokyBackend with 20 concurrent workers.\n",
      "[Parallel(n_jobs=20)]: Done  10 tasks      | elapsed:    0.2s\n",
      "[Parallel(n_jobs=20)]: Done 600 tasks      | elapsed:    1.3s\n",
      "[Parallel(n_jobs=20)]: Done 2600 tasks      | elapsed:    4.3s\n",
      "[Parallel(n_jobs=20)]: Done 5400 tasks      | elapsed:    8.1s\n",
      "[Parallel(n_jobs=20)]: Done 9000 tasks      | elapsed:   13.0s\n",
      "[Parallel(n_jobs=20)]: Done 10388 out of 10388 | elapsed:   14.6s finished\n",
      "[Parallel(n_jobs=20)]: Using backend LokyBackend with 20 concurrent workers.\n",
      "[Parallel(n_jobs=20)]: Done  10 tasks      | elapsed:    0.2s\n",
      "[Parallel(n_jobs=20)]: Done 440 tasks      | elapsed:    1.2s\n",
      "[Parallel(n_jobs=20)]: Done 1440 tasks      | elapsed:    2.9s\n",
      "[Parallel(n_jobs=20)]: Done 2840 tasks      | elapsed:    5.3s\n",
      "[Parallel(n_jobs=20)]: Done 4640 tasks      | elapsed:    8.3s\n",
      "[Parallel(n_jobs=20)]: Done 6840 tasks      | elapsed:   11.8s\n",
      "[Parallel(n_jobs=20)]: Done 9440 tasks      | elapsed:   16.1s\n",
      "[Parallel(n_jobs=20)]: Done 12440 tasks      | elapsed:   21.2s\n",
      "[Parallel(n_jobs=20)]: Done 14809 out of 14809 | elapsed:   24.9s finished\n",
      "[Parallel(n_jobs=20)]: Using backend LokyBackend with 20 concurrent workers.\n",
      "[Parallel(n_jobs=20)]: Done  10 tasks      | elapsed:    0.2s\n",
      "[Parallel(n_jobs=20)]: Done 360 tasks      | elapsed:    1.0s\n",
      "[Parallel(n_jobs=20)]: Done 1360 tasks      | elapsed:    2.7s\n",
      "[Parallel(n_jobs=20)]: Done 2760 tasks      | elapsed:    4.9s\n",
      "[Parallel(n_jobs=20)]: Done 4560 tasks      | elapsed:    8.0s\n",
      "[Parallel(n_jobs=20)]: Done 8200 tasks      | elapsed:   13.3s\n",
      "[Parallel(n_jobs=20)]: Done 11245 out of 11245 | elapsed:   17.2s finished\n",
      "[Parallel(n_jobs=20)]: Using backend LokyBackend with 20 concurrent workers.\n",
      "[Parallel(n_jobs=20)]: Done  10 tasks      | elapsed:    0.1s\n",
      "[Parallel(n_jobs=20)]: Done 440 tasks      | elapsed:    1.0s\n",
      "[Parallel(n_jobs=20)]: Done 1440 tasks      | elapsed:    2.7s\n",
      "[Parallel(n_jobs=20)]: Done 2840 tasks      | elapsed:    5.0s\n",
      "[Parallel(n_jobs=20)]: Done 5960 tasks      | elapsed:    9.4s\n",
      "[Parallel(n_jobs=20)]: Done 8189 out of 8189 | elapsed:   12.3s finished\n",
      "[Parallel(n_jobs=20)]: Using backend LokyBackend with 20 concurrent workers.\n",
      "[Parallel(n_jobs=20)]: Done  10 tasks      | elapsed:    0.2s\n",
      "[Parallel(n_jobs=20)]: Done 600 tasks      | elapsed:    1.4s\n",
      "[Parallel(n_jobs=20)]: Done 2600 tasks      | elapsed:    4.0s\n",
      "[Parallel(n_jobs=20)]: Done 5400 tasks      | elapsed:    7.8s\n",
      "[Parallel(n_jobs=20)]: Done 9000 tasks      | elapsed:   12.8s\n",
      "[Parallel(n_jobs=20)]: Done 13400 tasks      | elapsed:   18.8s\n",
      "[Parallel(n_jobs=20)]: Done 18600 tasks      | elapsed:   25.9s\n",
      "[Parallel(n_jobs=20)]: Done 19924 out of 19924 | elapsed:   28.1s finished\n",
      "[Parallel(n_jobs=20)]: Using backend LokyBackend with 20 concurrent workers.\n",
      "[Parallel(n_jobs=20)]: Done  10 tasks      | elapsed:    0.2s\n",
      "[Parallel(n_jobs=20)]: Done 280 tasks      | elapsed:    1.0s\n",
      "[Parallel(n_jobs=20)]: Done 1240 tasks      | elapsed:    2.8s\n",
      "[Parallel(n_jobs=20)]: Done 2640 tasks      | elapsed:    5.1s\n",
      "[Parallel(n_jobs=20)]: Done 5040 tasks      | elapsed:    8.7s\n",
      "[Parallel(n_jobs=20)]: Done 9440 tasks      | elapsed:   14.8s\n",
      "[Parallel(n_jobs=20)]: Done 14640 tasks      | elapsed:   22.1s\n",
      "[Parallel(n_jobs=20)]: Done 20100 out of 20100 | elapsed:   29.5s finished\n",
      "[Parallel(n_jobs=20)]: Using backend LokyBackend with 20 concurrent workers.\n",
      "[Parallel(n_jobs=20)]: Done  10 tasks      | elapsed:    0.1s\n",
      "[Parallel(n_jobs=20)]: Done 600 tasks      | elapsed:    1.3s\n",
      "[Parallel(n_jobs=20)]: Done 2600 tasks      | elapsed:    4.1s\n",
      "[Parallel(n_jobs=20)]: Done 5400 tasks      | elapsed:    7.9s\n",
      "[Parallel(n_jobs=20)]: Done 9000 tasks      | elapsed:   12.7s\n"
     ]
    },
    {
     "name": "stderr",
     "output_type": "stream",
     "text": [
      "[Parallel(n_jobs=20)]: Done 11666 out of 11666 | elapsed:   16.2s finished\n",
      "[Parallel(n_jobs=20)]: Using backend LokyBackend with 20 concurrent workers.\n",
      "[Parallel(n_jobs=20)]: Done  10 tasks      | elapsed:    0.2s\n",
      "[Parallel(n_jobs=20)]: Done 440 tasks      | elapsed:    1.0s\n",
      "[Parallel(n_jobs=20)]: Done 1440 tasks      | elapsed:    2.8s\n",
      "[Parallel(n_jobs=20)]: Done 2840 tasks      | elapsed:    5.2s\n",
      "[Parallel(n_jobs=20)]: Done 4680 tasks      | elapsed:    8.3s\n",
      "[Parallel(n_jobs=20)]: Done 7604 out of 7604 | elapsed:   12.0s finished\n",
      "[Parallel(n_jobs=20)]: Using backend LokyBackend with 20 concurrent workers.\n",
      "[Parallel(n_jobs=20)]: Done  10 tasks      | elapsed:    0.2s\n",
      "[Parallel(n_jobs=20)]: Done 400 tasks      | elapsed:    1.2s\n",
      "[Parallel(n_jobs=20)]: Done 1400 tasks      | elapsed:    2.9s\n",
      "[Parallel(n_jobs=20)]: Done 2800 tasks      | elapsed:    5.2s\n",
      "[Parallel(n_jobs=20)]: Done 5280 tasks      | elapsed:    9.1s\n",
      "[Parallel(n_jobs=20)]: Done 9680 tasks      | elapsed:   15.2s\n",
      "[Parallel(n_jobs=20)]: Done 10262 out of 10262 | elapsed:   15.9s finished\n",
      "[Parallel(n_jobs=20)]: Using backend LokyBackend with 20 concurrent workers.\n",
      "[Parallel(n_jobs=20)]: Done  10 tasks      | elapsed:    0.1s\n",
      "[Parallel(n_jobs=20)]: Done 440 tasks      | elapsed:    1.0s\n",
      "[Parallel(n_jobs=20)]: Done 1440 tasks      | elapsed:    2.7s\n",
      "[Parallel(n_jobs=20)]: Done 3480 tasks      | elapsed:    5.8s\n",
      "[Parallel(n_jobs=20)]: Done 7080 tasks      | elapsed:   10.3s\n",
      "[Parallel(n_jobs=20)]: Done 7299 out of 7299 | elapsed:   10.6s finished\n",
      "[Parallel(n_jobs=20)]: Using backend LokyBackend with 20 concurrent workers.\n",
      "[Parallel(n_jobs=20)]: Done  10 tasks      | elapsed:    0.2s\n",
      "[Parallel(n_jobs=20)]: Done 600 tasks      | elapsed:    1.4s\n",
      "[Parallel(n_jobs=20)]: Done 2600 tasks      | elapsed:    4.0s\n",
      "[Parallel(n_jobs=20)]: Done 5400 tasks      | elapsed:    8.4s\n",
      "[Parallel(n_jobs=20)]: Done 9000 tasks      | elapsed:   13.4s\n",
      "[Parallel(n_jobs=20)]: Done 13400 tasks      | elapsed:   19.4s\n",
      "[Parallel(n_jobs=20)]: Done 13992 out of 13992 | elapsed:   20.0s finished\n",
      "[Parallel(n_jobs=20)]: Using backend LokyBackend with 20 concurrent workers.\n",
      "[Parallel(n_jobs=20)]: Done  10 tasks      | elapsed:    0.2s\n",
      "[Parallel(n_jobs=20)]: Done 440 tasks      | elapsed:    1.1s\n",
      "[Parallel(n_jobs=20)]: Done 1440 tasks      | elapsed:    2.7s\n",
      "[Parallel(n_jobs=20)]: Done 2840 tasks      | elapsed:    5.1s\n",
      "[Parallel(n_jobs=20)]: Done 5800 tasks      | elapsed:    9.3s\n",
      "[Parallel(n_jobs=20)]: Done 10200 tasks      | elapsed:   15.2s\n",
      "[Parallel(n_jobs=20)]: Done 12940 out of 12940 | elapsed:   18.4s finished\n",
      "[Parallel(n_jobs=20)]: Using backend LokyBackend with 20 concurrent workers.\n",
      "[Parallel(n_jobs=20)]: Done  10 tasks      | elapsed:    0.2s\n",
      "[Parallel(n_jobs=20)]: Done 400 tasks      | elapsed:    1.1s\n",
      "[Parallel(n_jobs=20)]: Done 2000 tasks      | elapsed:    3.8s\n",
      "[Parallel(n_jobs=20)]: Done 4800 tasks      | elapsed:    7.6s\n",
      "[Parallel(n_jobs=20)]: Done 8400 tasks      | elapsed:   12.6s\n",
      "[Parallel(n_jobs=20)]: Done 12800 tasks      | elapsed:   18.6s\n",
      "[Parallel(n_jobs=20)]: Done 13442 out of 13442 | elapsed:   19.1s finished\n",
      "[Parallel(n_jobs=20)]: Using backend LokyBackend with 20 concurrent workers.\n",
      "[Parallel(n_jobs=20)]: Done  10 tasks      | elapsed:    0.2s\n",
      "[Parallel(n_jobs=20)]: Done 400 tasks      | elapsed:    1.1s\n",
      "[Parallel(n_jobs=20)]: Done 1400 tasks      | elapsed:    2.8s\n",
      "[Parallel(n_jobs=20)]: Done 2800 tasks      | elapsed:    5.0s\n",
      "[Parallel(n_jobs=20)]: Done 4600 tasks      | elapsed:    8.0s\n",
      "[Parallel(n_jobs=20)]: Done 6800 tasks      | elapsed:   11.7s\n",
      "[Parallel(n_jobs=20)]: Done 8833 out of 8833 | elapsed:   15.0s finished\n",
      "[Parallel(n_jobs=20)]: Using backend LokyBackend with 20 concurrent workers.\n",
      "[Parallel(n_jobs=20)]: Done  10 tasks      | elapsed:    0.2s\n",
      "[Parallel(n_jobs=20)]: Done 440 tasks      | elapsed:    1.1s\n",
      "[Parallel(n_jobs=20)]: Done 1440 tasks      | elapsed:    2.8s\n",
      "[Parallel(n_jobs=20)]: Done 2840 tasks      | elapsed:    5.1s\n",
      "[Parallel(n_jobs=20)]: Done 5480 tasks      | elapsed:    9.1s\n",
      "[Parallel(n_jobs=20)]: Done 9880 tasks      | elapsed:   15.4s\n",
      "[Parallel(n_jobs=20)]: Done 15080 tasks      | elapsed:   22.4s\n",
      "[Parallel(n_jobs=20)]: Done 18877 out of 18877 | elapsed:   27.1s finished\n",
      "[Parallel(n_jobs=20)]: Using backend LokyBackend with 20 concurrent workers.\n",
      "[Parallel(n_jobs=20)]: Done  10 tasks      | elapsed:    0.1s\n",
      "[Parallel(n_jobs=20)]: Done 600 tasks      | elapsed:    1.9s\n",
      "[Parallel(n_jobs=20)]: Done 2600 tasks      | elapsed:    4.8s\n",
      "[Parallel(n_jobs=20)]: Done 5400 tasks      | elapsed:    8.6s\n",
      "[Parallel(n_jobs=20)]: Done 9000 tasks      | elapsed:   13.9s\n",
      "[Parallel(n_jobs=20)]: Done 11199 out of 11199 | elapsed:   16.7s finished\n",
      "[Parallel(n_jobs=20)]: Using backend LokyBackend with 20 concurrent workers.\n",
      "[Parallel(n_jobs=20)]: Done  10 tasks      | elapsed:    0.2s\n",
      "[Parallel(n_jobs=20)]: Done 440 tasks      | elapsed:    1.0s\n",
      "[Parallel(n_jobs=20)]: Done 2200 tasks      | elapsed:    3.7s\n",
      "[Parallel(n_jobs=20)]: Done 5000 tasks      | elapsed:    7.4s\n",
      "[Parallel(n_jobs=20)]: Done 8600 tasks      | elapsed:   12.4s\n",
      "[Parallel(n_jobs=20)]: Done 13000 tasks      | elapsed:   18.4s\n",
      "[Parallel(n_jobs=20)]: Done 15763 out of 15763 | elapsed:   22.1s finished\n",
      "[Parallel(n_jobs=20)]: Using backend LokyBackend with 20 concurrent workers.\n",
      "[Parallel(n_jobs=20)]: Done  10 tasks      | elapsed:    0.1s\n",
      "[Parallel(n_jobs=20)]: Done 440 tasks      | elapsed:    1.0s\n",
      "[Parallel(n_jobs=20)]: Done 1440 tasks      | elapsed:    2.7s\n",
      "[Parallel(n_jobs=20)]: Done 2840 tasks      | elapsed:    4.9s\n",
      "[Parallel(n_jobs=20)]: Done 4640 tasks      | elapsed:    7.9s\n",
      "[Parallel(n_jobs=20)]: Done 6780 tasks      | elapsed:   11.3s\n",
      "[Parallel(n_jobs=20)]: Done 6837 out of 6837 | elapsed:   11.4s finished\n",
      "[Parallel(n_jobs=20)]: Using backend LokyBackend with 20 concurrent workers.\n",
      "[Parallel(n_jobs=20)]: Done  10 tasks      | elapsed:    0.1s\n",
      "[Parallel(n_jobs=20)]: Done 440 tasks      | elapsed:    1.0s\n",
      "[Parallel(n_jobs=20)]: Done 1440 tasks      | elapsed:    2.6s\n",
      "[Parallel(n_jobs=20)]: Done 2840 tasks      | elapsed:    4.8s\n",
      "[Parallel(n_jobs=20)]: Done 4640 tasks      | elapsed:    7.8s\n",
      "[Parallel(n_jobs=20)]: Done 6840 tasks      | elapsed:   11.5s\n",
      "[Parallel(n_jobs=20)]: Done 9720 tasks      | elapsed:   16.4s\n",
      "[Parallel(n_jobs=20)]: Done 14108 out of 14108 | elapsed:   22.2s finished\n",
      "[Parallel(n_jobs=20)]: Using backend LokyBackend with 20 concurrent workers.\n",
      "[Parallel(n_jobs=20)]: Done  10 tasks      | elapsed:    0.1s\n",
      "[Parallel(n_jobs=20)]: Done 480 tasks      | elapsed:    1.2s\n",
      "[Parallel(n_jobs=20)]: Done 2480 tasks      | elapsed:    3.9s\n",
      "[Parallel(n_jobs=20)]: Done 5280 tasks      | elapsed:    7.8s\n",
      "[Parallel(n_jobs=20)]: Done 8880 tasks      | elapsed:   12.7s\n",
      "[Parallel(n_jobs=20)]: Done 9705 out of 9705 | elapsed:   13.7s finished\n",
      "[Parallel(n_jobs=20)]: Using backend LokyBackend with 20 concurrent workers.\n",
      "[Parallel(n_jobs=20)]: Done  10 tasks      | elapsed:    0.2s\n",
      "[Parallel(n_jobs=20)]: Done 440 tasks      | elapsed:    1.2s\n",
      "[Parallel(n_jobs=20)]: Done 1440 tasks      | elapsed:    3.0s\n",
      "[Parallel(n_jobs=20)]: Done 2840 tasks      | elapsed:    5.4s\n",
      "[Parallel(n_jobs=20)]: Done 4640 tasks      | elapsed:    8.3s\n",
      "[Parallel(n_jobs=20)]: Done 6840 tasks      | elapsed:   11.9s\n",
      "[Parallel(n_jobs=20)]: Done 9960 tasks      | elapsed:   17.2s\n",
      "[Parallel(n_jobs=20)]: Done 15413 out of 15413 | elapsed:   25.1s finished\n",
      "[Parallel(n_jobs=20)]: Using backend LokyBackend with 20 concurrent workers.\n",
      "[Parallel(n_jobs=20)]: Done  10 tasks      | elapsed:    0.1s\n",
      "[Parallel(n_jobs=20)]: Done 440 tasks      | elapsed:    1.0s\n",
      "[Parallel(n_jobs=20)]: Done 1440 tasks      | elapsed:    2.9s\n",
      "[Parallel(n_jobs=20)]: Done 2840 tasks      | elapsed:    5.1s\n",
      "[Parallel(n_jobs=20)]: Done 4640 tasks      | elapsed:    8.3s\n",
      "[Parallel(n_jobs=20)]: Done 6840 tasks      | elapsed:   11.8s\n",
      "[Parallel(n_jobs=20)]: Done 8870 out of 8870 | elapsed:   15.0s finished\n",
      "[Parallel(n_jobs=20)]: Using backend LokyBackend with 20 concurrent workers.\n",
      "[Parallel(n_jobs=20)]: Done  10 tasks      | elapsed:    0.1s\n",
      "[Parallel(n_jobs=20)]: Done 440 tasks      | elapsed:    1.0s\n",
      "[Parallel(n_jobs=20)]: Done 1440 tasks      | elapsed:    2.7s\n",
      "[Parallel(n_jobs=20)]: Done 4200 tasks      | elapsed:    6.4s\n"
     ]
    },
    {
     "name": "stderr",
     "output_type": "stream",
     "text": [
      "[Parallel(n_jobs=20)]: Done 7800 tasks      | elapsed:   11.4s\n",
      "[Parallel(n_jobs=20)]: Done 12200 tasks      | elapsed:   17.4s\n",
      "[Parallel(n_jobs=20)]: Done 17400 tasks      | elapsed:   24.1s\n",
      "[Parallel(n_jobs=20)]: Done 17527 out of 17527 | elapsed:   24.2s finished\n",
      "[Parallel(n_jobs=20)]: Using backend LokyBackend with 20 concurrent workers.\n",
      "[Parallel(n_jobs=20)]: Done  10 tasks      | elapsed:    0.2s\n",
      "[Parallel(n_jobs=20)]: Done 600 tasks      | elapsed:    1.2s\n",
      "[Parallel(n_jobs=20)]: Done 2600 tasks      | elapsed:    3.9s\n",
      "[Parallel(n_jobs=20)]: Done 5400 tasks      | elapsed:    7.7s\n",
      "[Parallel(n_jobs=20)]: Done 9000 tasks      | elapsed:   12.5s\n",
      "[Parallel(n_jobs=20)]: Done 13400 tasks      | elapsed:   18.6s\n",
      "[Parallel(n_jobs=20)]: Done 18600 tasks      | elapsed:   25.7s\n",
      "[Parallel(n_jobs=20)]: Done 18816 out of 18855 | elapsed:   25.7s remaining:    0.1s\n",
      "[Parallel(n_jobs=20)]: Done 18855 out of 18855 | elapsed:   25.7s finished\n",
      "[Parallel(n_jobs=20)]: Using backend LokyBackend with 20 concurrent workers.\n",
      "[Parallel(n_jobs=20)]: Done  10 tasks      | elapsed:    0.2s\n",
      "[Parallel(n_jobs=20)]: Done 400 tasks      | elapsed:    1.1s\n",
      "[Parallel(n_jobs=20)]: Done 1400 tasks      | elapsed:    2.7s\n",
      "[Parallel(n_jobs=20)]: Done 2800 tasks      | elapsed:    5.0s\n",
      "[Parallel(n_jobs=20)]: Done 4600 tasks      | elapsed:    8.2s\n",
      "[Parallel(n_jobs=20)]: Done 6800 tasks      | elapsed:   11.7s\n",
      "[Parallel(n_jobs=20)]: Done 9400 tasks      | elapsed:   16.2s\n",
      "[Parallel(n_jobs=20)]: Done 12400 tasks      | elapsed:   21.0s\n",
      "[Parallel(n_jobs=20)]: Done 17563 out of 17563 | elapsed:   28.3s finished\n",
      "[Parallel(n_jobs=20)]: Using backend LokyBackend with 20 concurrent workers.\n",
      "[Parallel(n_jobs=20)]: Done  10 tasks      | elapsed:    0.7s\n",
      "[Parallel(n_jobs=20)]: Done 480 tasks      | elapsed:    1.7s\n",
      "[Parallel(n_jobs=20)]: Done 2480 tasks      | elapsed:    4.4s\n",
      "[Parallel(n_jobs=20)]: Done 5280 tasks      | elapsed:    8.2s\n",
      "[Parallel(n_jobs=20)]: Done 8356 out of 8356 | elapsed:   12.2s finished\n",
      "[Parallel(n_jobs=20)]: Using backend LokyBackend with 20 concurrent workers.\n",
      "[Parallel(n_jobs=20)]: Done  10 tasks      | elapsed:    0.2s\n",
      "[Parallel(n_jobs=20)]: Done 440 tasks      | elapsed:    1.1s\n",
      "[Parallel(n_jobs=20)]: Done 1440 tasks      | elapsed:    2.8s\n",
      "[Parallel(n_jobs=20)]: Done 2840 tasks      | elapsed:    5.0s\n",
      "[Parallel(n_jobs=20)]: Done 4640 tasks      | elapsed:    7.9s\n",
      "[Parallel(n_jobs=20)]: Done 8120 tasks      | elapsed:   13.1s\n",
      "[Parallel(n_jobs=20)]: Done 13320 tasks      | elapsed:   20.2s\n",
      "[Parallel(n_jobs=20)]: Done 17425 out of 17425 | elapsed:   25.4s finished\n",
      "[Parallel(n_jobs=20)]: Using backend LokyBackend with 20 concurrent workers.\n",
      "[Parallel(n_jobs=20)]: Done  10 tasks      | elapsed:    0.2s\n",
      "[Parallel(n_jobs=20)]: Done 440 tasks      | elapsed:    1.2s\n",
      "[Parallel(n_jobs=20)]: Done 1440 tasks      | elapsed:    2.9s\n",
      "[Parallel(n_jobs=20)]: Done 2840 tasks      | elapsed:    5.2s\n",
      "[Parallel(n_jobs=20)]: Done 6440 tasks      | elapsed:   10.1s\n",
      "[Parallel(n_jobs=20)]: Done 10840 tasks      | elapsed:   15.7s\n",
      "[Parallel(n_jobs=20)]: Done 15830 tasks      | elapsed:   22.3s\n",
      "[Parallel(n_jobs=20)]: Done 15875 out of 15875 | elapsed:   22.4s finished\n"
     ]
    }
   ],
   "source": [
    "X2,y2,groups2,X_date2,days2 = get_data(all_stress_left)\n",
    "X3,y3,groups3,X_date3,days3 = get_data(all_stress_right)\n",
    "Xf,yf,groupsf,X_datef,daysf = X2+X3,y2+y3,groups2+groups3,X_date2+X_date3,days2+days3"
   ]
  },
  {
   "cell_type": "code",
   "execution_count": 8,
   "metadata": {},
   "outputs": [],
   "source": [
    "pickle.dump([Xf,yf,groupsf,X_datef,daysf],open('../data/semi_supervised_no_imputation_autoencoder.p','wb'))"
   ]
  },
  {
   "cell_type": "code",
   "execution_count": 2,
   "metadata": {},
   "outputs": [],
   "source": [
    "from sklearn import linear_model\n",
    "Xf,yf,groupsf,X_datef,daysf = pickle.load(open('../data/semi_supervised_no_imputation_autoencoder.p','rb'))"
   ]
  },
  {
   "cell_type": "code",
   "execution_count": 4,
   "metadata": {},
   "outputs": [
    {
     "name": "stderr",
     "output_type": "stream",
     "text": [
      "/home/azim/.local/lib/python3.6/site-packages/sklearn/preprocessing/_encoders.py:371: FutureWarning: The handling of integer data will change in version 0.22. Currently, the categories are determined based on the range [0, max(values)], while in the future they will be determined based on the unique values.\n",
      "If you want the future behaviour and silence this warning, you can specify \"categories='auto'\".\n",
      "In case you used a LabelEncoder before this OneHotEncoder to convert the categories to integers, then you can now use the OneHotEncoder directly.\n",
      "  warnings.warn(msg, FutureWarning)\n",
      "[Parallel(n_jobs=30)]: Using backend LokyBackend with 30 concurrent workers.\n",
      "[Parallel(n_jobs=30)]: Done 166 tasks      | elapsed:    1.4s\n",
      "[Parallel(n_jobs=30)]: Done 2880 tasks      | elapsed:    2.1s\n",
      "[Parallel(n_jobs=30)]: Done 24320 tasks      | elapsed:    4.3s\n",
      "[Parallel(n_jobs=30)]: Done 53120 tasks      | elapsed:    7.4s\n",
      "[Parallel(n_jobs=30)]: Done 88320 tasks      | elapsed:   10.9s\n",
      "[Parallel(n_jobs=30)]: Done 129920 tasks      | elapsed:   15.2s\n",
      "[Parallel(n_jobs=30)]: Done 177920 tasks      | elapsed:   20.2s\n",
      "[Parallel(n_jobs=30)]: Done 232320 tasks      | elapsed:   25.7s\n",
      "[Parallel(n_jobs=30)]: Done 293120 tasks      | elapsed:   32.0s\n",
      "[Parallel(n_jobs=30)]: Done 360320 tasks      | elapsed:   38.9s\n",
      "[Parallel(n_jobs=30)]: Done 433920 tasks      | elapsed:   46.5s\n",
      "[Parallel(n_jobs=30)]: Done 513920 tasks      | elapsed:   54.8s\n",
      "[Parallel(n_jobs=30)]: Done 600320 tasks      | elapsed:  1.1min\n",
      "[Parallel(n_jobs=30)]: Done 693120 tasks      | elapsed:  1.2min\n",
      "[Parallel(n_jobs=30)]: Done 792320 tasks      | elapsed:  1.4min\n",
      "[Parallel(n_jobs=30)]: Done 897920 tasks      | elapsed:  1.6min\n",
      "[Parallel(n_jobs=30)]: Done 1009920 tasks      | elapsed:  1.8min\n",
      "[Parallel(n_jobs=30)]: Done 1128320 tasks      | elapsed:  2.0min\n",
      "[Parallel(n_jobs=30)]: Done 1253120 tasks      | elapsed:  2.2min\n",
      "[Parallel(n_jobs=30)]: Done 1384320 tasks      | elapsed:  2.4min\n",
      "[Parallel(n_jobs=30)]: Done 1521920 tasks      | elapsed:  2.6min\n",
      "[Parallel(n_jobs=30)]: Done 1665920 tasks      | elapsed:  2.9min\n",
      "[Parallel(n_jobs=30)]: Done 1749132 out of 1749132 | elapsed:  3.0min finished\n"
     ]
    }
   ],
   "source": [
    "from sklearn.preprocessing import StandardScaler,OneHotEncoder\n",
    "X,y1,groups1,X_date_final = np.array(Xf),np.array(yf),np.array(groupsf),OneHotEncoder().fit_transform(np.array(X_datef).reshape(-1,1))\n",
    "Xfeatures = np.array(Parallel(n_jobs=30,verbose=1)(delayed(get_features1)(x) for x in Xf))"
   ]
  },
  {
   "cell_type": "code",
   "execution_count": 15,
   "metadata": {
    "scrolled": true
   },
   "outputs": [
    {
     "name": "stdout",
     "output_type": "stream",
     "text": [
      "(15803, 15) (15783, 15) (20, 15) (15803,)\n",
      "[0.625      0.66666667 0.5        0.57142857]\n",
      "(29522, 15) (29455, 15) (67, 15) (29522,)\n"
     ]
    },
    {
     "name": "stderr",
     "output_type": "stream",
     "text": [
      "[Parallel(n_jobs=30)]: Using backend LokyBackend with 30 concurrent workers.\n",
      "[Parallel(n_jobs=30)]: Done  22 out of  40 | elapsed:    0.1s remaining:    0.1s\n",
      "[Parallel(n_jobs=30)]: Done  40 out of  40 | elapsed:    0.1s finished\n",
      "[Parallel(n_jobs=30)]: Using backend LokyBackend with 30 concurrent workers.\n"
     ]
    },
    {
     "name": "stdout",
     "output_type": "stream",
     "text": [
      "[0.55       1.         0.1        0.18181818]\n",
      "(21628, 15) (21569, 15) (59, 15) (21628,)\n"
     ]
    },
    {
     "name": "stderr",
     "output_type": "stream",
     "text": [
      "[Parallel(n_jobs=30)]: Done  22 out of  40 | elapsed:    0.1s remaining:    0.1s\n",
      "[Parallel(n_jobs=30)]: Done  40 out of  40 | elapsed:    0.1s finished\n",
      "[Parallel(n_jobs=30)]: Using backend LokyBackend with 30 concurrent workers.\n",
      "[Parallel(n_jobs=30)]: Done  22 out of  40 | elapsed:    0.1s remaining:    0.1s\n"
     ]
    },
    {
     "name": "stdout",
     "output_type": "stream",
     "text": [
      "[0.65625    0.57142857 0.5        0.53333333]\n",
      "(15197, 15) (15173, 15) (24, 15) (15197,)\n",
      "[0.75       1.         0.5        0.66666667]\n"
     ]
    },
    {
     "name": "stderr",
     "output_type": "stream",
     "text": [
      "[Parallel(n_jobs=30)]: Done  40 out of  40 | elapsed:    0.1s finished\n",
      "[Parallel(n_jobs=30)]: Using backend LokyBackend with 30 concurrent workers.\n",
      "[Parallel(n_jobs=30)]: Done  22 out of  40 | elapsed:    0.1s remaining:    0.1s\n",
      "[Parallel(n_jobs=30)]: Done  40 out of  40 | elapsed:    0.1s finished\n"
     ]
    },
    {
     "name": "stdout",
     "output_type": "stream",
     "text": [
      "(12010, 15) (11992, 15) (18, 15) (12010,)\n",
      "[1. 1. 1. 1.]\n",
      "(19769, 15) (19726, 15) (43, 15) (19769,)\n"
     ]
    },
    {
     "name": "stderr",
     "output_type": "stream",
     "text": [
      "[Parallel(n_jobs=30)]: Using backend LokyBackend with 30 concurrent workers.\n",
      "[Parallel(n_jobs=30)]: Done  22 out of  40 | elapsed:    0.1s remaining:    0.1s\n",
      "[Parallel(n_jobs=30)]: Done  40 out of  40 | elapsed:    0.1s finished\n",
      "[Parallel(n_jobs=30)]: Using backend LokyBackend with 30 concurrent workers.\n"
     ]
    },
    {
     "name": "stdout",
     "output_type": "stream",
     "text": [
      "[0.65277778 0.6        0.75       0.66666667]\n",
      "(18188, 15) (18165, 15) (23, 15) (18188,)\n"
     ]
    },
    {
     "name": "stderr",
     "output_type": "stream",
     "text": [
      "[Parallel(n_jobs=30)]: Done  22 out of  40 | elapsed:    0.1s remaining:    0.1s\n",
      "[Parallel(n_jobs=30)]: Done  40 out of  40 | elapsed:    0.1s finished\n",
      "[Parallel(n_jobs=30)]: Using backend LokyBackend with 30 concurrent workers.\n"
     ]
    },
    {
     "name": "stdout",
     "output_type": "stream",
     "text": [
      "[0.35714286 0.         0.         0.        ]\n",
      "(35507, 15) (35425, 15) (82, 15) (35507,)\n"
     ]
    },
    {
     "name": "stderr",
     "output_type": "stream",
     "text": [
      "[Parallel(n_jobs=30)]: Done  22 out of  40 | elapsed:    0.1s remaining:    0.1s\n",
      "[Parallel(n_jobs=30)]: Done  40 out of  40 | elapsed:    0.1s finished\n",
      "[Parallel(n_jobs=30)]: Using backend LokyBackend with 30 concurrent workers.\n",
      "[Parallel(n_jobs=30)]: Done  22 out of  40 | elapsed:    0.1s remaining:    0.1s\n"
     ]
    },
    {
     "name": "stdout",
     "output_type": "stream",
     "text": [
      "[0.54779412 0.57142857 0.47058824 0.51612903]\n",
      "(22833, 15) (22818, 15) (15, 15) (22833,)\n",
      "[0.5        0.5        0.66666667 0.57142857]\n"
     ]
    },
    {
     "name": "stderr",
     "output_type": "stream",
     "text": [
      "[Parallel(n_jobs=30)]: Done  40 out of  40 | elapsed:    0.1s finished\n",
      "[Parallel(n_jobs=30)]: Using backend LokyBackend with 30 concurrent workers.\n",
      "[Parallel(n_jobs=30)]: Done  22 out of  40 | elapsed:    0.1s remaining:    0.1s\n",
      "[Parallel(n_jobs=30)]: Done  40 out of  40 | elapsed:    0.1s finished\n"
     ]
    },
    {
     "name": "stdout",
     "output_type": "stream",
     "text": [
      "(32907, 15) (32857, 15) (50, 15) (32907,)\n",
      "[0.5 0.  0.  0. ]\n",
      "(23332, 15) (23308, 15) (24, 15) (23332,)\n"
     ]
    },
    {
     "name": "stderr",
     "output_type": "stream",
     "text": [
      "[Parallel(n_jobs=30)]: Using backend LokyBackend with 30 concurrent workers.\n",
      "[Parallel(n_jobs=30)]: Done  22 out of  40 | elapsed:    0.1s remaining:    0.1s\n",
      "[Parallel(n_jobs=30)]: Done  40 out of  40 | elapsed:    0.1s finished\n",
      "[Parallel(n_jobs=30)]: Using backend LokyBackend with 30 concurrent workers.\n"
     ]
    },
    {
     "name": "stdout",
     "output_type": "stream",
     "text": [
      "[0.5 0.  0.  0. ]\n",
      "(30651, 15) (30614, 15) (37, 15) (30651,)\n"
     ]
    },
    {
     "name": "stderr",
     "output_type": "stream",
     "text": [
      "[Parallel(n_jobs=30)]: Done  22 out of  40 | elapsed:    0.1s remaining:    0.0s\n",
      "[Parallel(n_jobs=30)]: Done  40 out of  40 | elapsed:    0.1s finished\n",
      "[Parallel(n_jobs=30)]: Using backend LokyBackend with 30 concurrent workers.\n"
     ]
    },
    {
     "name": "stdout",
     "output_type": "stream",
     "text": [
      "[0.59821429 0.57142857 0.57142857 0.57142857]\n",
      "(25571, 15) (25528, 15) (43, 15) (25571,)\n"
     ]
    },
    {
     "name": "stderr",
     "output_type": "stream",
     "text": [
      "[Parallel(n_jobs=30)]: Done  22 out of  40 | elapsed:    0.1s remaining:    0.1s\n",
      "[Parallel(n_jobs=30)]: Done  40 out of  40 | elapsed:    0.1s finished\n",
      "[Parallel(n_jobs=30)]: Using backend LokyBackend with 30 concurrent workers.\n",
      "[Parallel(n_jobs=30)]: Done  22 out of  40 | elapsed:    0.1s remaining:    0.1s\n"
     ]
    },
    {
     "name": "stdout",
     "output_type": "stream",
     "text": [
      "[0.65       0.5        1.         0.66666667]\n",
      "(27637, 15) (27577, 15) (60, 15) (27637,)\n",
      "[0.52797203 0.5        0.36363636 0.42105263]\n"
     ]
    },
    {
     "name": "stderr",
     "output_type": "stream",
     "text": [
      "[Parallel(n_jobs=30)]: Done  40 out of  40 | elapsed:    0.1s finished\n",
      "[Parallel(n_jobs=30)]: Using backend LokyBackend with 30 concurrent workers.\n",
      "[Parallel(n_jobs=30)]: Done  22 out of  40 | elapsed:    0.1s remaining:    0.0s\n",
      "[Parallel(n_jobs=30)]: Done  40 out of  40 | elapsed:    0.1s finished\n"
     ]
    },
    {
     "name": "stdout",
     "output_type": "stream",
     "text": [
      "(38394, 15) (38350, 15) (44, 15) (38394,)\n"
     ]
    },
    {
     "name": "stderr",
     "output_type": "stream",
     "text": [
      "[Parallel(n_jobs=30)]: Using backend LokyBackend with 30 concurrent workers.\n"
     ]
    },
    {
     "name": "stdout",
     "output_type": "stream",
     "text": [
      "[0.5125 0.5    0.125  0.2   ]\n",
      "(21794, 15) (21747, 15) (47, 15) (21794,)\n"
     ]
    },
    {
     "name": "stderr",
     "output_type": "stream",
     "text": [
      "[Parallel(n_jobs=30)]: Done  22 out of  40 | elapsed:    0.2s remaining:    0.2s\n",
      "[Parallel(n_jobs=30)]: Done  40 out of  40 | elapsed:    0.3s finished\n",
      "[Parallel(n_jobs=30)]: Using backend LokyBackend with 30 concurrent workers.\n"
     ]
    },
    {
     "name": "stdout",
     "output_type": "stream",
     "text": [
      "[0.71794872 0.83333333 0.76923077 0.8       ]\n",
      "(14116, 15) (14086, 15) (30, 15) (14116,)\n"
     ]
    },
    {
     "name": "stderr",
     "output_type": "stream",
     "text": [
      "[Parallel(n_jobs=30)]: Done  22 out of  40 | elapsed:    0.1s remaining:    0.1s\n",
      "[Parallel(n_jobs=30)]: Done  40 out of  40 | elapsed:    0.2s finished\n",
      "[Parallel(n_jobs=30)]: Using backend LokyBackend with 30 concurrent workers.\n"
     ]
    },
    {
     "name": "stdout",
     "output_type": "stream",
     "text": [
      "[0.58333333 0.54545455 1.         0.70588235]\n",
      "(23802, 15) (23758, 15) (44, 15) (23802,)\n"
     ]
    },
    {
     "name": "stderr",
     "output_type": "stream",
     "text": [
      "[Parallel(n_jobs=30)]: Done  22 out of  40 | elapsed:    0.1s remaining:    0.1s\n",
      "[Parallel(n_jobs=30)]: Done  40 out of  40 | elapsed:    0.1s finished\n",
      "[Parallel(n_jobs=30)]: Using backend LokyBackend with 30 concurrent workers.\n",
      "[Parallel(n_jobs=30)]: Done  22 out of  40 | elapsed:    0.1s remaining:    0.1s\n"
     ]
    },
    {
     "name": "stdout",
     "output_type": "stream",
     "text": [
      "[0.54166667 0.7        0.58333333 0.63636364]\n",
      "(31465, 15) (31377, 15) (88, 15) (31465,)\n",
      "[0.5 0.  0.  0. ]\n"
     ]
    },
    {
     "name": "stderr",
     "output_type": "stream",
     "text": [
      "[Parallel(n_jobs=30)]: Done  40 out of  40 | elapsed:    0.1s finished\n",
      "[Parallel(n_jobs=30)]: Using backend LokyBackend with 30 concurrent workers.\n",
      "[Parallel(n_jobs=30)]: Done  22 out of  40 | elapsed:    0.1s remaining:    0.1s\n",
      "[Parallel(n_jobs=30)]: Done  40 out of  40 | elapsed:    0.1s finished\n"
     ]
    },
    {
     "name": "stdout",
     "output_type": "stream",
     "text": [
      "(36041, 15) (36007, 15) (34, 15) (36041,)\n",
      "[0.5 0.  0.  0. ]\n",
      "(38254, 15) (38197, 15) (57, 15) (38254,)\n"
     ]
    },
    {
     "name": "stderr",
     "output_type": "stream",
     "text": [
      "[Parallel(n_jobs=30)]: Using backend LokyBackend with 30 concurrent workers.\n",
      "[Parallel(n_jobs=30)]: Done  22 out of  40 | elapsed:    0.1s remaining:    0.0s\n",
      "[Parallel(n_jobs=30)]: Done  40 out of  40 | elapsed:    0.1s finished\n",
      "[Parallel(n_jobs=30)]: Using backend LokyBackend with 30 concurrent workers.\n"
     ]
    },
    {
     "name": "stdout",
     "output_type": "stream",
     "text": [
      "[0.56153846 0.66666667 0.2        0.30769231]\n",
      "(31537, 15) (31526, 15) (11, 15) (31537,)\n"
     ]
    },
    {
     "name": "stderr",
     "output_type": "stream",
     "text": [
      "[Parallel(n_jobs=30)]: Done  22 out of  40 | elapsed:    0.1s remaining:    0.1s\n",
      "[Parallel(n_jobs=30)]: Done  40 out of  40 | elapsed:    0.1s finished\n",
      "[Parallel(n_jobs=30)]: Using backend LokyBackend with 30 concurrent workers.\n"
     ]
    },
    {
     "name": "stdout",
     "output_type": "stream",
     "text": [
      "[0.75       1.         0.5        0.66666667]\n",
      "(21823, 15) (21779, 15) (44, 15) (21823,)\n"
     ]
    },
    {
     "name": "stderr",
     "output_type": "stream",
     "text": [
      "[Parallel(n_jobs=30)]: Done  22 out of  40 | elapsed:    0.1s remaining:    0.1s\n",
      "[Parallel(n_jobs=30)]: Done  40 out of  40 | elapsed:    0.1s finished\n",
      "[Parallel(n_jobs=30)]: Using backend LokyBackend with 30 concurrent workers.\n"
     ]
    },
    {
     "name": "stdout",
     "output_type": "stream",
     "text": [
      "[0.53246753 0.63636364 0.63636364 0.63636364]\n",
      "(28946, 15) (28906, 15) (40, 15) (28946,)\n"
     ]
    },
    {
     "name": "stderr",
     "output_type": "stream",
     "text": [
      "[Parallel(n_jobs=30)]: Done  22 out of  40 | elapsed:    0.1s remaining:    0.1s\n",
      "[Parallel(n_jobs=30)]: Done  40 out of  40 | elapsed:    0.1s finished\n",
      "[Parallel(n_jobs=30)]: Using backend LokyBackend with 30 concurrent workers.\n",
      "[Parallel(n_jobs=30)]: Done  22 out of  40 | elapsed:    0.1s remaining:    0.1s\n"
     ]
    },
    {
     "name": "stdout",
     "output_type": "stream",
     "text": [
      "[0.6 0.7 0.7 0.7]\n",
      "(12370, 15) (12361, 15) (9, 15) (12370,)\n",
      "[0.75       0.66666667 1.         0.8       ]\n"
     ]
    },
    {
     "name": "stderr",
     "output_type": "stream",
     "text": [
      "[Parallel(n_jobs=30)]: Done  40 out of  40 | elapsed:    0.1s finished\n",
      "[Parallel(n_jobs=30)]: Using backend LokyBackend with 30 concurrent workers.\n",
      "[Parallel(n_jobs=30)]: Done  22 out of  40 | elapsed:    0.1s remaining:    0.1s\n",
      "[Parallel(n_jobs=30)]: Done  40 out of  40 | elapsed:    0.1s finished\n"
     ]
    },
    {
     "name": "stdout",
     "output_type": "stream",
     "text": [
      "(26285, 15) (26240, 15) (45, 15) (26285,)\n",
      "[0.74615385 0.5        0.8        0.61538462]\n",
      "(38020, 15) (37983, 15) (37, 15) (38020,)\n"
     ]
    },
    {
     "name": "stderr",
     "output_type": "stream",
     "text": [
      "[Parallel(n_jobs=30)]: Using backend LokyBackend with 30 concurrent workers.\n",
      "[Parallel(n_jobs=30)]: Done  22 out of  40 | elapsed:    0.1s remaining:    0.1s\n",
      "[Parallel(n_jobs=30)]: Done  40 out of  40 | elapsed:    0.1s finished\n"
     ]
    },
    {
     "name": "stdout",
     "output_type": "stream",
     "text": [
      "[0.61363636 0.4        0.5        0.44444444]\n",
      "(30471, 15) (30428, 15) (43, 15) (30471,)\n"
     ]
    },
    {
     "name": "stderr",
     "output_type": "stream",
     "text": [
      "[Parallel(n_jobs=30)]: Using backend LokyBackend with 30 concurrent workers.\n",
      "[Parallel(n_jobs=30)]: Done  22 out of  40 | elapsed:    0.1s remaining:    0.1s\n",
      "[Parallel(n_jobs=30)]: Done  40 out of  40 | elapsed:    0.1s finished\n",
      "[Parallel(n_jobs=30)]: Using backend LokyBackend with 30 concurrent workers.\n"
     ]
    },
    {
     "name": "stdout",
     "output_type": "stream",
     "text": [
      "[0.75       0.69230769 1.         0.81818182]\n",
      "(8227, 15) (8220, 15) (7, 15) (8227,)\n"
     ]
    },
    {
     "name": "stderr",
     "output_type": "stream",
     "text": [
      "[Parallel(n_jobs=30)]: Done  22 out of  40 | elapsed:    0.1s remaining:    0.1s\n",
      "[Parallel(n_jobs=30)]: Done  40 out of  40 | elapsed:    0.1s finished\n",
      "[Parallel(n_jobs=30)]: Using backend LokyBackend with 30 concurrent workers.\n",
      "[Parallel(n_jobs=30)]: Done  22 out of  40 | elapsed:    0.1s remaining:    0.1s\n"
     ]
    },
    {
     "name": "stdout",
     "output_type": "stream",
     "text": [
      "[0.75       0.5        1.         0.66666667]\n",
      "(37087, 15) (37061, 15) (26, 15) (37087,)\n",
      "[0.73333333 0.8        0.66666667 0.72727273]\n"
     ]
    },
    {
     "name": "stderr",
     "output_type": "stream",
     "text": [
      "[Parallel(n_jobs=30)]: Done  40 out of  40 | elapsed:    0.1s finished\n",
      "[Parallel(n_jobs=30)]: Using backend LokyBackend with 30 concurrent workers.\n",
      "[Parallel(n_jobs=30)]: Done  22 out of  40 | elapsed:    0.1s remaining:    0.1s\n",
      "[Parallel(n_jobs=30)]: Done  40 out of  40 | elapsed:    0.1s finished\n"
     ]
    },
    {
     "name": "stdout",
     "output_type": "stream",
     "text": [
      "(36188, 15) (36094, 15) (94, 15) (36188,)\n",
      "[0.73684211 0.84615385 0.57894737 0.6875    ]\n",
      "(25779, 15) (25735, 15) (44, 15) (25779,)\n"
     ]
    },
    {
     "name": "stderr",
     "output_type": "stream",
     "text": [
      "[Parallel(n_jobs=30)]: Using backend LokyBackend with 30 concurrent workers.\n",
      "[Parallel(n_jobs=30)]: Done  22 out of  40 | elapsed:    0.1s remaining:    0.1s\n",
      "[Parallel(n_jobs=30)]: Done  40 out of  40 | elapsed:    0.1s finished\n",
      "[Parallel(n_jobs=30)]: Using backend LokyBackend with 30 concurrent workers.\n"
     ]
    },
    {
     "name": "stdout",
     "output_type": "stream",
     "text": [
      "[0.66666667 0.71428571 0.55555556 0.625     ]\n",
      "(30425, 15) (30378, 15) (47, 15) (30425,)\n"
     ]
    },
    {
     "name": "stderr",
     "output_type": "stream",
     "text": [
      "[Parallel(n_jobs=30)]: Done  22 out of  40 | elapsed:    0.1s remaining:    0.1s\n",
      "[Parallel(n_jobs=30)]: Done  40 out of  40 | elapsed:    0.1s finished\n",
      "[Parallel(n_jobs=30)]: Using backend LokyBackend with 30 concurrent workers.\n",
      "[Parallel(n_jobs=30)]: Done  22 out of  40 | elapsed:    0.1s remaining:    0.1s\n"
     ]
    },
    {
     "name": "stdout",
     "output_type": "stream",
     "text": [
      "[0.66666667 1.         0.33333333 0.5       ]\n",
      "(16783, 15) (16763, 15) (20, 15) (16783,)\n",
      "[0.66666667 1.         0.33333333 0.5       ]\n"
     ]
    },
    {
     "name": "stderr",
     "output_type": "stream",
     "text": [
      "[Parallel(n_jobs=30)]: Done  40 out of  40 | elapsed:    0.1s finished\n",
      "[Parallel(n_jobs=30)]: Using backend LokyBackend with 30 concurrent workers.\n",
      "[Parallel(n_jobs=30)]: Done  22 out of  40 | elapsed:    0.1s remaining:    0.1s\n",
      "[Parallel(n_jobs=30)]: Done  40 out of  40 | elapsed:    0.1s finished\n"
     ]
    },
    {
     "name": "stdout",
     "output_type": "stream",
     "text": [
      "(38399, 15) (38311, 15) (88, 15) (38399,)\n",
      "[0.62828947 0.58823529 0.625      0.60606061]\n",
      "(12419, 15) (12405, 15) (14, 15) (12419,)\n"
     ]
    },
    {
     "name": "stderr",
     "output_type": "stream",
     "text": [
      "[Parallel(n_jobs=30)]: Using backend LokyBackend with 30 concurrent workers.\n",
      "[Parallel(n_jobs=30)]: Done  22 out of  40 | elapsed:    0.1s remaining:    0.1s\n",
      "[Parallel(n_jobs=30)]: Done  40 out of  40 | elapsed:    0.1s finished\n",
      "[Parallel(n_jobs=30)]: Using backend LokyBackend with 30 concurrent workers.\n"
     ]
    },
    {
     "name": "stdout",
     "output_type": "stream",
     "text": [
      "[0.375      0.6        0.75       0.66666667]\n",
      "(34990, 15) (34966, 15) (24, 15) (34990,)\n"
     ]
    },
    {
     "name": "stderr",
     "output_type": "stream",
     "text": [
      "[Parallel(n_jobs=30)]: Done  22 out of  40 | elapsed:    0.1s remaining:    0.1s\n",
      "[Parallel(n_jobs=30)]: Done  40 out of  40 | elapsed:    0.1s finished\n",
      "[Parallel(n_jobs=30)]: Using backend LokyBackend with 30 concurrent workers.\n",
      "[Parallel(n_jobs=30)]: Done  22 out of  40 | elapsed:    0.1s remaining:    0.1s\n"
     ]
    },
    {
     "name": "stdout",
     "output_type": "stream",
     "text": [
      "[0.8125     0.4        1.         0.57142857]\n",
      "(20787, 15) (20736, 15) (51, 15) (20787,)\n"
     ]
    },
    {
     "name": "stderr",
     "output_type": "stream",
     "text": [
      "[Parallel(n_jobs=30)]: Done  40 out of  40 | elapsed:    0.1s finished\n",
      "[Parallel(n_jobs=30)]: Using backend LokyBackend with 30 concurrent workers.\n",
      "[Parallel(n_jobs=30)]: Done  22 out of  40 | elapsed:    0.1s remaining:    0.1s\n"
     ]
    },
    {
     "name": "stdout",
     "output_type": "stream",
     "text": [
      "[0.7375 0.6    0.6    0.6   ]\n",
      "(28302, 15) (28247, 15) (55, 15) (28302,)\n"
     ]
    },
    {
     "name": "stderr",
     "output_type": "stream",
     "text": [
      "[Parallel(n_jobs=30)]: Done  40 out of  40 | elapsed:    0.1s finished\n",
      "[Parallel(n_jobs=30)]: Using backend LokyBackend with 30 concurrent workers.\n",
      "[Parallel(n_jobs=30)]: Done  22 out of  40 | elapsed:    0.1s remaining:    0.1s\n"
     ]
    },
    {
     "name": "stdout",
     "output_type": "stream",
     "text": [
      "[0.625 1.    0.25  0.4  ]\n",
      "(23317, 15) (23285, 15) (32, 15) (23317,)\n",
      "[0.5 0.  0.  0. ]\n"
     ]
    },
    {
     "name": "stderr",
     "output_type": "stream",
     "text": [
      "[Parallel(n_jobs=30)]: Done  40 out of  40 | elapsed:    0.1s finished\n",
      "[Parallel(n_jobs=30)]: Using backend LokyBackend with 30 concurrent workers.\n",
      "[Parallel(n_jobs=30)]: Done  22 out of  40 | elapsed:    0.1s remaining:    0.1s\n",
      "[Parallel(n_jobs=30)]: Done  40 out of  40 | elapsed:    0.1s finished\n"
     ]
    },
    {
     "name": "stdout",
     "output_type": "stream",
     "text": [
      "(15920, 15) (15882, 15) (38, 15) (15920,)\n",
      "[0.75       1.         0.5        0.66666667]\n",
      "(26549, 15) (26482, 15) (67, 15) (26549,)\n"
     ]
    },
    {
     "name": "stderr",
     "output_type": "stream",
     "text": [
      "[Parallel(n_jobs=30)]: Using backend LokyBackend with 30 concurrent workers.\n",
      "[Parallel(n_jobs=30)]: Done  22 out of  40 | elapsed:    0.1s remaining:    0.1s\n",
      "[Parallel(n_jobs=30)]: Done  40 out of  40 | elapsed:    0.1s finished\n"
     ]
    },
    {
     "name": "stdout",
     "output_type": "stream",
     "text": [
      "[0.5        0.74074074 1.         0.85106383]\n",
      "(23348, 15) (23301, 15) (47, 15) (23348,)\n"
     ]
    },
    {
     "name": "stderr",
     "output_type": "stream",
     "text": [
      "[Parallel(n_jobs=30)]: Using backend LokyBackend with 30 concurrent workers.\n",
      "[Parallel(n_jobs=30)]: Done  22 out of  40 | elapsed:    0.1s remaining:    0.1s\n",
      "[Parallel(n_jobs=30)]: Done  40 out of  40 | elapsed:    0.1s finished\n",
      "[Parallel(n_jobs=30)]: Using backend LokyBackend with 30 concurrent workers.\n"
     ]
    },
    {
     "name": "stdout",
     "output_type": "stream",
     "text": [
      "[0.68589744 0.45454545 0.83333333 0.58823529]\n",
      "(14344, 15) (14309, 15) (35, 15) (14344,)\n"
     ]
    },
    {
     "name": "stderr",
     "output_type": "stream",
     "text": [
      "[Parallel(n_jobs=30)]: Done  22 out of  40 | elapsed:    0.1s remaining:    0.1s\n",
      "[Parallel(n_jobs=30)]: Done  40 out of  40 | elapsed:    0.1s finished\n",
      "[Parallel(n_jobs=30)]: Using backend LokyBackend with 30 concurrent workers.\n",
      "[Parallel(n_jobs=30)]: Done  22 out of  40 | elapsed:    0.1s remaining:    0.1s\n"
     ]
    },
    {
     "name": "stdout",
     "output_type": "stream",
     "text": [
      "[0.5 0.  0.  0. ]\n",
      "(28376, 15) (28307, 15) (69, 15) (28376,)\n"
     ]
    },
    {
     "name": "stderr",
     "output_type": "stream",
     "text": [
      "[Parallel(n_jobs=30)]: Done  40 out of  40 | elapsed:    0.1s finished\n",
      "[Parallel(n_jobs=30)]: Using backend LokyBackend with 30 concurrent workers.\n"
     ]
    },
    {
     "name": "stdout",
     "output_type": "stream",
     "text": [
      "[0.61904762 0.66666667 0.28571429 0.4       ]\n",
      "(27148, 15) (27076, 15) (72, 15) (27148,)\n"
     ]
    },
    {
     "name": "stderr",
     "output_type": "stream",
     "text": [
      "[Parallel(n_jobs=30)]: Done  22 out of  40 | elapsed:    0.1s remaining:    0.1s\n",
      "[Parallel(n_jobs=30)]: Done  40 out of  40 | elapsed:    0.1s finished\n",
      "[Parallel(n_jobs=30)]: Using backend LokyBackend with 30 concurrent workers.\n",
      "[Parallel(n_jobs=30)]: Done  22 out of  40 | elapsed:    0.1s remaining:    0.0s\n"
     ]
    },
    {
     "name": "stdout",
     "output_type": "stream",
     "text": [
      "[0.61904762 0.61538462 0.57142857 0.59259259]\n",
      "(16994, 15) (16939, 15) (55, 15) (16994,)\n"
     ]
    },
    {
     "name": "stderr",
     "output_type": "stream",
     "text": [
      "[Parallel(n_jobs=30)]: Done  40 out of  40 | elapsed:    0.1s finished\n",
      "[Parallel(n_jobs=30)]: Using backend LokyBackend with 30 concurrent workers.\n",
      "[Parallel(n_jobs=30)]: Done  22 out of  40 | elapsed:    0.1s remaining:    0.1s\n"
     ]
    },
    {
     "name": "stdout",
     "output_type": "stream",
     "text": [
      "[0.53809524 0.5        0.14285714 0.22222222]\n",
      "(36506, 15) (36413, 15) (93, 15) (36506,)\n",
      "[0.57142857 1.         0.14285714 0.25      ]\n",
      "(23282, 15) (23258, 15) (24, 15)"
     ]
    },
    {
     "name": "stderr",
     "output_type": "stream",
     "text": [
      "[Parallel(n_jobs=30)]: Done  40 out of  40 | elapsed:    0.1s finished\n",
      "[Parallel(n_jobs=30)]: Using backend LokyBackend with 30 concurrent workers.\n",
      "[Parallel(n_jobs=30)]: Done  22 out of  40 | elapsed:    0.1s remaining:    0.0s\n",
      "[Parallel(n_jobs=30)]: Done  40 out of  40 | elapsed:    0.1s finished\n"
     ]
    },
    {
     "name": "stdout",
     "output_type": "stream",
     "text": [
      " (23282,)\n",
      "[0.76190476 0.66666667 0.66666667 0.66666667]\n",
      "(33481, 15) (33445, 15) (36, 15) (33481,)\n"
     ]
    },
    {
     "name": "stderr",
     "output_type": "stream",
     "text": [
      "[Parallel(n_jobs=30)]: Using backend LokyBackend with 30 concurrent workers.\n",
      "[Parallel(n_jobs=30)]: Done  22 out of  40 | elapsed:    0.1s remaining:    0.1s\n",
      "[Parallel(n_jobs=30)]: Done  40 out of  40 | elapsed:    0.1s finished\n",
      "[Parallel(n_jobs=30)]: Using backend LokyBackend with 30 concurrent workers.\n"
     ]
    },
    {
     "name": "stdout",
     "output_type": "stream",
     "text": [
      "[0.6        0.69230769 1.         0.81818182]\n",
      "(14151, 15) (14104, 15) (47, 15) (14151,)\n"
     ]
    },
    {
     "name": "stderr",
     "output_type": "stream",
     "text": [
      "[Parallel(n_jobs=30)]: Done  22 out of  40 | elapsed:    0.1s remaining:    0.1s\n",
      "[Parallel(n_jobs=30)]: Done  40 out of  40 | elapsed:    0.1s finished\n",
      "[Parallel(n_jobs=30)]: Using backend LokyBackend with 30 concurrent workers.\n",
      "[Parallel(n_jobs=30)]: Done  22 out of  40 | elapsed:    0.1s remaining:    0.1s\n"
     ]
    },
    {
     "name": "stdout",
     "output_type": "stream",
     "text": [
      "[0.5 0.  0.  0. ]\n",
      "(29338, 15) (29304, 15) (34, 15) (29338,)\n",
      "[0.625 1.    0.25  0.4  ]\n"
     ]
    },
    {
     "name": "stderr",
     "output_type": "stream",
     "text": [
      "[Parallel(n_jobs=30)]: Done  40 out of  40 | elapsed:    0.1s finished\n",
      "[Parallel(n_jobs=30)]: Using backend LokyBackend with 30 concurrent workers.\n",
      "[Parallel(n_jobs=30)]: Done  22 out of  40 | elapsed:    0.1s remaining:    0.0s\n",
      "[Parallel(n_jobs=30)]: Done  40 out of  40 | elapsed:    0.1s finished\n"
     ]
    },
    {
     "name": "stdout",
     "output_type": "stream",
     "text": [
      "(21581, 15) (21541, 15) (40, 15) (21581,)\n",
      "[0.5        0.75       1.         0.85714286]\n",
      "(34966, 15) (34913, 15) (53, 15) (34966,)\n"
     ]
    },
    {
     "name": "stderr",
     "output_type": "stream",
     "text": [
      "[Parallel(n_jobs=30)]: Using backend LokyBackend with 30 concurrent workers.\n",
      "[Parallel(n_jobs=30)]: Done  22 out of  40 | elapsed:    0.1s remaining:    0.1s\n",
      "[Parallel(n_jobs=30)]: Done  40 out of  40 | elapsed:    0.1s finished\n"
     ]
    },
    {
     "name": "stdout",
     "output_type": "stream",
     "text": [
      "[0.74375    0.91666667 0.6875     0.78571429]\n",
      "(17560, 15) (17534, 15) (26, 15) (17560,)\n"
     ]
    },
    {
     "name": "stderr",
     "output_type": "stream",
     "text": [
      "[Parallel(n_jobs=30)]: Using backend LokyBackend with 30 concurrent workers.\n",
      "[Parallel(n_jobs=30)]: Done  22 out of  40 | elapsed:    0.1s remaining:    0.1s\n",
      "[Parallel(n_jobs=30)]: Done  40 out of  40 | elapsed:    0.1s finished\n"
     ]
    },
    {
     "name": "stdout",
     "output_type": "stream",
     "text": [
      "[0.79166667 0.75       0.75       0.75      ]\n"
     ]
    },
    {
     "name": "stderr",
     "output_type": "stream",
     "text": [
      "[Parallel(n_jobs=30)]: Using backend LokyBackend with 30 concurrent workers.\n",
      "[Parallel(n_jobs=30)]: Done  22 out of  40 | elapsed:    0.1s remaining:    0.1s\n",
      "[Parallel(n_jobs=30)]: Done  40 out of  40 | elapsed:    0.2s finished\n"
     ]
    },
    {
     "name": "stdout",
     "output_type": "stream",
     "text": [
      "(34512, 15) (34493, 15) (19, 15) (34512,)\n",
      "[0.75       0.66666667 1.         0.8       ]\n",
      "(32037, 15) (32003, 15) (34, 15) (32037,)\n"
     ]
    },
    {
     "name": "stderr",
     "output_type": "stream",
     "text": [
      "[Parallel(n_jobs=30)]: Using backend LokyBackend with 30 concurrent workers.\n",
      "[Parallel(n_jobs=30)]: Done  22 out of  40 | elapsed:    0.1s remaining:    0.1s\n",
      "[Parallel(n_jobs=30)]: Done  40 out of  40 | elapsed:    0.1s finished\n",
      "[Parallel(n_jobs=30)]: Using backend LokyBackend with 30 concurrent workers.\n"
     ]
    },
    {
     "name": "stdout",
     "output_type": "stream",
     "text": [
      "[0.78888889 0.66666667 0.8        0.72727273]\n",
      "(35760, 15) (35718, 15) (42, 15) (35760,)\n"
     ]
    },
    {
     "name": "stderr",
     "output_type": "stream",
     "text": [
      "[Parallel(n_jobs=30)]: Done  22 out of  40 | elapsed:    0.1s remaining:    0.1s\n",
      "[Parallel(n_jobs=30)]: Done  40 out of  40 | elapsed:    0.1s finished\n",
      "[Parallel(n_jobs=30)]: Using backend LokyBackend with 30 concurrent workers.\n",
      "[Parallel(n_jobs=30)]: Done  22 out of  40 | elapsed:    0.1s remaining:    0.1s\n"
     ]
    },
    {
     "name": "stdout",
     "output_type": "stream",
     "text": [
      "[0.83653846 0.92307692 0.92307692 0.92307692]\n",
      "(13762, 15) (13738, 15) (24, 15) (13762,)\n",
      "[1. 1. 1. 1.]\n"
     ]
    },
    {
     "name": "stderr",
     "output_type": "stream",
     "text": [
      "[Parallel(n_jobs=30)]: Done  40 out of  40 | elapsed:    0.1s finished\n",
      "[Parallel(n_jobs=30)]: Using backend LokyBackend with 30 concurrent workers.\n",
      "[Parallel(n_jobs=30)]: Done  22 out of  40 | elapsed:    0.1s remaining:    0.1s\n",
      "[Parallel(n_jobs=30)]: Done  40 out of  40 | elapsed:    0.1s finished\n"
     ]
    },
    {
     "name": "stdout",
     "output_type": "stream",
     "text": [
      "(36052, 15) (36020, 15) (32, 15) (36052,)\n",
      "[0.75       1.         0.5        0.66666667]\n",
      "(34290, 15) (34208, 15) (82, 15) (34290,)\n"
     ]
    },
    {
     "name": "stderr",
     "output_type": "stream",
     "text": [
      "[Parallel(n_jobs=30)]: Using backend LokyBackend with 30 concurrent workers.\n",
      "[Parallel(n_jobs=30)]: Done  22 out of  40 | elapsed:    0.1s remaining:    0.1s\n",
      "[Parallel(n_jobs=30)]: Done  40 out of  40 | elapsed:    0.1s finished\n",
      "[Parallel(n_jobs=30)]: Using backend LokyBackend with 30 concurrent workers.\n"
     ]
    },
    {
     "name": "stdout",
     "output_type": "stream",
     "text": [
      "[0.68478261 0.625      0.5        0.55555556]\n"
     ]
    },
    {
     "name": "stderr",
     "output_type": "stream",
     "text": [
      "[Parallel(n_jobs=30)]: Done  22 out of  40 | elapsed:    0.1s remaining:    0.1s\n",
      "[Parallel(n_jobs=30)]: Done  40 out of  40 | elapsed:    0.1s finished\n"
     ]
    }
   ],
   "source": [
    "from sklearn.model_selection import train_test_split,ParameterGrid\n",
    "from frameworks.SelfLearning import SelfLearningModel\n",
    "from frameworks.CPLELearning import CPLELearningModel\n",
    "all_y = []\n",
    "all_y_pred = []\n",
    "all_groups = []\n",
    "def get_labels(y):\n",
    "    temp = np.array([np.mean(a) for a in y])\n",
    "    temp_mean = np.mean(temp)\n",
    "    index2 = np.where(temp>temp_mean)[0]\n",
    "    index1 = np.where(temp<=temp_mean)[0]\n",
    "    temp[index2] = 1\n",
    "    temp[index1] = 0\n",
    "    labels = temp\n",
    "    labels = np.int64(np.array(labels))\n",
    "    return labels\n",
    "def get_model_performance(X_train,y_train,X_test,y_test,params):\n",
    "    clf = LogisticRegression(**params)\n",
    "#     clf = SVC(**params)\n",
    "#     clf = RandomForestClassifier(**params)\n",
    "#     clf = SelfLearningModel(clf)\n",
    "    clf.fit(X_train,y_train)\n",
    "    y_pred = clf.predict(X_test[y_test>-1])\n",
    "    y_test = y_test[y_test>-1]\n",
    "    print(np.array([f1_score(y_test,y_pred),roc_auc_score(y_test,y_pred)]))\n",
    "    return np.array([roc_auc_score(y_test,y_pred),\n",
    "                     precision_score(y_test,y_pred),\n",
    "                     recall_score(y_test,y_pred),\n",
    "                     f1_score(y_test,y_pred)])\n",
    "    \n",
    "all_results = []\n",
    "for user in np.unique(groups1):\n",
    "    index = np.where(groups1==user)[0]\n",
    "    X1,y,groups = Xfeatures[index],y1[index],groups1[index]\n",
    "    index_not_nan = y!=None \n",
    "    X_nn,y_nn,groups_nn = X1[index_not_nan],y[index_not_nan],groups[index_not_nan]\n",
    "    X_n,y_n,groups_n = X1[~index_not_nan],y[~index_not_nan],groups[~index_not_nan]\n",
    "    y_nn = np.array(get_labels(y_nn))\n",
    "    if len(np.unique(y_nn))<2:\n",
    "        continue\n",
    "    if len(y_nn[y_nn==1])<3:\n",
    "        continue\n",
    "    if len(y_nn[y_nn==0])<3:\n",
    "        continue\n",
    "    y_n = [-1]*len(y_n)\n",
    "    X1 = np.concatenate([X_nn,X_n],axis=0)\n",
    "    labels = np.array(list(y_nn)+y_n)\n",
    "    print(X1.shape,X_n.shape,X_nn.shape,labels.shape)\n",
    "    X_train, X_test, y_train, y_test = train_test_split(X1, labels, test_size=0.4, random_state=4,stratify=labels)\n",
    "    paramGrid = ParameterGrid({\n",
    "            'C': np.logspace(-3,3,10),\n",
    "            'class_weight':[{0:1,1:4/2},{0:1,1:3/2},{0:1,1:5/2},{0:1,1:1}],\n",
    "#             'probability':[True]\n",
    "    })\n",
    "    result = np.array(Parallel(n_jobs=30,verbose=1)(delayed(get_model_performance)(X_train[y_train>-1],\n",
    "                                                                                   y_train[y_train>-1],\n",
    "                                                                                  X_test,y_test,params) for params in paramGrid))\n",
    "    if len(result[result[:,0]>=.5])>0:\n",
    "        result = result[result[:,0]>=.5]\n",
    "        all_results.append(result[np.argmax(result[:,-1])])\n",
    "    else:\n",
    "        all_results.append(result[np.argmax(result[:,-1])])\n",
    "    print(result[np.argmax(result[:,1])])\n"
   ]
  },
  {
   "cell_type": "code",
   "execution_count": 16,
   "metadata": {},
   "outputs": [
    {
     "data": {
      "image/png": "[encoded data removed]",
      "text/plain": [
       "<Figure size 864x576 with 1 Axes>"
      ]
     },
     "metadata": {
      "needs_background": "light"
     },
     "output_type": "display_data"
    }
   ],
   "source": [
    "all_results = np.array(all_results)\n",
    "\n",
    "plt.figure(figsize=(12,8))\n",
    "plt.boxplot(all_results)\n",
    "plt.show()"
   ]
  },
  {
   "cell_type": "code",
   "execution_count": 17,
   "metadata": {
    "scrolled": false
   },
   "outputs": [
    {
     "data": {
      "text/plain": [
       "<Figure size 432x288 with 0 Axes>"
      ]
     },
     "metadata": {},
     "output_type": "display_data"
    },
    {
     "data": {
      "image/png": "[encoded data removed]",
      "text/plain": [
       "<Figure size 864x576 with 1 Axes>"
      ]
     },
     "metadata": {
      "needs_background": "light"
     },
     "output_type": "display_data"
    },
    {
     "data": {
      "image/png": "[encoded data removed]",
      "text/plain": [
       "<Figure size 864x576 with 1 Axes>"
      ]
     },
     "metadata": {
      "needs_background": "light"
     },
     "output_type": "display_data"
    },
    {
     "data": {
      "image/png": "[encoded data removed]",
      "text/plain": [
       "<Figure size 864x576 with 1 Axes>"
      ]
     },
     "metadata": {
      "needs_background": "light"
     },
     "output_type": "display_data"
    },
    {
     "data": {
      "image/png": "[encoded data removed]",
      "text/plain": [
       "<Figure size 864x576 with 1 Axes>"
      ]
     },
     "metadata": {
      "needs_background": "light"
     },
     "output_type": "display_data"
    }
   ],
   "source": [
    "all_results = all_results[all_results[:,0].argsort()]\n",
    "plt.figure()\n",
    "roc = all_results[:,0]\n",
    "precision = all_results[:,1]\n",
    "recall = all_results[:,2]\n",
    "f1 = all_results[:,3]\n",
    "x = np.array([i*2 for i in range(len(roc))])\n",
    "plt.figure(figsize=(12,8))\n",
    "plt.bar(x,roc,1)\n",
    "plt.show()\n",
    "plt.figure(figsize=(12,8))\n",
    "plt.bar(x,precision,1)\n",
    "plt.show()\n",
    "plt.figure(figsize=(12,8))\n",
    "plt.bar(x,recall,1)\n",
    "plt.show()\n",
    "plt.figure(figsize=(12,8))\n",
    "plt.bar(x,f1,.5)\n",
    "plt.show()\n",
    "# plt.show()"
   ]
  },
  {
   "cell_type": "code",
   "execution_count": 62,
   "metadata": {},
   "outputs": [
    {
     "data": {
      "text/plain": [
       "array([0.63888889, 0.57142857, 1.        , 0.66666667])"
      ]
     },
     "execution_count": 62,
     "metadata": {},
     "output_type": "execute_result"
    }
   ],
   "source": [
    "np.median(all_results,axis=0)"
   ]
  },
  {
   "cell_type": "code",
   "execution_count": 18,
   "metadata": {},
   "outputs": [
    {
     "data": {
      "text/plain": [
       "array([0.64285714, 0.58333333, 0.8       , 0.66666667])"
      ]
     },
     "execution_count": 18,
     "metadata": {},
     "output_type": "execute_result"
    }
   ],
   "source": [
    "np.median(all_results,axis=0)"
   ]
  },
  {
   "cell_type": "code",
   "execution_count": 11,
   "metadata": {},
   "outputs": [
    {
     "data": {
      "text/plain": [
       "1749132"
      ]
     },
     "execution_count": 11,
     "metadata": {},
     "output_type": "execute_result"
    }
   ],
   "source": [
    "len(Xf)"
   ]
  },
  {
   "cell_type": "code",
   "execution_count": 18,
   "metadata": {},
   "outputs": [],
   "source": [
    "index = y!=None"
   ]
  },
  {
   "cell_type": "code",
   "execution_count": 21,
   "metadata": {},
   "outputs": [
    {
     "data": {
      "text/plain": [
       "(15803, 15)"
      ]
     },
     "execution_count": 21,
     "metadata": {},
     "output_type": "execute_result"
    }
   ],
   "source": [
    "X1.shape"
   ]
  },
  {
   "cell_type": "code",
   "execution_count": null,
   "metadata": {},
   "outputs": [],
   "source": []
  }
 ],
 "metadata": {
  "kernelspec": {
   "display_name": "Python 3",
   "language": "python",
   "name": "python3"
  },
  "language_info": {
   "codemirror_mode": {
    "name": "ipython",
    "version": 3
   },
   "file_extension": ".py",
   "mimetype": "text/x-python",
   "name": "python",
   "nbconvert_exporter": "python",
   "pygments_lexer": "ipython3",
   "version": "3.6.8"
  }
 },
 "nbformat": 4,
 "nbformat_minor": 2
}
