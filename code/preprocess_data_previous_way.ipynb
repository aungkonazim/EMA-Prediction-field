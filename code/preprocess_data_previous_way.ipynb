{
 "cells": [
  {
   "cell_type": "code",
   "execution_count": 1,
   "metadata": {},
   "outputs": [],
   "source": [
    "import pickle\n",
    "import pandas as pd\n",
    "import numpy as np\n",
    "from sklearn.feature_selection import SelectKBest,f_classif\n",
    "from sklearn.decomposition import PCA\n",
    "from pprint import pprint\n",
    "from sklearn.metrics import f1_score,r2_score,classification_report,roc_auc_score\n",
    "from sklearn.model_selection import ParameterGrid\n",
    "from sklearn.ensemble import RandomForestClassifier,AdaBoostClassifier,RandomForestRegressor\n",
    "from sklearn.svm import SVC\n",
    "from sklearn.pipeline import Pipeline\n",
    "from sklearn.decomposition import PCA\n",
    "from sklearn.metrics import confusion_matrix,f1_score,precision_score,recall_score,accuracy_score\n",
    "import itertools\n",
    "from sklearn.model_selection import ParameterGrid, cross_val_predict, GroupKFold,GridSearchCV,StratifiedKFold\n",
    "from sklearn import preprocessing\n",
    "from sklearn.tree import DecisionTreeClassifier\n",
    "from sklearn.linear_model import LogisticRegression\n",
    "import matplotlib.pyplot as plt\n",
    "%matplotlib inline\n",
    "from datetime import datetime\n",
    "from joblib import Parallel,delayed\n",
    "\n",
    "def svar(X):\n",
    "    n = float(len(X))\n",
    "    svar=(sum([(x-np.mean(X))**2 for x in X]) / n)* n/(n-1.)\n",
    "    return svar\n",
    "\n",
    "def CronbachAlpha(itemscores):\n",
    "    itemvars = [svar(item) for item in itemscores]\n",
    "    tscores = [0] * len(itemscores[0])\n",
    "    for item in itemscores:\n",
    "        for i in range(len(item)):\n",
    "            tscores[i]+= item[i]\n",
    "    nitems = len(itemscores)\n",
    "    Calpha=nitems/(nitems-1.) * (1-sum(itemvars)/ svar(tscores))\n",
    "    return Calpha\n",
    "\n",
    "from scipy.stats import iqr,skew,kurtosis,pearsonr\n",
    "from scipy.stats import variation,moment\n",
    "\n",
    "def get_features1(x):\n",
    "    temp = []\n",
    "    temp.append(x[-1])\n",
    "    temp.append(x[0])\n",
    "    temp.append(x[len(x)//2])\n",
    "    temp.append(iqr(x))\n",
    "    temp.append(skew(x))\n",
    "    temp.append(kurtosis(x))\n",
    "    temp.append(variation(x))\n",
    "    temp.append(iqr(x[:len(x)//2]))\n",
    "    temp.append(skew(x[:len(x)//2]))\n",
    "    temp.append(kurtosis(x[:len(x)//2]))\n",
    "    temp.append(variation(x[:len(x)//2]))\n",
    "    temp.append(iqr(x[len(x)//2:]))\n",
    "    temp.append(skew(x[len(x)//2:]))\n",
    "    temp.append(kurtosis(x[len(x)//2:]))\n",
    "    temp.append(variation(x[len(x)//2:]))\n",
    "    return np.array(temp)\n",
    "\n",
    "# def get_features()\n",
    "\n",
    "def get_features(temp,user):\n",
    "    if temp.shape[0]<5:\n",
    "        return -1,-1,-1,-1,-1\n",
    "    if temp['time'].values[-1]-temp['time'].values[0]>1000:\n",
    "        return -1,-1,-1,-1,-1\n",
    "    if np.isnan(temp['score'].values[-1]):\n",
    "        return -1,-1,-1,-1,-1\n",
    "    a = temp['stress_likelihood'].values\n",
    "    b = temp['all_scores'].values[-1]\n",
    "    c = user\n",
    "    hour = datetime.fromtimestamp(temp['time'].values[0]).hour\n",
    "    if hour<8:\n",
    "        d = 0\n",
    "    elif hour>8 and hour < 16:\n",
    "        d = 1\n",
    "    else:\n",
    "        d = 2\n",
    "    e = user+temp['day'].values[-1]\n",
    "    return a,b,c,d,e\n",
    "\n",
    "def get_user_data(user_data,user):\n",
    "    X_date = []\n",
    "    X = []\n",
    "    y = []\n",
    "    groups = []\n",
    "    days = []\n",
    "    for day in np.unique(user_data['day'].values):\n",
    "        user_day_data =  user_data[user_data.day.isin([day])].reset_index(drop=True)\n",
    "        ema_data = user_day_data.dropna().reset_index(drop=True)\n",
    "        if ema_data.shape[0]==0:\n",
    "            continue\n",
    "        user_day_data_values = user_day_data[['time','stress_likelihood','imputed']].values\n",
    "        user_day_data_values = user_day_data_values[user_day_data_values[:,0].argsort()]\n",
    "        for i,row in ema_data.iterrows():\n",
    "            if np.abs(user_day_data_values[:,0]-row['time']).min()>180:\n",
    "                continue\n",
    "            index = np.abs(user_day_data_values[:,0]-row['time']).argmin()\n",
    "            if index<=5 or len(user_day_data_values[(index-10):(index+1),1])<5:\n",
    "                continue\n",
    "            X.append(user_day_data_values[(index-10):(index+1),1])\n",
    "            y.append(row['all_scores'])\n",
    "            hour = datetime.fromtimestamp(row['time']).hour\n",
    "            if hour<8:\n",
    "                X_date.append(0)\n",
    "            elif hour>8 and hour < 16:\n",
    "                X_date.append(1)\n",
    "            else:\n",
    "                X_date.append(2)\n",
    "            groups.append(user)\n",
    "            days.append(user+day)\n",
    "    return X,y,groups,X_date,days\n",
    "\n",
    "def get_data(all_stress):\n",
    "    X_date,X,y,groups,days = [],[],[],[],[]\n",
    "    final = [get_user_data(all_stress[all_stress.user.isin([user])],user) \n",
    "                                          for user in np.unique(all_stress['user'].values)]\n",
    "    for a in final:\n",
    "        X.extend(a[0])\n",
    "        y.extend(a[1])\n",
    "        groups.extend(a[2])\n",
    "        X_date.extend(a[3])\n",
    "        days.extend(a[4])\n",
    "    return X,y,groups,X_date,days"
   ]
  },
  {
   "cell_type": "code",
   "execution_count": 7,
   "metadata": {},
   "outputs": [],
   "source": [
    "import warnings\n",
    "import pickle\n",
    "warnings.filterwarnings('ignore')\n",
    "from sklearn.preprocessing import StandardScaler,OneHotEncoder\n",
    "all_stress_left = pickle.load(open('../data/stress_ema_md2k_aa_rice_left_ppg.p','rb'))\n",
    "# all_stress_left = all_stress_left[all_stress_left.imputed.isin([0])]\n",
    "all_stress_right = pickle.load(open('../data/stress_ema_md2k_aa_rice_right1_ppg.p','rb'))\n",
    "# all_stress_right = all_stress_right[all_stress_right.imputed.isin([0])]"
   ]
  },
  {
   "cell_type": "code",
   "execution_count": 8,
   "metadata": {
    "scrolled": true
   },
   "outputs": [],
   "source": [
    "X2,y2,groups2,X_date2,days2 = get_data(all_stress_left)\n",
    "X3,y3,groups3,X_date3,days3 = get_data(all_stress_right)\n",
    "Xf,yf,groupsf,X_datef,daysf = X2+X3,y2+y3,groups2+groups3,X_date2+X_date3,days2+days3"
   ]
  },
  {
   "cell_type": "code",
   "execution_count": 9,
   "metadata": {},
   "outputs": [],
   "source": [
    "pickle.dump([Xf,yf,groupsf,X_datef,daysf],open('../data/ema_only_imputed_previous_way.p','wb'))"
   ]
  },
  {
   "cell_type": "code",
   "execution_count": 15,
   "metadata": {},
   "outputs": [
    {
     "name": "stdout",
     "output_type": "stream",
     "text": [
      "(20, 5)\n",
      "(67, 5)\n",
      "Fitting 10 folds for each of 80 candidates, totalling 800 fits\n"
     ]
    },
    {
     "name": "stderr",
     "output_type": "stream",
     "text": [
      "[Parallel(n_jobs=-1)]: Using backend LokyBackend with 24 concurrent workers.\n",
      "[Parallel(n_jobs=-1)]: Done   2 tasks      | elapsed:    0.1s\n",
      "[Parallel(n_jobs=-1)]: Done 800 out of 800 | elapsed:    1.1s finished\n",
      "[Parallel(n_jobs=-1)]: Using backend LokyBackend with 24 concurrent workers.\n"
     ]
    },
    {
     "name": "stdout",
     "output_type": "stream",
     "text": [
      "[[10 17]\n",
      " [ 7 33]]               precision    recall  f1-score   support\n",
      "\n",
      "           0       0.59      0.37      0.45        27\n",
      "           1       0.66      0.82      0.73        40\n",
      "\n",
      "   micro avg       0.64      0.64      0.64        67\n",
      "   macro avg       0.62      0.60      0.59        67\n",
      "weighted avg       0.63      0.64      0.62        67\n",
      "\n",
      "(59, 5)\n",
      "Fitting 4 folds for each of 80 candidates, totalling 320 fits\n"
     ]
    },
    {
     "name": "stderr",
     "output_type": "stream",
     "text": [
      "[Parallel(n_jobs=-1)]: Done 320 out of 320 | elapsed:    0.4s finished\n",
      "[Parallel(n_jobs=-1)]: Using backend LokyBackend with 24 concurrent workers.\n",
      "[Parallel(n_jobs=-1)]: Done   2 tasks      | elapsed:    0.1s\n"
     ]
    },
    {
     "name": "stdout",
     "output_type": "stream",
     "text": [
      "[[55  0]\n",
      " [ 4  0]]               precision    recall  f1-score   support\n",
      "\n",
      "           0       0.93      1.00      0.96        55\n",
      "           1       0.00      0.00      0.00         4\n",
      "\n",
      "   micro avg       0.93      0.93      0.93        59\n",
      "   macro avg       0.47      0.50      0.48        59\n",
      "weighted avg       0.87      0.93      0.90        59\n",
      "\n",
      "(24, 5)\n",
      "Fitting 4 folds for each of 80 candidates, totalling 320 fits\n"
     ]
    },
    {
     "name": "stderr",
     "output_type": "stream",
     "text": [
      "[Parallel(n_jobs=-1)]: Done 320 out of 320 | elapsed:    0.4s finished\n",
      "[Parallel(n_jobs=-1)]: Using backend LokyBackend with 24 concurrent workers.\n",
      "[Parallel(n_jobs=-1)]: Done   2 tasks      | elapsed:    0.1s\n"
     ]
    },
    {
     "name": "stdout",
     "output_type": "stream",
     "text": [
      "[[ 0  4]\n",
      " [ 0 20]]               precision    recall  f1-score   support\n",
      "\n",
      "           0       0.00      0.00      0.00         4\n",
      "           1       0.83      1.00      0.91        20\n",
      "\n",
      "   micro avg       0.83      0.83      0.83        24\n",
      "   macro avg       0.42      0.50      0.45        24\n",
      "weighted avg       0.69      0.83      0.76        24\n",
      "\n",
      "(43, 5)\n",
      "Fitting 10 folds for each of 80 candidates, totalling 800 fits\n"
     ]
    },
    {
     "name": "stderr",
     "output_type": "stream",
     "text": [
      "[Parallel(n_jobs=-1)]: Done 800 out of 800 | elapsed:    0.9s finished\n"
     ]
    },
    {
     "name": "stdout",
     "output_type": "stream",
     "text": [
      "[[ 0 15]\n",
      " [ 0 28]]               precision    recall  f1-score   support\n",
      "\n",
      "           0       0.00      0.00      0.00        15\n",
      "           1       0.65      1.00      0.79        28\n",
      "\n",
      "   micro avg       0.65      0.65      0.65        43\n",
      "   macro avg       0.33      0.50      0.39        43\n",
      "weighted avg       0.42      0.65      0.51        43\n",
      "\n",
      "(21, 5)\n",
      "(23, 5)\n",
      "Fitting 6 folds for each of 80 candidates, totalling 480 fits\n"
     ]
    },
    {
     "name": "stderr",
     "output_type": "stream",
     "text": [
      "[Parallel(n_jobs=-1)]: Using backend LokyBackend with 24 concurrent workers.\n",
      "[Parallel(n_jobs=-1)]: Done   2 tasks      | elapsed:    0.1s\n",
      "[Parallel(n_jobs=-1)]: Done 480 out of 480 | elapsed:    0.5s finished\n",
      "[Parallel(n_jobs=-1)]: Using backend LokyBackend with 24 concurrent workers.\n",
      "[Parallel(n_jobs=-1)]: Done   2 tasks      | elapsed:    0.1s\n"
     ]
    },
    {
     "name": "stdout",
     "output_type": "stream",
     "text": [
      "[[ 1  5]\n",
      " [ 1 16]]               precision    recall  f1-score   support\n",
      "\n",
      "           0       0.50      0.17      0.25         6\n",
      "           1       0.76      0.94      0.84        17\n",
      "\n",
      "   micro avg       0.74      0.74      0.74        23\n",
      "   macro avg       0.63      0.55      0.55        23\n",
      "weighted avg       0.69      0.74      0.69        23\n",
      "\n",
      "(82, 5)\n",
      "Fitting 10 folds for each of 80 candidates, totalling 800 fits\n"
     ]
    },
    {
     "name": "stderr",
     "output_type": "stream",
     "text": [
      "[Parallel(n_jobs=-1)]: Done 800 out of 800 | elapsed:    0.9s finished\n",
      "[Parallel(n_jobs=-1)]: Using backend LokyBackend with 24 concurrent workers.\n",
      "[Parallel(n_jobs=-1)]: Done   2 tasks      | elapsed:    0.1s\n"
     ]
    },
    {
     "name": "stdout",
     "output_type": "stream",
     "text": [
      "[[57  1]\n",
      " [21  3]]               precision    recall  f1-score   support\n",
      "\n",
      "           0       0.73      0.98      0.84        58\n",
      "           1       0.75      0.12      0.21        24\n",
      "\n",
      "   micro avg       0.73      0.73      0.73        82\n",
      "   macro avg       0.74      0.55      0.53        82\n",
      "weighted avg       0.74      0.73      0.66        82\n",
      "\n",
      "(50, 5)\n",
      "Fitting 4 folds for each of 80 candidates, totalling 320 fits\n"
     ]
    },
    {
     "name": "stderr",
     "output_type": "stream",
     "text": [
      "[Parallel(n_jobs=-1)]: Done 320 out of 320 | elapsed:    0.4s finished\n"
     ]
    },
    {
     "name": "stdout",
     "output_type": "stream",
     "text": [
      "[[46  0]\n",
      " [ 4  0]]               precision    recall  f1-score   support\n",
      "\n",
      "           0       0.92      1.00      0.96        46\n",
      "           1       0.00      0.00      0.00         4\n",
      "\n",
      "   micro avg       0.92      0.92      0.92        50\n",
      "   macro avg       0.46      0.50      0.48        50\n",
      "weighted avg       0.85      0.92      0.88        50\n",
      "\n",
      "(24, 5)\n",
      "(32, 5)\n",
      "(37, 5)\n",
      "Fitting 6 folds for each of 80 candidates, totalling 480 fits\n"
     ]
    },
    {
     "name": "stderr",
     "output_type": "stream",
     "text": [
      "[Parallel(n_jobs=-1)]: Using backend LokyBackend with 24 concurrent workers.\n",
      "[Parallel(n_jobs=-1)]: Done  48 tasks      | elapsed:    0.3s\n",
      "[Parallel(n_jobs=-1)]: Done 480 out of 480 | elapsed:    0.5s finished\n"
     ]
    },
    {
     "name": "stdout",
     "output_type": "stream",
     "text": [
      "[[31  0]\n",
      " [ 6  0]]               precision    recall  f1-score   support\n",
      "\n",
      "           0       0.84      1.00      0.91        31\n",
      "           1       0.00      0.00      0.00         6\n",
      "\n",
      "   micro avg       0.84      0.84      0.84        37\n",
      "   macro avg       0.42      0.50      0.46        37\n",
      "weighted avg       0.70      0.84      0.76        37\n",
      "\n",
      "(43, 5)\n",
      "Fitting 10 folds for each of 80 candidates, totalling 800 fits\n"
     ]
    },
    {
     "name": "stderr",
     "output_type": "stream",
     "text": [
      "[Parallel(n_jobs=-1)]: Using backend LokyBackend with 24 concurrent workers.\n",
      "[Parallel(n_jobs=-1)]: Done   2 tasks      | elapsed:    0.1s\n",
      "[Parallel(n_jobs=-1)]: Done 800 out of 800 | elapsed:    1.0s finished\n",
      "[Parallel(n_jobs=-1)]: Using backend LokyBackend with 24 concurrent workers.\n",
      "[Parallel(n_jobs=-1)]: Done   2 tasks      | elapsed:    0.0s\n"
     ]
    },
    {
     "name": "stdout",
     "output_type": "stream",
     "text": [
      "[[ 3 18]\n",
      " [ 1 21]]               precision    recall  f1-score   support\n",
      "\n",
      "           0       0.75      0.14      0.24        21\n",
      "           1       0.54      0.95      0.69        22\n",
      "\n",
      "   micro avg       0.56      0.56      0.56        43\n",
      "   macro avg       0.64      0.55      0.46        43\n",
      "weighted avg       0.64      0.56      0.47        43\n",
      "\n",
      "(26, 5)\n",
      "(60, 5)\n",
      "Fitting 10 folds for each of 80 candidates, totalling 800 fits\n"
     ]
    },
    {
     "name": "stderr",
     "output_type": "stream",
     "text": [
      "[Parallel(n_jobs=-1)]: Done 800 out of 800 | elapsed:    1.0s finished\n",
      "[Parallel(n_jobs=-1)]: Using backend LokyBackend with 24 concurrent workers.\n"
     ]
    },
    {
     "name": "stdout",
     "output_type": "stream",
     "text": [
      "[[ 0 28]\n",
      " [ 0 32]]               precision    recall  f1-score   support\n",
      "\n",
      "           0       0.00      0.00      0.00        28\n",
      "           1       0.53      1.00      0.70        32\n",
      "\n",
      "   micro avg       0.53      0.53      0.53        60\n",
      "   macro avg       0.27      0.50      0.35        60\n",
      "weighted avg       0.28      0.53      0.37        60\n",
      "\n",
      "(44, 5)\n",
      "Fitting 10 folds for each of 80 candidates, totalling 800 fits\n"
     ]
    },
    {
     "name": "stderr",
     "output_type": "stream",
     "text": [
      "[Parallel(n_jobs=-1)]: Done  16 tasks      | elapsed:    0.3s\n",
      "[Parallel(n_jobs=-1)]: Done 800 out of 800 | elapsed:    1.1s finished\n",
      "[Parallel(n_jobs=-1)]: Using backend LokyBackend with 24 concurrent workers.\n",
      "[Parallel(n_jobs=-1)]: Done   2 tasks      | elapsed:    0.1s\n"
     ]
    },
    {
     "name": "stdout",
     "output_type": "stream",
     "text": [
      "[[16 11]\n",
      " [ 6 11]]               precision    recall  f1-score   support\n",
      "\n",
      "           0       0.73      0.59      0.65        27\n",
      "           1       0.50      0.65      0.56        17\n",
      "\n",
      "   micro avg       0.61      0.61      0.61        44\n",
      "   macro avg       0.61      0.62      0.61        44\n",
      "weighted avg       0.64      0.61      0.62        44\n",
      "\n",
      "(47, 5)\n",
      "Fitting 10 folds for each of 80 candidates, totalling 800 fits\n"
     ]
    },
    {
     "name": "stderr",
     "output_type": "stream",
     "text": [
      "[Parallel(n_jobs=-1)]: Done 800 out of 800 | elapsed:    1.2s finished\n",
      "[Parallel(n_jobs=-1)]: Using backend LokyBackend with 24 concurrent workers.\n",
      "[Parallel(n_jobs=-1)]: Done   2 tasks      | elapsed:    0.1s\n"
     ]
    },
    {
     "name": "stdout",
     "output_type": "stream",
     "text": [
      "[[27  8]\n",
      " [ 0 12]]               precision    recall  f1-score   support\n",
      "\n",
      "           0       1.00      0.77      0.87        35\n",
      "           1       0.60      1.00      0.75        12\n",
      "\n",
      "   micro avg       0.83      0.83      0.83        47\n",
      "   macro avg       0.80      0.89      0.81        47\n",
      "weighted avg       0.90      0.83      0.84        47\n",
      "\n",
      "(30, 5)\n",
      "Fitting 4 folds for each of 80 candidates, totalling 320 fits\n"
     ]
    },
    {
     "name": "stderr",
     "output_type": "stream",
     "text": [
      "[Parallel(n_jobs=-1)]: Done 320 out of 320 | elapsed:    0.5s finished\n",
      "[Parallel(n_jobs=-1)]: Using backend LokyBackend with 24 concurrent workers.\n",
      "[Parallel(n_jobs=-1)]: Done   8 tasks      | elapsed:    0.2s\n"
     ]
    },
    {
     "name": "stdout",
     "output_type": "stream",
     "text": [
      "[[24  2]\n",
      " [ 2  2]]               precision    recall  f1-score   support\n",
      "\n",
      "           0       0.92      0.92      0.92        26\n",
      "           1       0.50      0.50      0.50         4\n",
      "\n",
      "   micro avg       0.87      0.87      0.87        30\n",
      "   macro avg       0.71      0.71      0.71        30\n",
      "weighted avg       0.87      0.87      0.87        30\n",
      "\n",
      "(44, 5)\n",
      "Fitting 10 folds for each of 80 candidates, totalling 800 fits\n"
     ]
    },
    {
     "name": "stderr",
     "output_type": "stream",
     "text": [
      "[Parallel(n_jobs=-1)]: Done 800 out of 800 | elapsed:    1.0s finished\n",
      "[Parallel(n_jobs=-1)]: Using backend LokyBackend with 24 concurrent workers.\n",
      "[Parallel(n_jobs=-1)]: Done   2 tasks      | elapsed:    0.1s\n"
     ]
    },
    {
     "name": "stdout",
     "output_type": "stream",
     "text": [
      "[[27  3]\n",
      " [10  4]]               precision    recall  f1-score   support\n",
      "\n",
      "           0       0.73      0.90      0.81        30\n",
      "           1       0.57      0.29      0.38        14\n",
      "\n",
      "   micro avg       0.70      0.70      0.70        44\n",
      "   macro avg       0.65      0.59      0.59        44\n",
      "weighted avg       0.68      0.70      0.67        44\n",
      "\n",
      "(88, 5)\n",
      "Fitting 4 folds for each of 80 candidates, totalling 320 fits\n"
     ]
    },
    {
     "name": "stderr",
     "output_type": "stream",
     "text": [
      "[Parallel(n_jobs=-1)]: Done 320 out of 320 | elapsed:    0.4s finished\n",
      "[Parallel(n_jobs=-1)]: Using backend LokyBackend with 24 concurrent workers.\n",
      "[Parallel(n_jobs=-1)]: Done   2 tasks      | elapsed:    0.0s\n"
     ]
    },
    {
     "name": "stdout",
     "output_type": "stream",
     "text": [
      "[[84  0]\n",
      " [ 4  0]]               precision    recall  f1-score   support\n",
      "\n",
      "           0       0.95      1.00      0.98        84\n",
      "           1       0.00      0.00      0.00         4\n",
      "\n",
      "   micro avg       0.95      0.95      0.95        88\n",
      "   macro avg       0.48      0.50      0.49        88\n",
      "weighted avg       0.91      0.95      0.93        88\n",
      "\n",
      "(34, 5)\n",
      "Fitting 4 folds for each of 80 candidates, totalling 320 fits\n"
     ]
    },
    {
     "name": "stderr",
     "output_type": "stream",
     "text": [
      "[Parallel(n_jobs=-1)]: Done 320 out of 320 | elapsed:    0.4s finished\n",
      "[Parallel(n_jobs=-1)]: Using backend LokyBackend with 24 concurrent workers.\n",
      "[Parallel(n_jobs=-1)]: Done   2 tasks      | elapsed:    0.1s\n"
     ]
    },
    {
     "name": "stdout",
     "output_type": "stream",
     "text": [
      "[[ 0  4]\n",
      " [ 0 30]]               precision    recall  f1-score   support\n",
      "\n",
      "           0       0.00      0.00      0.00         4\n",
      "           1       0.88      1.00      0.94        30\n",
      "\n",
      "   micro avg       0.88      0.88      0.88        34\n",
      "   macro avg       0.44      0.50      0.47        34\n",
      "weighted avg       0.78      0.88      0.83        34\n",
      "\n",
      "(57, 5)\n",
      "Fitting 10 folds for each of 80 candidates, totalling 800 fits\n"
     ]
    },
    {
     "name": "stderr",
     "output_type": "stream",
     "text": [
      "[Parallel(n_jobs=-1)]: Done 800 out of 800 | elapsed:    1.0s finished\n",
      "[Parallel(n_jobs=-1)]: Using backend LokyBackend with 24 concurrent workers.\n",
      "[Parallel(n_jobs=-1)]: Done   2 tasks      | elapsed:    0.1s\n"
     ]
    },
    {
     "name": "stdout",
     "output_type": "stream",
     "text": [
      "[[24  8]\n",
      " [17  8]]               precision    recall  f1-score   support\n",
      "\n",
      "           0       0.59      0.75      0.66        32\n",
      "           1       0.50      0.32      0.39        25\n",
      "\n",
      "   micro avg       0.56      0.56      0.56        57\n",
      "   macro avg       0.54      0.54      0.52        57\n",
      "weighted avg       0.55      0.56      0.54        57\n",
      "\n",
      "(44, 5)\n",
      "Fitting 10 folds for each of 80 candidates, totalling 800 fits\n"
     ]
    },
    {
     "name": "stderr",
     "output_type": "stream",
     "text": [
      "[Parallel(n_jobs=-1)]: Done 800 out of 800 | elapsed:    1.0s finished\n",
      "[Parallel(n_jobs=-1)]: Using backend LokyBackend with 24 concurrent workers.\n"
     ]
    },
    {
     "name": "stdout",
     "output_type": "stream",
     "text": [
      "[[ 0 14]\n",
      " [ 0 30]]               precision    recall  f1-score   support\n",
      "\n",
      "           0       0.00      0.00      0.00        14\n",
      "           1       0.68      1.00      0.81        30\n",
      "\n",
      "   micro avg       0.68      0.68      0.68        44\n",
      "   macro avg       0.34      0.50      0.41        44\n",
      "weighted avg       0.46      0.68      0.55        44\n",
      "\n",
      "(40, 5)\n",
      "Fitting 10 folds for each of 80 candidates, totalling 800 fits\n"
     ]
    },
    {
     "name": "stderr",
     "output_type": "stream",
     "text": [
      "[Parallel(n_jobs=-1)]: Done 800 out of 800 | elapsed:    0.8s finished\n",
      "[Parallel(n_jobs=-1)]: Using backend LokyBackend with 24 concurrent workers.\n",
      "[Parallel(n_jobs=-1)]: Done   2 tasks      | elapsed:    0.0s\n"
     ]
    },
    {
     "name": "stdout",
     "output_type": "stream",
     "text": [
      "[[11  9]\n",
      " [ 4 16]]               precision    recall  f1-score   support\n",
      "\n",
      "           0       0.73      0.55      0.63        20\n",
      "           1       0.64      0.80      0.71        20\n",
      "\n",
      "   micro avg       0.68      0.68      0.68        40\n",
      "   macro avg       0.69      0.68      0.67        40\n",
      "weighted avg       0.69      0.68      0.67        40\n",
      "\n",
      "(45, 5)\n",
      "Fitting 7 folds for each of 80 candidates, totalling 560 fits\n"
     ]
    },
    {
     "name": "stderr",
     "output_type": "stream",
     "text": [
      "[Parallel(n_jobs=-1)]: Done 560 out of 560 | elapsed:    0.6s finished\n",
      "[Parallel(n_jobs=-1)]: Using backend LokyBackend with 24 concurrent workers.\n",
      "[Parallel(n_jobs=-1)]: Done   2 tasks      | elapsed:    0.1s\n"
     ]
    },
    {
     "name": "stdout",
     "output_type": "stream",
     "text": [
      "[[ 0  7]\n",
      " [ 0 38]]               precision    recall  f1-score   support\n",
      "\n",
      "           0       0.00      0.00      0.00         7\n",
      "           1       0.84      1.00      0.92        38\n",
      "\n",
      "   micro avg       0.84      0.84      0.84        45\n",
      "   macro avg       0.42      0.50      0.46        45\n",
      "weighted avg       0.71      0.84      0.77        45\n",
      "\n",
      "(37, 5)\n",
      "Fitting 6 folds for each of 80 candidates, totalling 480 fits\n"
     ]
    },
    {
     "name": "stderr",
     "output_type": "stream",
     "text": [
      "[Parallel(n_jobs=-1)]: Done 480 out of 480 | elapsed:    0.6s finished\n",
      "[Parallel(n_jobs=-1)]: Using backend LokyBackend with 24 concurrent workers.\n",
      "[Parallel(n_jobs=-1)]: Done   2 tasks      | elapsed:    0.1s\n"
     ]
    },
    {
     "name": "stdout",
     "output_type": "stream",
     "text": [
      "[[31  0]\n",
      " [ 6  0]]               precision    recall  f1-score   support\n",
      "\n",
      "           0       0.84      1.00      0.91        31\n",
      "           1       0.00      0.00      0.00         6\n",
      "\n",
      "   micro avg       0.84      0.84      0.84        37\n",
      "   macro avg       0.42      0.50      0.46        37\n",
      "weighted avg       0.70      0.84      0.76        37\n",
      "\n",
      "(43, 5)\n",
      "Fitting 10 folds for each of 80 candidates, totalling 800 fits\n"
     ]
    },
    {
     "name": "stderr",
     "output_type": "stream",
     "text": [
      "[Parallel(n_jobs=-1)]: Done 800 out of 800 | elapsed:    1.0s finished\n",
      "[Parallel(n_jobs=-1)]: Using backend LokyBackend with 24 concurrent workers.\n",
      "[Parallel(n_jobs=-1)]: Done   7 tasks      | elapsed:    0.1s\n"
     ]
    },
    {
     "name": "stdout",
     "output_type": "stream",
     "text": [
      "[[ 8 14]\n",
      " [ 3 18]]               precision    recall  f1-score   support\n",
      "\n",
      "           0       0.73      0.36      0.48        22\n",
      "           1       0.56      0.86      0.68        21\n",
      "\n",
      "   micro avg       0.60      0.60      0.60        43\n",
      "   macro avg       0.64      0.61      0.58        43\n",
      "weighted avg       0.65      0.60      0.58        43\n",
      "\n",
      "(26, 5)\n",
      "Fitting 4 folds for each of 80 candidates, totalling 320 fits\n"
     ]
    },
    {
     "name": "stderr",
     "output_type": "stream",
     "text": [
      "[Parallel(n_jobs=-1)]: Done 320 out of 320 | elapsed:    0.4s finished\n",
      "[Parallel(n_jobs=-1)]: Using backend LokyBackend with 24 concurrent workers.\n",
      "[Parallel(n_jobs=-1)]: Done   2 tasks      | elapsed:    0.1s\n"
     ]
    },
    {
     "name": "stdout",
     "output_type": "stream",
     "text": [
      "[[ 0  4]\n",
      " [ 0 22]]               precision    recall  f1-score   support\n",
      "\n",
      "           0       0.00      0.00      0.00         4\n",
      "           1       0.85      1.00      0.92        22\n",
      "\n",
      "   micro avg       0.85      0.85      0.85        26\n",
      "   macro avg       0.42      0.50      0.46        26\n",
      "weighted avg       0.72      0.85      0.78        26\n",
      "\n",
      "(94, 5)\n",
      "Fitting 10 folds for each of 80 candidates, totalling 800 fits\n"
     ]
    },
    {
     "name": "stderr",
     "output_type": "stream",
     "text": [
      "[Parallel(n_jobs=-1)]: Done 800 out of 800 | elapsed:    0.9s finished\n",
      "[Parallel(n_jobs=-1)]: Using backend LokyBackend with 24 concurrent workers.\n"
     ]
    },
    {
     "name": "stdout",
     "output_type": "stream",
     "text": [
      "[[16 14]\n",
      " [14 50]]               precision    recall  f1-score   support\n",
      "\n",
      "           0       0.53      0.53      0.53        30\n",
      "           1       0.78      0.78      0.78        64\n",
      "\n",
      "   micro avg       0.70      0.70      0.70        94\n",
      "   macro avg       0.66      0.66      0.66        94\n",
      "weighted avg       0.70      0.70      0.70        94\n",
      "\n",
      "(44, 5)\n",
      "Fitting 10 folds for each of 80 candidates, totalling 800 fits\n"
     ]
    },
    {
     "name": "stderr",
     "output_type": "stream",
     "text": [
      "[Parallel(n_jobs=-1)]: Done  22 tasks      | elapsed:    0.3s\n",
      "[Parallel(n_jobs=-1)]: Done 800 out of 800 | elapsed:    1.0s finished\n",
      "[Parallel(n_jobs=-1)]: Using backend LokyBackend with 24 concurrent workers.\n"
     ]
    },
    {
     "name": "stdout",
     "output_type": "stream",
     "text": [
      "[[ 3 16]\n",
      " [ 1 24]]               precision    recall  f1-score   support\n",
      "\n",
      "           0       0.75      0.16      0.26        19\n",
      "           1       0.60      0.96      0.74        25\n",
      "\n",
      "   micro avg       0.61      0.61      0.61        44\n",
      "   macro avg       0.68      0.56      0.50        44\n",
      "weighted avg       0.66      0.61      0.53        44\n",
      "\n",
      "(47, 5)\n",
      "(20, 5)\n",
      "Fitting 6 folds for each of 80 candidates, totalling 480 fits\n"
     ]
    },
    {
     "name": "stderr",
     "output_type": "stream",
     "text": [
      "[Parallel(n_jobs=-1)]: Done 480 out of 480 | elapsed:    0.6s finished\n",
      "[Parallel(n_jobs=-1)]: Using backend LokyBackend with 24 concurrent workers.\n",
      "[Parallel(n_jobs=-1)]: Done   2 tasks      | elapsed:    0.1s\n"
     ]
    },
    {
     "name": "stdout",
     "output_type": "stream",
     "text": [
      "[[ 0  6]\n",
      " [ 0 14]]               precision    recall  f1-score   support\n",
      "\n",
      "           0       0.00      0.00      0.00         6\n",
      "           1       0.70      1.00      0.82        14\n",
      "\n",
      "   micro avg       0.70      0.70      0.70        20\n",
      "   macro avg       0.35      0.50      0.41        20\n",
      "weighted avg       0.49      0.70      0.58        20\n",
      "\n",
      "(88, 5)\n",
      "Fitting 10 folds for each of 80 candidates, totalling 800 fits\n"
     ]
    },
    {
     "name": "stderr",
     "output_type": "stream",
     "text": [
      "[Parallel(n_jobs=-1)]: Done 464 tasks      | elapsed:    0.9s\n",
      "[Parallel(n_jobs=-1)]: Done 800 out of 800 | elapsed:    1.2s finished\n",
      "[Parallel(n_jobs=-1)]: Using backend LokyBackend with 24 concurrent workers.\n",
      "[Parallel(n_jobs=-1)]: Done   2 tasks      | elapsed:    0.1s\n"
     ]
    },
    {
     "name": "stdout",
     "output_type": "stream",
     "text": [
      "[[33 15]\n",
      " [26 14]]               precision    recall  f1-score   support\n",
      "\n",
      "           0       0.56      0.69      0.62        48\n",
      "           1       0.48      0.35      0.41        40\n",
      "\n",
      "   micro avg       0.53      0.53      0.53        88\n",
      "   macro avg       0.52      0.52      0.51        88\n",
      "weighted avg       0.52      0.53      0.52        88\n",
      "\n",
      "(24, 5)\n",
      "Fitting 3 folds for each of 80 candidates, totalling 240 fits\n"
     ]
    },
    {
     "name": "stderr",
     "output_type": "stream",
     "text": [
      "[Parallel(n_jobs=-1)]: Done 240 out of 240 | elapsed:    0.3s finished\n",
      "[Parallel(n_jobs=-1)]: Using backend LokyBackend with 24 concurrent workers.\n",
      "[Parallel(n_jobs=-1)]: Done   2 tasks      | elapsed:    0.1s\n"
     ]
    },
    {
     "name": "stdout",
     "output_type": "stream",
     "text": [
      "[[ 0  3]\n",
      " [ 0 21]]               precision    recall  f1-score   support\n",
      "\n",
      "           0       0.00      0.00      0.00         3\n",
      "           1       0.88      1.00      0.93        21\n",
      "\n",
      "   micro avg       0.88      0.88      0.88        24\n",
      "   macro avg       0.44      0.50      0.47        24\n",
      "weighted avg       0.77      0.88      0.82        24\n",
      "\n",
      "(51, 5)\n",
      "Fitting 6 folds for each of 80 candidates, totalling 480 fits\n"
     ]
    },
    {
     "name": "stderr",
     "output_type": "stream",
     "text": [
      "[Parallel(n_jobs=-1)]: Done 480 out of 480 | elapsed:    0.7s finished\n",
      "[Parallel(n_jobs=-1)]: Using backend LokyBackend with 24 concurrent workers.\n",
      "[Parallel(n_jobs=-1)]: Done   2 tasks      | elapsed:    0.1s\n"
     ]
    },
    {
     "name": "stdout",
     "output_type": "stream",
     "text": [
      "[[ 0  6]\n",
      " [ 0 45]]               precision    recall  f1-score   support\n",
      "\n",
      "           0       0.00      0.00      0.00         6\n",
      "           1       0.88      1.00      0.94        45\n",
      "\n",
      "   micro avg       0.88      0.88      0.88        51\n",
      "   macro avg       0.44      0.50      0.47        51\n",
      "weighted avg       0.78      0.88      0.83        51\n",
      "\n",
      "(55, 5)\n",
      "(32, 5)\n",
      "(38, 5)\n",
      "Fitting 6 folds for each of 80 candidates, totalling 480 fits\n"
     ]
    },
    {
     "name": "stderr",
     "output_type": "stream",
     "text": [
      "[Parallel(n_jobs=-1)]: Done 480 out of 480 | elapsed:    0.6s finished\n"
     ]
    },
    {
     "name": "stdout",
     "output_type": "stream",
     "text": [
      "[[28  4]\n",
      " [ 2  4]]               precision    recall  f1-score   support\n",
      "\n",
      "           0       0.93      0.88      0.90        32\n",
      "           1       0.50      0.67      0.57         6\n",
      "\n",
      "   micro avg       0.84      0.84      0.84        38\n",
      "   macro avg       0.72      0.77      0.74        38\n",
      "weighted avg       0.86      0.84      0.85        38\n",
      "\n",
      "(110, 5)\n",
      "(67, 5)\n",
      "Fitting 4 folds for each of 80 candidates, totalling 320 fits\n"
     ]
    },
    {
     "name": "stderr",
     "output_type": "stream",
     "text": [
      "[Parallel(n_jobs=-1)]: Using backend LokyBackend with 24 concurrent workers.\n",
      "[Parallel(n_jobs=-1)]: Done 320 out of 320 | elapsed:    0.4s finished\n",
      "[Parallel(n_jobs=-1)]: Using backend LokyBackend with 24 concurrent workers.\n",
      "[Parallel(n_jobs=-1)]: Done   2 tasks      | elapsed:    0.1s\n"
     ]
    },
    {
     "name": "stdout",
     "output_type": "stream",
     "text": [
      "[[ 0  4]\n",
      " [ 0 63]]               precision    recall  f1-score   support\n",
      "\n",
      "           0       0.00      0.00      0.00         4\n",
      "           1       0.94      1.00      0.97        63\n",
      "\n",
      "   micro avg       0.94      0.94      0.94        67\n",
      "   macro avg       0.47      0.50      0.48        67\n",
      "weighted avg       0.88      0.94      0.91        67\n",
      "\n",
      "(47, 5)\n",
      "Fitting 10 folds for each of 80 candidates, totalling 800 fits\n"
     ]
    },
    {
     "name": "stderr",
     "output_type": "stream",
     "text": [
      "[Parallel(n_jobs=-1)]: Done 800 out of 800 | elapsed:    0.9s finished\n",
      "[Parallel(n_jobs=-1)]: Using backend LokyBackend with 24 concurrent workers.\n",
      "[Parallel(n_jobs=-1)]: Done   2 tasks      | elapsed:    0.1s\n"
     ]
    },
    {
     "name": "stdout",
     "output_type": "stream",
     "text": [
      "[[21 10]\n",
      " [ 6 10]]               precision    recall  f1-score   support\n",
      "\n",
      "           0       0.78      0.68      0.72        31\n",
      "           1       0.50      0.62      0.56        16\n",
      "\n",
      "   micro avg       0.66      0.66      0.66        47\n",
      "   macro avg       0.64      0.65      0.64        47\n",
      "weighted avg       0.68      0.66      0.67        47\n",
      "\n",
      "(35, 5)\n",
      "Fitting 10 folds for each of 80 candidates, totalling 800 fits\n"
     ]
    },
    {
     "name": "stderr",
     "output_type": "stream",
     "text": [
      "[Parallel(n_jobs=-1)]: Done 800 out of 800 | elapsed:    0.9s finished\n",
      "[Parallel(n_jobs=-1)]: Using backend LokyBackend with 24 concurrent workers.\n"
     ]
    },
    {
     "name": "stdout",
     "output_type": "stream",
     "text": [
      "[[ 0 14]\n",
      " [ 0 21]]               precision    recall  f1-score   support\n",
      "\n",
      "           0       0.00      0.00      0.00        14\n",
      "           1       0.60      1.00      0.75        21\n",
      "\n",
      "   micro avg       0.60      0.60      0.60        35\n",
      "   macro avg       0.30      0.50      0.37        35\n",
      "weighted avg       0.36      0.60      0.45        35\n",
      "\n",
      "(69, 5)\n",
      "Fitting 4 folds for each of 80 candidates, totalling 320 fits\n"
     ]
    },
    {
     "name": "stderr",
     "output_type": "stream",
     "text": [
      "[Parallel(n_jobs=-1)]: Done 320 out of 320 | elapsed:    0.4s finished\n",
      "[Parallel(n_jobs=-1)]: Using backend LokyBackend with 24 concurrent workers.\n",
      "[Parallel(n_jobs=-1)]: Done   2 tasks      | elapsed:    0.1s\n"
     ]
    },
    {
     "name": "stdout",
     "output_type": "stream",
     "text": [
      "[[65  0]\n",
      " [ 4  0]]               precision    recall  f1-score   support\n",
      "\n",
      "           0       0.94      1.00      0.97        65\n",
      "           1       0.00      0.00      0.00         4\n",
      "\n",
      "   micro avg       0.94      0.94      0.94        69\n",
      "   macro avg       0.47      0.50      0.49        69\n",
      "weighted avg       0.89      0.94      0.91        69\n",
      "\n",
      "(46, 5)\n",
      "(72, 5)\n",
      "Fitting 10 folds for each of 80 candidates, totalling 800 fits\n"
     ]
    },
    {
     "name": "stderr",
     "output_type": "stream",
     "text": [
      "[Parallel(n_jobs=-1)]: Done 800 out of 800 | elapsed:    1.1s finished\n",
      "[Parallel(n_jobs=-1)]: Using backend LokyBackend with 24 concurrent workers.\n"
     ]
    },
    {
     "name": "stdout",
     "output_type": "stream",
     "text": [
      "[[ 0 33]\n",
      " [ 1 38]]               precision    recall  f1-score   support\n",
      "\n",
      "           0       0.00      0.00      0.00        33\n",
      "           1       0.54      0.97      0.69        39\n",
      "\n",
      "   micro avg       0.53      0.53      0.53        72\n",
      "   macro avg       0.27      0.49      0.35        72\n",
      "weighted avg       0.29      0.53      0.37        72\n",
      "\n",
      "(55, 5)\n",
      "(22, 5)\n",
      "(93, 5)\n",
      "Fitting 4 folds for each of 80 candidates, totalling 320 fits\n"
     ]
    },
    {
     "name": "stderr",
     "output_type": "stream",
     "text": [
      "[Parallel(n_jobs=-1)]: Done  13 tasks      | elapsed:    0.2s\n",
      "[Parallel(n_jobs=-1)]: Done 320 out of 320 | elapsed:    0.5s finished\n",
      "[Parallel(n_jobs=-1)]: Using backend LokyBackend with 24 concurrent workers.\n",
      "[Parallel(n_jobs=-1)]: Done   2 tasks      | elapsed:    0.1s\n"
     ]
    },
    {
     "name": "stdout",
     "output_type": "stream",
     "text": [
      "[[89  0]\n",
      " [ 4  0]]               precision    recall  f1-score   support\n",
      "\n",
      "           0       0.96      1.00      0.98        89\n",
      "           1       0.00      0.00      0.00         4\n",
      "\n",
      "   micro avg       0.96      0.96      0.96        93\n",
      "   macro avg       0.48      0.50      0.49        93\n",
      "weighted avg       0.92      0.96      0.94        93\n",
      "\n",
      "(24, 5)\n",
      "(36, 5)\n",
      "Fitting 7 folds for each of 80 candidates, totalling 560 fits\n"
     ]
    },
    {
     "name": "stderr",
     "output_type": "stream",
     "text": [
      "[Parallel(n_jobs=-1)]: Done 560 out of 560 | elapsed:    0.7s finished\n",
      "[Parallel(n_jobs=-1)]: Using backend LokyBackend with 24 concurrent workers.\n"
     ]
    },
    {
     "name": "stdout",
     "output_type": "stream",
     "text": [
      "[[26  3]\n",
      " [ 5  2]]               precision    recall  f1-score   support\n",
      "\n",
      "           0       0.84      0.90      0.87        29\n",
      "           1       0.40      0.29      0.33         7\n",
      "\n",
      "   micro avg       0.78      0.78      0.78        36\n",
      "   macro avg       0.62      0.59      0.60        36\n",
      "weighted avg       0.75      0.78      0.76        36\n",
      "\n",
      "(47, 5)\n",
      "Fitting 4 folds for each of 80 candidates, totalling 320 fits\n"
     ]
    },
    {
     "name": "stderr",
     "output_type": "stream",
     "text": [
      "[Parallel(n_jobs=-1)]: Done 320 out of 320 | elapsed:    0.5s finished\n",
      "[Parallel(n_jobs=-1)]: Using backend LokyBackend with 24 concurrent workers.\n",
      "[Parallel(n_jobs=-1)]: Done   2 tasks      | elapsed:    0.1s\n"
     ]
    },
    {
     "name": "stdout",
     "output_type": "stream",
     "text": [
      "[[43  0]\n",
      " [ 4  0]]               precision    recall  f1-score   support\n",
      "\n",
      "           0       0.91      1.00      0.96        43\n",
      "           1       0.00      0.00      0.00         4\n",
      "\n",
      "   micro avg       0.91      0.91      0.91        47\n",
      "   macro avg       0.46      0.50      0.48        47\n",
      "weighted avg       0.84      0.91      0.87        47\n",
      "\n",
      "(34, 5)\n",
      "Fitting 4 folds for each of 80 candidates, totalling 320 fits\n"
     ]
    },
    {
     "name": "stderr",
     "output_type": "stream",
     "text": [
      "[Parallel(n_jobs=-1)]: Done 320 out of 320 | elapsed:    0.4s finished\n",
      "[Parallel(n_jobs=-1)]: Using backend LokyBackend with 24 concurrent workers.\n",
      "[Parallel(n_jobs=-1)]: Done   2 tasks      | elapsed:    0.0s\n"
     ]
    },
    {
     "name": "stdout",
     "output_type": "stream",
     "text": [
      "[[30  0]\n",
      " [ 4  0]]               precision    recall  f1-score   support\n",
      "\n",
      "           0       0.88      1.00      0.94        30\n",
      "           1       0.00      0.00      0.00         4\n",
      "\n",
      "   micro avg       0.88      0.88      0.88        34\n",
      "   macro avg       0.44      0.50      0.47        34\n",
      "weighted avg       0.78      0.88      0.83        34\n",
      "\n",
      "(40, 5)\n",
      "Fitting 8 folds for each of 80 candidates, totalling 640 fits\n"
     ]
    },
    {
     "name": "stderr",
     "output_type": "stream",
     "text": [
      "[Parallel(n_jobs=-1)]: Done 640 out of 640 | elapsed:    0.8s finished\n",
      "[Parallel(n_jobs=-1)]: Using backend LokyBackend with 24 concurrent workers.\n",
      "[Parallel(n_jobs=-1)]: Done   2 tasks      | elapsed:    0.1s\n"
     ]
    },
    {
     "name": "stdout",
     "output_type": "stream",
     "text": [
      "[[ 0  8]\n",
      " [ 0 32]]               precision    recall  f1-score   support\n",
      "\n",
      "           0       0.00      0.00      0.00         8\n",
      "           1       0.80      1.00      0.89        32\n",
      "\n",
      "   micro avg       0.80      0.80      0.80        40\n",
      "   macro avg       0.40      0.50      0.44        40\n",
      "weighted avg       0.64      0.80      0.71        40\n",
      "\n",
      "(53, 5)\n",
      "Fitting 10 folds for each of 80 candidates, totalling 800 fits\n"
     ]
    },
    {
     "name": "stderr",
     "output_type": "stream",
     "text": [
      "[Parallel(n_jobs=-1)]: Done 800 out of 800 | elapsed:    1.1s finished\n",
      "[Parallel(n_jobs=-1)]: Using backend LokyBackend with 24 concurrent workers.\n",
      "[Parallel(n_jobs=-1)]: Done   2 tasks      | elapsed:    0.1s\n"
     ]
    },
    {
     "name": "stdout",
     "output_type": "stream",
     "text": [
      "[[40  0]\n",
      " [13  0]]               precision    recall  f1-score   support\n",
      "\n",
      "           0       0.75      1.00      0.86        40\n",
      "           1       0.00      0.00      0.00        13\n",
      "\n",
      "   micro avg       0.75      0.75      0.75        53\n",
      "   macro avg       0.38      0.50      0.43        53\n",
      "weighted avg       0.57      0.75      0.65        53\n",
      "\n",
      "(26, 5)\n",
      "Fitting 4 folds for each of 80 candidates, totalling 320 fits\n"
     ]
    },
    {
     "name": "stderr",
     "output_type": "stream",
     "text": [
      "[Parallel(n_jobs=-1)]: Done 320 out of 320 | elapsed:    0.4s finished\n",
      "[Parallel(n_jobs=-1)]: Using backend LokyBackend with 24 concurrent workers.\n",
      "[Parallel(n_jobs=-1)]: Done   2 tasks      | elapsed:    0.1s\n"
     ]
    },
    {
     "name": "stdout",
     "output_type": "stream",
     "text": [
      "[[20  2]\n",
      " [ 4  0]]               precision    recall  f1-score   support\n",
      "\n",
      "           0       0.83      0.91      0.87        22\n",
      "           1       0.00      0.00      0.00         4\n",
      "\n",
      "   micro avg       0.77      0.77      0.77        26\n",
      "   macro avg       0.42      0.45      0.43        26\n",
      "weighted avg       0.71      0.77      0.74        26\n",
      "\n",
      "(34, 5)\n",
      "Fitting 8 folds for each of 80 candidates, totalling 640 fits\n"
     ]
    },
    {
     "name": "stderr",
     "output_type": "stream",
     "text": [
      "[Parallel(n_jobs=-1)]: Done 640 out of 640 | elapsed:    0.9s finished\n",
      "[Parallel(n_jobs=-1)]: Using backend LokyBackend with 24 concurrent workers.\n",
      "[Parallel(n_jobs=-1)]: Done   2 tasks      | elapsed:    0.0s\n"
     ]
    },
    {
     "name": "stdout",
     "output_type": "stream",
     "text": [
      "[[21  5]\n",
      " [ 5  3]]               precision    recall  f1-score   support\n",
      "\n",
      "           0       0.81      0.81      0.81        26\n",
      "           1       0.38      0.38      0.38         8\n",
      "\n",
      "   micro avg       0.71      0.71      0.71        34\n",
      "   macro avg       0.59      0.59      0.59        34\n",
      "weighted avg       0.71      0.71      0.71        34\n",
      "\n",
      "(42, 5)\n",
      "Fitting 8 folds for each of 80 candidates, totalling 640 fits\n"
     ]
    },
    {
     "name": "stderr",
     "output_type": "stream",
     "text": [
      "[Parallel(n_jobs=-1)]: Done 640 out of 640 | elapsed:    0.8s finished\n",
      "[Parallel(n_jobs=-1)]: Using backend LokyBackend with 24 concurrent workers.\n"
     ]
    },
    {
     "name": "stdout",
     "output_type": "stream",
     "text": [
      "[[ 3  5]\n",
      " [ 2 32]]               precision    recall  f1-score   support\n",
      "\n",
      "           0       0.60      0.38      0.46         8\n",
      "           1       0.86      0.94      0.90        34\n",
      "\n",
      "   micro avg       0.83      0.83      0.83        42\n",
      "   macro avg       0.73      0.66      0.68        42\n",
      "weighted avg       0.81      0.83      0.82        42\n",
      "\n",
      "(24, 5)\n",
      "Fitting 4 folds for each of 80 candidates, totalling 320 fits\n"
     ]
    },
    {
     "name": "stderr",
     "output_type": "stream",
     "text": [
      "[Parallel(n_jobs=-1)]: Done 320 out of 320 | elapsed:    0.3s finished\n",
      "[Parallel(n_jobs=-1)]: Using backend LokyBackend with 24 concurrent workers.\n",
      "[Parallel(n_jobs=-1)]: Done   2 tasks      | elapsed:    0.0s\n"
     ]
    },
    {
     "name": "stdout",
     "output_type": "stream",
     "text": [
      "[[20  0]\n",
      " [ 4  0]]               precision    recall  f1-score   support\n",
      "\n",
      "           0       0.83      1.00      0.91        20\n",
      "           1       0.00      0.00      0.00         4\n",
      "\n",
      "   micro avg       0.83      0.83      0.83        24\n",
      "   macro avg       0.42      0.50      0.45        24\n",
      "weighted avg       0.69      0.83      0.76        24\n",
      "\n",
      "(32, 5)\n",
      "Fitting 4 folds for each of 80 candidates, totalling 320 fits\n"
     ]
    },
    {
     "name": "stderr",
     "output_type": "stream",
     "text": [
      "[Parallel(n_jobs=-1)]: Done 320 out of 320 | elapsed:    0.4s finished\n",
      "[Parallel(n_jobs=-1)]: Using backend LokyBackend with 24 concurrent workers.\n",
      "[Parallel(n_jobs=-1)]: Done   2 tasks      | elapsed:    0.1s\n"
     ]
    },
    {
     "name": "stdout",
     "output_type": "stream",
     "text": [
      "[[28  0]\n",
      " [ 4  0]]               precision    recall  f1-score   support\n",
      "\n",
      "           0       0.88      1.00      0.93        28\n",
      "           1       0.00      0.00      0.00         4\n",
      "\n",
      "   micro avg       0.88      0.88      0.88        32\n",
      "   macro avg       0.44      0.50      0.47        32\n",
      "weighted avg       0.77      0.88      0.82        32\n",
      "\n",
      "(82, 5)\n",
      "Fitting 10 folds for each of 80 candidates, totalling 800 fits\n",
      "[[ 0 14]\n",
      " [ 0 68]]               precision    recall  f1-score   support\n",
      "\n",
      "           0       0.00      0.00      0.00        14\n",
      "           1       0.83      1.00      0.91        68\n",
      "\n",
      "   micro avg       0.83      0.83      0.83        82\n",
      "   macro avg       0.41      0.50      0.45        82\n",
      "weighted avg       0.69      0.83      0.75        82\n",
      "\n"
     ]
    },
    {
     "name": "stderr",
     "output_type": "stream",
     "text": [
      "[Parallel(n_jobs=-1)]: Done 800 out of 800 | elapsed:    1.0s finished\n"
     ]
    }
   ],
   "source": [
    "from sklearn import linear_model\n",
    "Xf,yf,groupsf,X_datef,daysf = pickle.load(open('../data/ema_only_imputed_previous_way.p','rb'))\n",
    "X,y1,groups1,X_date_final = np.array(Xf),np.array(yf),np.array(groupsf),OneHotEncoder().fit_transform(np.array(X_datef).reshape(-1,1))\n",
    "Xfeatures = np.array([get_features1(x) for x in X])\n",
    "all_y = []\n",
    "all_y_pred = []\n",
    "all_groups = []\n",
    "for user in np.unique(groups1):\n",
    "    index = np.where(groups1==user)[0]\n",
    "    X1,y,groups = Xfeatures[index],y1[index],groups1[index]\n",
    "#     print(y[0])\n",
    "#     labels = []\n",
    "#     temp = np.array([np.mean(a) for a in y])\n",
    "#     temp_mean = np.mean(temp)\n",
    "#     index2 = np.where(temp>temp_mean)[0]\n",
    "#     index1 = np.where(temp<=temp_mean)[0]\n",
    "#     temp[index2] = 1\n",
    "#     temp[index1] = 0\n",
    "#     labels = temp\n",
    "#     labels = np.int64(np.array(labels))\n",
    "    if len(y)<20:\n",
    "        continue\n",
    "    from sklearn.cluster import KMeans\n",
    "    kmeans = KMeans(2, random_state=0)\n",
    "    print(y.shape)\n",
    "    labels = kmeans.fit(y).predict(y)\n",
    "    if len(np.unique(labels))==1:\n",
    "        continue\n",
    "    if len(labels[labels==1])<3:\n",
    "        continue\n",
    "    if len(labels[labels==0])<3:\n",
    "        continue\n",
    "    \n",
    "    paramGrid = {\n",
    "#             'rf__kernel':['linear'],\n",
    "            'rf__C': np.logspace(-3,3,10),\n",
    "#             'rf__gamma': np.logspace(-6,3,2),\n",
    "            'rf__class_weight':[{0:1,1:4/2},{0:1,1:3/2},{0:1,1:5/2},{0:1,1:1}],\n",
    "            'pca__n_components':[3,4]\n",
    "        }\n",
    "    y = labels\n",
    "    if len(labels[labels==1])<10:\n",
    "        n = len(labels[labels==1])\n",
    "    elif len(labels[labels==0])<10:\n",
    "        n = len(labels[labels==0])\n",
    "    else:\n",
    "        n = 10\n",
    "    clf = Pipeline([('pca',PCA()),('rf',linear_model.LogisticRegression())])\n",
    "    grid_search = GridSearchCV(clf, paramGrid, n_jobs=-1,cv=StratifiedKFold(n_splits=n).split(X1, y),\n",
    "                               scoring='accuracy',verbose=1, return_train_score=False)\n",
    "    grid_search.fit(X1,y)\n",
    "    from sklearn.metrics import classification_report\n",
    "    clf = grid_search.best_estimator_\n",
    "    y_pred = cross_val_predict(clf,X1,y,cv=StratifiedKFold(n_splits=n).split(X1, y))\n",
    "    all_y.extend(list(y))\n",
    "    all_y_pred.extend(list(y_pred))\n",
    "    all_groups.extend(list(groups))\n",
    "    print(confusion_matrix(y,y_pred),classification_report(y,y_pred))"
   ]
  },
  {
   "cell_type": "code",
   "execution_count": 6,
   "metadata": {},
   "outputs": [
    {
     "name": "stdout",
     "output_type": "stream",
     "text": [
      "[[836 338]\n",
      " [297 547]]               precision    recall  f1-score   support\n",
      "\n",
      "           0       0.74      0.71      0.72      1174\n",
      "           1       0.62      0.65      0.63       844\n",
      "\n",
      "   micro avg       0.69      0.69      0.69      2018\n",
      "   macro avg       0.68      0.68      0.68      2018\n",
      "weighted avg       0.69      0.69      0.69      2018\n",
      "\n"
     ]
    }
   ],
   "source": [
    "print(confusion_matrix(all_y,all_y_pred),classification_report(all_y,all_y_pred))"
   ]
  },
  {
   "cell_type": "code",
   "execution_count": 14,
   "metadata": {},
   "outputs": [
    {
     "name": "stdout",
     "output_type": "stream",
     "text": [
      "[[458 278]\n",
      " [126 775]]               precision    recall  f1-score   support\n",
      "\n",
      "           0       0.78      0.62      0.69       736\n",
      "           1       0.74      0.86      0.79       901\n",
      "\n",
      "   micro avg       0.75      0.75      0.75      1637\n",
      "   macro avg       0.76      0.74      0.74      1637\n",
      "weighted avg       0.76      0.75      0.75      1637\n",
      "\n"
     ]
    }
   ],
   "source": [
    "print(confusion_matrix(all_y,all_y_pred),classification_report(all_y,all_y_pred))"
   ]
  },
  {
   "cell_type": "code",
   "execution_count": 12,
   "metadata": {},
   "outputs": [
    {
     "name": "stdout",
     "output_type": "stream",
     "text": [
      "[[1146  445]\n",
      " [ 406  697]]               precision    recall  f1-score   support\n",
      "\n",
      "           0       0.74      0.72      0.73      1591\n",
      "           1       0.61      0.63      0.62      1103\n",
      "\n",
      "   micro avg       0.68      0.68      0.68      2694\n",
      "   macro avg       0.67      0.68      0.68      2694\n",
      "weighted avg       0.69      0.68      0.68      2694\n",
      "\n"
     ]
    }
   ],
   "source": [
    "print(confusion_matrix(all_y,all_y_pred),classification_report(all_y,all_y_pred))\n",
    "# y.shape"
   ]
  },
  {
   "cell_type": "code",
   "execution_count": 18,
   "metadata": {},
   "outputs": [
    {
     "name": "stdout",
     "output_type": "stream",
     "text": [
      "[[941 334]\n",
      " [199 785]]               precision    recall  f1-score   support\n",
      "\n",
      "           0       0.83      0.74      0.78      1275\n",
      "           1       0.70      0.80      0.75       984\n",
      "\n",
      "   micro avg       0.76      0.76      0.76      2259\n",
      "   macro avg       0.76      0.77      0.76      2259\n",
      "weighted avg       0.77      0.76      0.77      2259\n",
      "\n"
     ]
    }
   ],
   "source": [
    "print(confusion_matrix(all_y,all_y_pred),classification_report(all_y,all_y_pred))"
   ]
  },
  {
   "cell_type": "code",
   "execution_count": null,
   "metadata": {},
   "outputs": [],
   "source": [
    "y1.shape"
   ]
  },
  {
   "cell_type": "code",
   "execution_count": null,
   "metadata": {},
   "outputs": [],
   "source": [
    "labels"
   ]
  },
  {
   "cell_type": "code",
   "execution_count": null,
   "metadata": {},
   "outputs": [],
   "source": []
  }
 ],
 "metadata": {
  "kernelspec": {
   "display_name": "Python 3",
   "language": "python",
   "name": "python3"
  },
  "language_info": {
   "codemirror_mode": {
    "name": "ipython",
    "version": 3
   },
   "file_extension": ".py",
   "mimetype": "text/x-python",
   "name": "python",
   "nbconvert_exporter": "python",
   "pygments_lexer": "ipython3",
   "version": "3.6.8"
  }
 },
 "nbformat": 4,
 "nbformat_minor": 2
}
