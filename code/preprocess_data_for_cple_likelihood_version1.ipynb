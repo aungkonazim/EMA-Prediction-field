{
 "cells": [
  {
   "cell_type": "code",
   "execution_count": 11,
   "metadata": {},
   "outputs": [],
   "source": [
    "import pickle\n",
    "import pandas as pd\n",
    "import numpy as np\n",
    "from sklearn.feature_selection import SelectKBest,f_classif\n",
    "from sklearn.decomposition import PCA\n",
    "from pprint import pprint\n",
    "from sklearn.metrics import f1_score,r2_score,classification_report,roc_auc_score\n",
    "from sklearn.model_selection import ParameterGrid\n",
    "from sklearn.ensemble import RandomForestClassifier,AdaBoostClassifier,RandomForestRegressor\n",
    "from sklearn.svm import SVC\n",
    "from sklearn.pipeline import Pipeline\n",
    "from sklearn.decomposition import PCA\n",
    "from sklearn.metrics import confusion_matrix,f1_score,precision_score,recall_score,accuracy_score\n",
    "import itertools\n",
    "from sklearn.model_selection import ParameterGrid, cross_val_predict, GroupKFold,GridSearchCV,StratifiedKFold\n",
    "from sklearn import preprocessing\n",
    "from sklearn.tree import DecisionTreeClassifier\n",
    "from sklearn.linear_model import LogisticRegression\n",
    "import matplotlib.pyplot as plt\n",
    "%matplotlib inline\n",
    "from datetime import datetime\n",
    "from joblib import Parallel,delayed\n",
    "\n",
    "def svar(X):\n",
    "    n = float(len(X))\n",
    "    svar=(sum([(x-np.mean(X))**2 for x in X]) / n)* n/(n-1.)\n",
    "    return svar\n",
    "\n",
    "def CronbachAlpha(itemscores):\n",
    "    itemvars = [svar(item) for item in itemscores]\n",
    "    tscores = [0] * len(itemscores[0])\n",
    "    for item in itemscores:\n",
    "        for i in range(len(item)):\n",
    "            tscores[i]+= item[i]\n",
    "    nitems = len(itemscores)\n",
    "    Calpha=nitems/(nitems-1.) * (1-sum(itemvars)/ svar(tscores))\n",
    "    return Calpha\n",
    "\n",
    "from scipy.stats import iqr,skew,kurtosis,pearsonr\n",
    "from scipy.stats import variation,moment\n",
    "\n",
    "def get_features1(x):\n",
    "    temp = []\n",
    "    temp.append(x[-1])\n",
    "    temp.append(x[0])\n",
    "    temp.append(x[len(x)//2])\n",
    "    temp.append(iqr(x))\n",
    "    temp.append(skew(x))\n",
    "    temp.append(kurtosis(x))\n",
    "    temp.append(variation(x))\n",
    "    temp.append(iqr(x[:len(x)//2]))\n",
    "    temp.append(skew(x[:len(x)//2]))\n",
    "    temp.append(kurtosis(x[:len(x)//2]))\n",
    "    temp.append(variation(x[:len(x)//2]))\n",
    "    temp.append(iqr(x[len(x)//2:]))\n",
    "    temp.append(skew(x[len(x)//2:]))\n",
    "    temp.append(kurtosis(x[len(x)//2:]))\n",
    "    temp.append(variation(x[len(x)//2:]))\n",
    "    return np.array(temp)\n",
    "\n",
    "# def get_features()\n",
    "\n",
    "def get_features(temp,user):\n",
    "    if temp.shape[0]<10:\n",
    "        return -1,-1,-1,-1,-1\n",
    "    if temp['time'].values[-1]-temp['time'].values[0]>1000:\n",
    "        return -1,-1,-1,-1,-1\n",
    "    if np.isnan(temp['score'].values[-1]):\n",
    "        return -1,-1,-1,-1,-1\n",
    "    a = temp['stress_likelihood'].values\n",
    "    b = temp['all_scores'].values[-1]\n",
    "    c = user\n",
    "    hour = datetime.fromtimestamp(temp['time'].values[0]).hour\n",
    "    if hour<8:\n",
    "        d = 0\n",
    "    elif hour>8 and hour < 16:\n",
    "        d = 1\n",
    "    else:\n",
    "        d = 2\n",
    "    e = user+temp['day'].values[-1]\n",
    "    return a,b,c,d,e\n",
    "\n",
    "def get_features2(temp,user):\n",
    "    if temp.shape[0]<10:\n",
    "        return -1,-1,-1,-1,-1\n",
    "    if temp['time'].values[-1]-temp['time'].values[0]>1000:\n",
    "        return -1,-1,-1,-1,-1\n",
    "    g = temp['score'].values\n",
    "    if len(g[~np.isnan(g)])>0:\n",
    "        return -1,-1,-1,-1,-1\n",
    "#     if np.isnan(temp['score'].values[-1]):\n",
    "#         return -1,-1,-1,-1,-1\n",
    "    a = temp['stress_likelihood'].values\n",
    "    b = temp['all_scores'].values[-1]\n",
    "    c = user\n",
    "    hour = datetime.fromtimestamp(temp['time'].values[0]).hour\n",
    "    if hour<8:\n",
    "        d = 0\n",
    "    elif hour>8 and hour < 16:\n",
    "        d = 1\n",
    "    else:\n",
    "        d = 2\n",
    "    e = user+temp['day'].values[-1]\n",
    "    return a,b,c,d,e\n",
    "\n",
    "def get_user_data(user_data,user):\n",
    "    X_date = []\n",
    "    X = []\n",
    "    y = []\n",
    "    groups = []\n",
    "    days = []\n",
    "    if len(np.unique(user_data.dropna()['day'].values))<4:\n",
    "        return [],[],[],[],[]\n",
    "    user_data = user_data.sort_values('localtime').reset_index(drop=True)\n",
    "    count = 0\n",
    "    columns=['window', 'localtime', 'day', 'stress_likelihood', 'imputed',\n",
    "       'likelihood_mean', 'all_scores', 'score', 'label', 'version', 'user',\n",
    "       'time']\n",
    "    count = 0\n",
    "    data = Parallel(n_jobs=20,verbose=1)(delayed(get_features)(user_data.loc[i:i+10],user) for i,row in user_data.iterrows()\n",
    "                                        if not np.isnan(user_data.loc[i:i+10]['score'].values[-1]))\n",
    "    data1 = Parallel(n_jobs=20,verbose=1)(delayed(get_features2)(user_data.loc[i:i+10],user) for i,row in user_data.iterrows()\n",
    "                                        if i%10==0)\n",
    "    \n",
    "    data = data+data1\n",
    "    for a in data:\n",
    "        if not isinstance(a[2], str):\n",
    "            continue\n",
    "        X.append(a[0])\n",
    "        y.append(a[1])\n",
    "        groups.append(a[2])\n",
    "        X_date.append(a[3])\n",
    "        days.append(a[4])\n",
    "    print(len(X))\n",
    "    return X,y,groups,X_date,days\n",
    "\n",
    "\n",
    "def get_data(all_stress):\n",
    "    X_date,X,y,groups,days = [],[],[],[],[]\n",
    "    final = [get_user_data(all_stress[all_stress.user.isin([user])],user) \n",
    "                                          for user in np.unique(all_stress['user'].values)]\n",
    "    for a in final:\n",
    "        X.extend(a[0])\n",
    "        y.extend(a[1])\n",
    "        groups.extend(a[2])\n",
    "        X_date.extend(a[3])\n",
    "        days.extend(a[4])\n",
    "    return X,y,groups,X_date,days"
   ]
  },
  {
   "cell_type": "code",
   "execution_count": 9,
   "metadata": {},
   "outputs": [],
   "source": [
    "import warnings\n",
    "import pickle\n",
    "warnings.filterwarnings('ignore')\n",
    "from sklearn.preprocessing import StandardScaler,OneHotEncoder\n",
    "all_stress_left = pickle.load(open('../data/stress_ema_md2k_aa_rice_left_ppg.p','rb'))\n",
    "# all_stress_left = all_stress_left[all_stress_left.imputed.isin([0])]\n",
    "all_stress_right = pickle.load(open('../data/stress_ema_md2k_aa_rice_right1_ppg.p','rb'))\n",
    "# all_stress_right = all_stress_right[all_stress_right.imputed.isin([0])]"
   ]
  },
  {
   "cell_type": "code",
   "execution_count": null,
   "metadata": {
    "scrolled": true
   },
   "outputs": [
    {
     "name": "stderr",
     "output_type": "stream",
     "text": [
      "[Parallel(n_jobs=20)]: Using backend LokyBackend with 20 concurrent workers.\n",
      "[Parallel(n_jobs=20)]: Done   4 out of  10 | elapsed:    8.4s remaining:   12.6s\n",
      "[Parallel(n_jobs=20)]: Done  10 out of  10 | elapsed:    8.5s finished\n",
      "[Parallel(n_jobs=20)]: Using backend LokyBackend with 20 concurrent workers.\n",
      "[Parallel(n_jobs=20)]: Done  10 tasks      | elapsed:    0.5s\n",
      "[Parallel(n_jobs=20)]: Done 440 tasks      | elapsed:    3.0s\n",
      "[Parallel(n_jobs=20)]: Done 818 out of 818 | elapsed:    4.1s finished\n",
      "[Parallel(n_jobs=20)]: Using backend LokyBackend with 20 concurrent workers.\n"
     ]
    },
    {
     "name": "stdout",
     "output_type": "stream",
     "text": [
      "811\n"
     ]
    },
    {
     "name": "stderr",
     "output_type": "stream",
     "text": [
      "[Parallel(n_jobs=20)]: Done  18 out of  28 | elapsed:    6.4s remaining:    3.6s\n",
      "[Parallel(n_jobs=20)]: Done  28 out of  28 | elapsed:    6.4s finished\n",
      "[Parallel(n_jobs=20)]: Using backend LokyBackend with 20 concurrent workers.\n",
      "[Parallel(n_jobs=20)]: Done  10 tasks      | elapsed:    0.3s\n",
      "[Parallel(n_jobs=20)]: Done 280 tasks      | elapsed:    1.5s\n",
      "[Parallel(n_jobs=20)]: Done 780 tasks      | elapsed:    3.5s\n",
      "[Parallel(n_jobs=20)]: Done 1288 out of 1327 | elapsed:    5.2s remaining:    0.2s\n",
      "[Parallel(n_jobs=20)]: Done 1327 out of 1327 | elapsed:    5.2s finished\n",
      "[Parallel(n_jobs=20)]: Using backend LokyBackend with 20 concurrent workers.\n"
     ]
    },
    {
     "name": "stdout",
     "output_type": "stream",
     "text": [
      "1323\n"
     ]
    },
    {
     "name": "stderr",
     "output_type": "stream",
     "text": [
      "[Parallel(n_jobs=20)]: Done  24 out of  31 | elapsed:    2.8s remaining:    0.8s\n",
      "[Parallel(n_jobs=20)]: Done  31 out of  31 | elapsed:    2.8s finished\n",
      "[Parallel(n_jobs=20)]: Using backend LokyBackend with 20 concurrent workers.\n",
      "[Parallel(n_jobs=20)]: Done  10 tasks      | elapsed:    0.3s\n",
      "[Parallel(n_jobs=20)]: Done 280 tasks      | elapsed:    1.4s\n",
      "[Parallel(n_jobs=20)]: Done 780 tasks      | elapsed:    2.9s\n",
      "[Parallel(n_jobs=20)]: Done 1074 out of 1074 | elapsed:    3.5s finished\n",
      "[Parallel(n_jobs=20)]: Using backend LokyBackend with 20 concurrent workers.\n"
     ]
    },
    {
     "name": "stdout",
     "output_type": "stream",
     "text": [
      "1065\n"
     ]
    },
    {
     "name": "stderr",
     "output_type": "stream",
     "text": [
      "[Parallel(n_jobs=20)]: Done  12 out of  12 | elapsed:    1.7s remaining:    0.0s\n",
      "[Parallel(n_jobs=20)]: Done  12 out of  12 | elapsed:    1.7s finished\n",
      "[Parallel(n_jobs=20)]: Using backend LokyBackend with 20 concurrent workers.\n",
      "[Parallel(n_jobs=20)]: Done  10 tasks      | elapsed:    0.2s\n",
      "[Parallel(n_jobs=20)]: Done 280 tasks      | elapsed:    1.1s\n",
      "[Parallel(n_jobs=20)]: Done 716 out of 716 | elapsed:    2.1s finished\n",
      "[Parallel(n_jobs=20)]: Using backend LokyBackend with 20 concurrent workers.\n"
     ]
    },
    {
     "name": "stdout",
     "output_type": "stream",
     "text": [
      "714\n"
     ]
    },
    {
     "name": "stderr",
     "output_type": "stream",
     "text": [
      "[Parallel(n_jobs=20)]: Done   4 out of  10 | elapsed:    1.3s remaining:    2.0s\n",
      "[Parallel(n_jobs=20)]: Done  10 out of  10 | elapsed:    1.3s finished\n",
      "[Parallel(n_jobs=20)]: Using backend LokyBackend with 20 concurrent workers.\n",
      "[Parallel(n_jobs=20)]: Done  10 tasks      | elapsed:    0.3s\n",
      "[Parallel(n_jobs=20)]: Done 280 tasks      | elapsed:    2.0s\n",
      "[Parallel(n_jobs=20)]: Done 530 out of 569 | elapsed:    2.8s remaining:    0.2s\n",
      "[Parallel(n_jobs=20)]: Done 569 out of 569 | elapsed:    2.8s finished\n",
      "[Parallel(n_jobs=20)]: Using backend LokyBackend with 20 concurrent workers.\n"
     ]
    },
    {
     "name": "stdout",
     "output_type": "stream",
     "text": [
      "560\n"
     ]
    },
    {
     "name": "stderr",
     "output_type": "stream",
     "text": [
      "[Parallel(n_jobs=20)]: Done  43 out of  43 | elapsed:    7.3s finished\n",
      "[Parallel(n_jobs=20)]: Using backend LokyBackend with 20 concurrent workers.\n",
      "[Parallel(n_jobs=20)]: Done  10 tasks      | elapsed:    0.3s\n",
      "[Parallel(n_jobs=20)]: Done 280 tasks      | elapsed:    1.3s\n",
      "[Parallel(n_jobs=20)]: Done 1280 tasks      | elapsed:    3.6s\n",
      "[Parallel(n_jobs=20)]: Done 1944 out of 1983 | elapsed:    4.8s remaining:    0.1s\n",
      "[Parallel(n_jobs=20)]: Done 1983 out of 1983 | elapsed:    4.8s finished\n",
      "[Parallel(n_jobs=20)]: Using backend LokyBackend with 20 concurrent workers.\n"
     ]
    },
    {
     "name": "stdout",
     "output_type": "stream",
     "text": [
      "1975\n"
     ]
    },
    {
     "name": "stderr",
     "output_type": "stream",
     "text": [
      "[Parallel(n_jobs=20)]: Done   8 out of  11 | elapsed:   12.0s remaining:    4.5s\n",
      "[Parallel(n_jobs=20)]: Done  11 out of  11 | elapsed:   12.0s finished\n",
      "[Parallel(n_jobs=20)]: Using backend LokyBackend with 20 concurrent workers.\n",
      "[Parallel(n_jobs=20)]: Done  10 tasks      | elapsed:    0.4s\n",
      "[Parallel(n_jobs=20)]: Done 280 tasks      | elapsed:    1.7s\n",
      "[Parallel(n_jobs=20)]: Done 780 tasks      | elapsed:    3.5s\n",
      "[Parallel(n_jobs=20)]: Done 1480 tasks      | elapsed:    5.8s\n",
      "[Parallel(n_jobs=20)]: Done 1780 out of 1780 | elapsed:    6.6s finished\n",
      "[Parallel(n_jobs=20)]: Using backend LokyBackend with 20 concurrent workers.\n"
     ]
    },
    {
     "name": "stdout",
     "output_type": "stream",
     "text": [
      "1774\n"
     ]
    },
    {
     "name": "stderr",
     "output_type": "stream",
     "text": [
      "[Parallel(n_jobs=20)]: Done  12 out of  12 | elapsed:    2.5s remaining:    0.0s\n",
      "[Parallel(n_jobs=20)]: Done  12 out of  12 | elapsed:    2.5s finished\n",
      "[Parallel(n_jobs=20)]: Using backend LokyBackend with 20 concurrent workers.\n",
      "[Parallel(n_jobs=20)]: Done  10 tasks      | elapsed:    0.3s\n",
      "[Parallel(n_jobs=20)]: Done 440 tasks      | elapsed:    1.5s\n",
      "[Parallel(n_jobs=20)]: Done 1040 out of 1040 | elapsed:    2.6s finished\n",
      "[Parallel(n_jobs=20)]: Using backend LokyBackend with 20 concurrent workers.\n"
     ]
    },
    {
     "name": "stdout",
     "output_type": "stream",
     "text": [
      "1030\n"
     ]
    },
    {
     "name": "stderr",
     "output_type": "stream",
     "text": [
      "[Parallel(n_jobs=20)]: Done  41 out of  41 | elapsed:    4.0s finished\n",
      "[Parallel(n_jobs=20)]: Using backend LokyBackend with 20 concurrent workers.\n",
      "[Parallel(n_jobs=20)]: Done  10 tasks      | elapsed:    0.3s\n",
      "[Parallel(n_jobs=20)]: Done 280 tasks      | elapsed:    1.2s\n",
      "[Parallel(n_jobs=20)]: Done 780 tasks      | elapsed:    2.8s\n",
      "[Parallel(n_jobs=20)]: Done 1748 out of 1748 | elapsed:    4.8s finished\n",
      "[Parallel(n_jobs=20)]: Using backend LokyBackend with 20 concurrent workers.\n"
     ]
    },
    {
     "name": "stdout",
     "output_type": "stream",
     "text": [
      "1734\n"
     ]
    },
    {
     "name": "stderr",
     "output_type": "stream",
     "text": [
      "[Parallel(n_jobs=20)]: Done   7 out of   7 | elapsed:    2.5s finished\n",
      "[Parallel(n_jobs=20)]: Using backend LokyBackend with 20 concurrent workers.\n",
      "[Parallel(n_jobs=20)]: Done  10 tasks      | elapsed:    1.0s\n",
      "[Parallel(n_jobs=20)]: Done 440 tasks      | elapsed:    2.1s\n",
      "[Parallel(n_jobs=20)]: Done 1125 out of 1125 | elapsed:    3.4s finished\n",
      "[Parallel(n_jobs=20)]: Using backend LokyBackend with 20 concurrent workers.\n"
     ]
    },
    {
     "name": "stdout",
     "output_type": "stream",
     "text": [
      "1121\n"
     ]
    },
    {
     "name": "stderr",
     "output_type": "stream",
     "text": [
      "[Parallel(n_jobs=20)]: Done  12 out of  25 | elapsed:    3.5s remaining:    3.8s\n",
      "[Parallel(n_jobs=20)]: Done  25 out of  25 | elapsed:    3.5s finished\n",
      "[Parallel(n_jobs=20)]: Using backend LokyBackend with 20 concurrent workers.\n",
      "[Parallel(n_jobs=20)]: Done  10 tasks      | elapsed:    0.3s\n",
      "[Parallel(n_jobs=20)]: Done 280 tasks      | elapsed:    1.2s\n",
      "[Parallel(n_jobs=20)]: Done 960 tasks      | elapsed:    3.0s\n",
      "[Parallel(n_jobs=20)]: Done 1577 out of 1577 | elapsed:    4.0s finished\n",
      "[Parallel(n_jobs=20)]: Using backend LokyBackend with 20 concurrent workers.\n"
     ]
    },
    {
     "name": "stdout",
     "output_type": "stream",
     "text": [
      "1568\n"
     ]
    },
    {
     "name": "stderr",
     "output_type": "stream",
     "text": [
      "[Parallel(n_jobs=20)]: Done  11 out of  16 | elapsed:    3.2s remaining:    1.4s\n",
      "[Parallel(n_jobs=20)]: Done  16 out of  16 | elapsed:    3.2s finished\n",
      "[Parallel(n_jobs=20)]: Using backend LokyBackend with 20 concurrent workers.\n",
      "[Parallel(n_jobs=20)]: Done  11 tasks      | elapsed:    0.3s\n",
      "[Parallel(n_jobs=20)]: Done 282 tasks      | elapsed:    1.2s\n",
      "[Parallel(n_jobs=20)]: Done 1164 tasks      | elapsed:    3.4s\n",
      "[Parallel(n_jobs=20)]: Done 1416 out of 1455 | elapsed:    3.8s remaining:    0.1s\n",
      "[Parallel(n_jobs=20)]: Done 1455 out of 1455 | elapsed:    3.8s finished\n",
      "[Parallel(n_jobs=20)]: Using backend LokyBackend with 20 concurrent workers.\n"
     ]
    },
    {
     "name": "stdout",
     "output_type": "stream",
     "text": [
      "1450\n"
     ]
    },
    {
     "name": "stderr",
     "output_type": "stream",
     "text": [
      "[Parallel(n_jobs=20)]: Done   8 out of  15 | elapsed:    1.9s remaining:    1.7s\n",
      "[Parallel(n_jobs=20)]: Done  15 out of  15 | elapsed:    1.9s finished\n",
      "[Parallel(n_jobs=20)]: Using backend LokyBackend with 20 concurrent workers.\n",
      "[Parallel(n_jobs=20)]: Done  10 tasks      | elapsed:    0.2s\n",
      "[Parallel(n_jobs=20)]: Done 280 tasks      | elapsed:    1.2s\n",
      "[Parallel(n_jobs=20)]: Done 852 out of 852 | elapsed:    2.4s finished\n",
      "[Parallel(n_jobs=20)]: Using backend LokyBackend with 20 concurrent workers.\n"
     ]
    },
    {
     "name": "stdout",
     "output_type": "stream",
     "text": [
      "851\n"
     ]
    },
    {
     "name": "stderr",
     "output_type": "stream",
     "text": [
      "[Parallel(n_jobs=20)]: Done  19 out of  19 | elapsed:    3.4s finished\n",
      "[Parallel(n_jobs=20)]: Using backend LokyBackend with 20 concurrent workers.\n",
      "[Parallel(n_jobs=20)]: Done  10 tasks      | elapsed:    0.2s\n",
      "[Parallel(n_jobs=20)]: Done 280 tasks      | elapsed:    1.1s\n",
      "[Parallel(n_jobs=20)]: Done 780 tasks      | elapsed:    2.7s\n",
      "[Parallel(n_jobs=20)]: Done 1480 tasks      | elapsed:    4.9s\n",
      "[Parallel(n_jobs=20)]: Done 1500 out of 1539 | elapsed:    4.9s remaining:    0.1s\n",
      "[Parallel(n_jobs=20)]: Done 1539 out of 1539 | elapsed:    4.9s finished\n",
      "[Parallel(n_jobs=20)]: Using backend LokyBackend with 20 concurrent workers.\n"
     ]
    },
    {
     "name": "stdout",
     "output_type": "stream",
     "text": [
      "1531\n"
     ]
    },
    {
     "name": "stderr",
     "output_type": "stream",
     "text": [
      "[Parallel(n_jobs=20)]: Done   8 out of  23 | elapsed:    3.1s remaining:    5.8s\n",
      "[Parallel(n_jobs=20)]: Done  23 out of  23 | elapsed:    3.1s finished\n",
      "[Parallel(n_jobs=20)]: Using backend LokyBackend with 20 concurrent workers.\n",
      "[Parallel(n_jobs=20)]: Done  10 tasks      | elapsed:    0.3s\n",
      "[Parallel(n_jobs=20)]: Done 280 tasks      | elapsed:    1.3s\n",
      "[Parallel(n_jobs=20)]: Done 1080 tasks      | elapsed:    3.3s\n",
      "[Parallel(n_jobs=20)]: Done 1378 out of 1378 | elapsed:    3.6s finished\n",
      "[Parallel(n_jobs=20)]: Using backend LokyBackend with 20 concurrent workers.\n"
     ]
    },
    {
     "name": "stdout",
     "output_type": "stream",
     "text": [
      "1372\n"
     ]
    },
    {
     "name": "stderr",
     "output_type": "stream",
     "text": [
      "[Parallel(n_jobs=20)]: Done   2 out of  13 | elapsed:    1.7s remaining:    9.4s\n",
      "[Parallel(n_jobs=20)]: Done  13 out of  13 | elapsed:    1.7s finished\n",
      "[Parallel(n_jobs=20)]: Using backend LokyBackend with 20 concurrent workers.\n",
      "[Parallel(n_jobs=20)]: Done  10 tasks      | elapsed:    0.3s\n",
      "[Parallel(n_jobs=20)]: Done 440 tasks      | elapsed:    1.5s\n",
      "[Parallel(n_jobs=20)]: Done 748 out of 787 | elapsed:    2.0s remaining:    0.1s\n",
      "[Parallel(n_jobs=20)]: Done 787 out of 787 | elapsed:    2.0s finished\n",
      "[Parallel(n_jobs=20)]: Using backend LokyBackend with 20 concurrent workers.\n"
     ]
    },
    {
     "name": "stdout",
     "output_type": "stream",
     "text": [
      "776\n"
     ]
    },
    {
     "name": "stderr",
     "output_type": "stream",
     "text": [
      "[Parallel(n_jobs=20)]: Done  22 out of  30 | elapsed:    3.1s remaining:    1.1s\n",
      "[Parallel(n_jobs=20)]: Done  30 out of  30 | elapsed:    3.1s finished\n",
      "[Parallel(n_jobs=20)]: Using backend LokyBackend with 20 concurrent workers.\n",
      "[Parallel(n_jobs=20)]: Done  10 tasks      | elapsed:    0.2s\n",
      "[Parallel(n_jobs=20)]: Done 280 tasks      | elapsed:    1.2s\n",
      "[Parallel(n_jobs=20)]: Done 800 tasks      | elapsed:    2.9s\n",
      "[Parallel(n_jobs=20)]: Done 1353 out of 1353 | elapsed:    3.8s finished\n",
      "[Parallel(n_jobs=20)]: Using backend LokyBackend with 20 concurrent workers.\n"
     ]
    },
    {
     "name": "stdout",
     "output_type": "stream",
     "text": [
      "1346\n"
     ]
    },
    {
     "name": "stderr",
     "output_type": "stream",
     "text": [
      "[Parallel(n_jobs=20)]: Done   6 out of  22 | elapsed:    4.2s remaining:   11.1s\n",
      "[Parallel(n_jobs=20)]: Done  22 out of  22 | elapsed:    4.2s finished\n",
      "[Parallel(n_jobs=20)]: Using backend LokyBackend with 20 concurrent workers.\n",
      "[Parallel(n_jobs=20)]: Done  10 tasks      | elapsed:    0.3s\n",
      "[Parallel(n_jobs=20)]: Done 280 tasks      | elapsed:    1.3s\n",
      "[Parallel(n_jobs=20)]: Done 1000 tasks      | elapsed:    3.3s\n",
      "[Parallel(n_jobs=20)]: Done 1912 out of 1912 | elapsed:    5.0s finished\n",
      "[Parallel(n_jobs=20)]: Using backend LokyBackend with 20 concurrent workers.\n"
     ]
    },
    {
     "name": "stdout",
     "output_type": "stream",
     "text": [
      "1908\n"
     ]
    },
    {
     "name": "stderr",
     "output_type": "stream",
     "text": [
      "[Parallel(n_jobs=20)]: Done  30 out of  34 | elapsed:    2.9s remaining:    0.4s\n",
      "[Parallel(n_jobs=20)]: Done  34 out of  34 | elapsed:    2.9s finished\n",
      "[Parallel(n_jobs=20)]: Using backend LokyBackend with 20 concurrent workers.\n",
      "[Parallel(n_jobs=20)]: Done  11 tasks      | elapsed:    0.3s\n",
      "[Parallel(n_jobs=20)]: Done 282 tasks      | elapsed:    1.2s\n",
      "[Parallel(n_jobs=20)]: Done 924 tasks      | elapsed:    3.0s\n",
      "[Parallel(n_jobs=20)]: Done 1253 out of 1253 | elapsed:    3.5s finished\n",
      "[Parallel(n_jobs=20)]: Using backend LokyBackend with 20 concurrent workers.\n"
     ]
    },
    {
     "name": "stdout",
     "output_type": "stream",
     "text": [
      "1262\n"
     ]
    },
    {
     "name": "stderr",
     "output_type": "stream",
     "text": [
      "[Parallel(n_jobs=20)]: Done   8 out of  15 | elapsed:    1.6s remaining:    1.4s\n",
      "[Parallel(n_jobs=20)]: Done  15 out of  15 | elapsed:    1.6s finished\n",
      "[Parallel(n_jobs=20)]: Using backend LokyBackend with 20 concurrent workers.\n",
      "[Parallel(n_jobs=20)]: Done  10 tasks      | elapsed:    0.2s\n",
      "[Parallel(n_jobs=20)]: Done 440 tasks      | elapsed:    1.5s\n",
      "[Parallel(n_jobs=20)]: Done 710 out of 710 | elapsed:    1.9s finished\n",
      "[Parallel(n_jobs=20)]: Using backend LokyBackend with 20 concurrent workers.\n"
     ]
    },
    {
     "name": "stdout",
     "output_type": "stream",
     "text": [
      "707\n"
     ]
    },
    {
     "name": "stderr",
     "output_type": "stream",
     "text": [
      "[Parallel(n_jobs=20)]: Done   6 out of  22 | elapsed:    2.7s remaining:    7.1s\n",
      "[Parallel(n_jobs=20)]: Done  22 out of  22 | elapsed:    2.7s finished\n",
      "[Parallel(n_jobs=20)]: Using backend LokyBackend with 20 concurrent workers.\n",
      "[Parallel(n_jobs=20)]: Done  10 tasks      | elapsed:    0.2s\n",
      "[Parallel(n_jobs=20)]: Done 400 tasks      | elapsed:    1.3s\n",
      "[Parallel(n_jobs=20)]: Done 1201 out of 1201 | elapsed:    2.6s finished\n",
      "[Parallel(n_jobs=20)]: Using backend LokyBackend with 20 concurrent workers.\n"
     ]
    },
    {
     "name": "stdout",
     "output_type": "stream",
     "text": [
      "1197\n"
     ]
    },
    {
     "name": "stderr",
     "output_type": "stream",
     "text": [
      "[Parallel(n_jobs=20)]: Done  44 out of  44 | elapsed:    3.6s finished\n",
      "[Parallel(n_jobs=20)]: Using backend LokyBackend with 20 concurrent workers.\n",
      "[Parallel(n_jobs=20)]: Done  10 tasks      | elapsed:    0.2s\n",
      "[Parallel(n_jobs=20)]: Done 280 tasks      | elapsed:    1.1s\n",
      "[Parallel(n_jobs=20)]: Done 780 tasks      | elapsed:    2.7s\n",
      "[Parallel(n_jobs=20)]: Done 1584 out of 1584 | elapsed:    4.5s finished\n",
      "[Parallel(n_jobs=20)]: Using backend LokyBackend with 20 concurrent workers.\n"
     ]
    },
    {
     "name": "stdout",
     "output_type": "stream",
     "text": [
      "1574\n"
     ]
    },
    {
     "name": "stderr",
     "output_type": "stream",
     "text": [
      "[Parallel(n_jobs=20)]: Done  14 out of  17 | elapsed:    4.0s remaining:    0.9s\n",
      "[Parallel(n_jobs=20)]: Done  17 out of  17 | elapsed:    4.0s finished\n",
      "[Parallel(n_jobs=20)]: Using backend LokyBackend with 20 concurrent workers.\n",
      "[Parallel(n_jobs=20)]: Done  10 tasks      | elapsed:    0.3s\n",
      "[Parallel(n_jobs=20)]: Done 440 tasks      | elapsed:    1.5s\n",
      "[Parallel(n_jobs=20)]: Done 1440 tasks      | elapsed:    3.8s\n",
      "[Parallel(n_jobs=20)]: Done 1796 out of 1835 | elapsed:    4.3s remaining:    0.1s\n",
      "[Parallel(n_jobs=20)]: Done 1835 out of 1835 | elapsed:    4.3s finished\n",
      "[Parallel(n_jobs=20)]: Using backend LokyBackend with 20 concurrent workers.\n"
     ]
    },
    {
     "name": "stdout",
     "output_type": "stream",
     "text": [
      "1832\n"
     ]
    },
    {
     "name": "stderr",
     "output_type": "stream",
     "text": [
      "[Parallel(n_jobs=20)]: Done  22 out of  30 | elapsed:    4.7s remaining:    1.7s\n",
      "[Parallel(n_jobs=20)]: Done  30 out of  30 | elapsed:    4.7s finished\n",
      "[Parallel(n_jobs=20)]: Using backend LokyBackend with 20 concurrent workers.\n",
      "[Parallel(n_jobs=20)]: Done  10 tasks      | elapsed:    0.3s\n",
      "[Parallel(n_jobs=20)]: Done 280 tasks      | elapsed:    1.7s\n",
      "[Parallel(n_jobs=20)]: Done 780 tasks      | elapsed:    5.4s\n",
      "[Parallel(n_jobs=20)]: Done 1480 tasks      | elapsed:    9.4s\n",
      "[Parallel(n_jobs=20)]: Done 2008 out of 2008 | elapsed:   11.4s finished\n",
      "[Parallel(n_jobs=20)]: Using backend LokyBackend with 20 concurrent workers.\n"
     ]
    },
    {
     "name": "stdout",
     "output_type": "stream",
     "text": [
      "2002\n"
     ]
    },
    {
     "name": "stderr",
     "output_type": "stream",
     "text": [
      "[Parallel(n_jobs=20)]: Done   2 out of   6 | elapsed:    4.4s remaining:    8.9s\n",
      "[Parallel(n_jobs=20)]: Done   6 out of   6 | elapsed:    4.4s finished\n",
      "[Parallel(n_jobs=20)]: Using backend LokyBackend with 20 concurrent workers.\n",
      "[Parallel(n_jobs=20)]: Done  10 tasks      | elapsed:    0.3s\n",
      "[Parallel(n_jobs=20)]: Done 440 tasks      | elapsed:    1.5s\n",
      "[Parallel(n_jobs=20)]: Done 1440 tasks      | elapsed:    3.7s\n",
      "[Parallel(n_jobs=20)]: Done 1786 out of 1786 | elapsed:    5.3s finished\n",
      "[Parallel(n_jobs=20)]: Using backend LokyBackend with 20 concurrent workers.\n"
     ]
    },
    {
     "name": "stdout",
     "output_type": "stream",
     "text": [
      "1782\n"
     ]
    },
    {
     "name": "stderr",
     "output_type": "stream",
     "text": [
      "[Parallel(n_jobs=20)]: Done   6 out of  22 | elapsed:    8.7s remaining:   23.1s\n",
      "[Parallel(n_jobs=20)]: Done  22 out of  22 | elapsed:    8.7s finished\n",
      "[Parallel(n_jobs=20)]: Using backend LokyBackend with 20 concurrent workers.\n",
      "[Parallel(n_jobs=20)]: Done  12 tasks      | elapsed:    0.4s\n",
      "[Parallel(n_jobs=20)]: Done 284 tasks      | elapsed:    2.7s\n",
      "[Parallel(n_jobs=20)]: Done 784 tasks      | elapsed:    6.3s\n",
      "[Parallel(n_jobs=20)]: Done 1192 out of 1192 | elapsed:    8.3s finished\n",
      "[Parallel(n_jobs=20)]: Using backend LokyBackend with 20 concurrent workers.\n"
     ]
    },
    {
     "name": "stdout",
     "output_type": "stream",
     "text": [
      "1185\n"
     ]
    },
    {
     "name": "stderr",
     "output_type": "stream",
     "text": [
      "[Parallel(n_jobs=20)]: Done  19 out of  19 | elapsed:    9.1s finished\n",
      "[Parallel(n_jobs=20)]: Using backend LokyBackend with 20 concurrent workers.\n",
      "[Parallel(n_jobs=20)]: Done  13 tasks      | elapsed:    0.5s\n",
      "[Parallel(n_jobs=20)]: Done 286 tasks      | elapsed:    2.0s\n",
      "[Parallel(n_jobs=20)]: Done 786 tasks      | elapsed:    4.4s\n",
      "[Parallel(n_jobs=20)]: Done 1393 out of 1393 | elapsed:    7.2s finished\n",
      "[Parallel(n_jobs=20)]: Using backend LokyBackend with 20 concurrent workers.\n"
     ]
    },
    {
     "name": "stdout",
     "output_type": "stream",
     "text": [
      "1388\n"
     ]
    },
    {
     "name": "stderr",
     "output_type": "stream",
     "text": [
      "[Parallel(n_jobs=20)]: Done   2 out of   5 | elapsed:    3.1s remaining:    4.6s\n",
      "[Parallel(n_jobs=20)]: Done   5 out of   5 | elapsed:    3.1s finished\n",
      "[Parallel(n_jobs=20)]: Using backend LokyBackend with 20 concurrent workers.\n",
      "[Parallel(n_jobs=20)]: Done  11 tasks      | elapsed:    0.4s\n",
      "[Parallel(n_jobs=20)]: Done 282 tasks      | elapsed:    1.9s\n",
      "[Parallel(n_jobs=20)]: Done 606 out of 606 | elapsed:    3.1s finished\n",
      "[Parallel(n_jobs=20)]: Using backend LokyBackend with 20 concurrent workers.\n"
     ]
    },
    {
     "name": "stdout",
     "output_type": "stream",
     "text": [
      "600\n"
     ]
    },
    {
     "name": "stderr",
     "output_type": "stream",
     "text": [
      "[Parallel(n_jobs=20)]: Done   8 out of  23 | elapsed:    4.1s remaining:    7.8s\n",
      "[Parallel(n_jobs=20)]: Done  23 out of  23 | elapsed:    4.2s finished\n",
      "[Parallel(n_jobs=20)]: Using backend LokyBackend with 20 concurrent workers.\n",
      "[Parallel(n_jobs=20)]: Done  10 tasks      | elapsed:    0.3s\n",
      "[Parallel(n_jobs=20)]: Done 280 tasks      | elapsed:    1.5s\n",
      "[Parallel(n_jobs=20)]: Done 780 tasks      | elapsed:    3.6s\n",
      "[Parallel(n_jobs=20)]: Done 1366 out of 1366 | elapsed:    5.6s finished\n",
      "[Parallel(n_jobs=20)]: Using backend LokyBackend with 20 concurrent workers.\n"
     ]
    },
    {
     "name": "stdout",
     "output_type": "stream",
     "text": [
      "1357\n"
     ]
    },
    {
     "name": "stderr",
     "output_type": "stream",
     "text": [
      "[Parallel(n_jobs=20)]: Done  18 out of  18 | elapsed:    4.7s finished\n",
      "[Parallel(n_jobs=20)]: Using backend LokyBackend with 20 concurrent workers.\n",
      "[Parallel(n_jobs=20)]: Done  10 tasks      | elapsed:    0.4s\n",
      "[Parallel(n_jobs=20)]: Done 280 tasks      | elapsed:    1.4s\n",
      "[Parallel(n_jobs=20)]: Done 780 tasks      | elapsed:    3.2s\n",
      "[Parallel(n_jobs=20)]: Done 1480 tasks      | elapsed:    5.5s\n",
      "[Parallel(n_jobs=20)]: Done 1822 out of 1861 | elapsed:    6.5s remaining:    0.1s\n",
      "[Parallel(n_jobs=20)]: Done 1861 out of 1861 | elapsed:    6.5s finished\n",
      "[Parallel(n_jobs=20)]: Using backend LokyBackend with 20 concurrent workers.\n"
     ]
    },
    {
     "name": "stdout",
     "output_type": "stream",
     "text": [
      "1854\n"
     ]
    },
    {
     "name": "stderr",
     "output_type": "stream",
     "text": [
      "[Parallel(n_jobs=20)]: Done   8 out of  23 | elapsed:    3.9s remaining:    7.2s\n",
      "[Parallel(n_jobs=20)]: Done  23 out of  23 | elapsed:    3.9s finished\n",
      "[Parallel(n_jobs=20)]: Using backend LokyBackend with 20 concurrent workers.\n",
      "[Parallel(n_jobs=20)]: Done  11 tasks      | elapsed:    0.4s\n",
      "[Parallel(n_jobs=20)]: Done 282 tasks      | elapsed:    2.6s\n",
      "[Parallel(n_jobs=20)]: Done 782 tasks      | elapsed:    6.6s\n",
      "[Parallel(n_jobs=20)]: Done 1482 tasks      | elapsed:   10.4s\n",
      "[Parallel(n_jobs=20)]: Done 1622 out of 1622 | elapsed:   11.0s finished\n",
      "[Parallel(n_jobs=20)]: Using backend LokyBackend with 20 concurrent workers.\n"
     ]
    },
    {
     "name": "stdout",
     "output_type": "stream",
     "text": [
      "1617\n"
     ]
    },
    {
     "name": "stderr",
     "output_type": "stream",
     "text": [
      "[Parallel(n_jobs=20)]: Done   7 out of   7 | elapsed:    4.1s finished\n",
      "[Parallel(n_jobs=20)]: Using backend LokyBackend with 20 concurrent workers.\n",
      "[Parallel(n_jobs=20)]: Done  12 tasks      | elapsed:    0.4s\n",
      "[Parallel(n_jobs=20)]: Done 284 tasks      | elapsed:    2.0s\n",
      "[Parallel(n_jobs=20)]: Done 828 out of 828 | elapsed:    4.5s finished\n",
      "[Parallel(n_jobs=20)]: Using backend LokyBackend with 20 concurrent workers.\n"
     ]
    },
    {
     "name": "stdout",
     "output_type": "stream",
     "text": [
      "822\n"
     ]
    },
    {
     "name": "stderr",
     "output_type": "stream",
     "text": [
      "[Parallel(n_jobs=20)]: Done   2 out of  13 | elapsed:    5.1s remaining:   27.9s\n",
      "[Parallel(n_jobs=20)]: Done  13 out of  13 | elapsed:    5.1s finished\n",
      "[Parallel(n_jobs=20)]: Using backend LokyBackend with 20 concurrent workers.\n",
      "[Parallel(n_jobs=20)]: Done  10 tasks      | elapsed:    0.3s\n",
      "[Parallel(n_jobs=20)]: Done 280 tasks      | elapsed:    1.5s\n",
      "[Parallel(n_jobs=20)]: Done 780 tasks      | elapsed:    3.4s\n",
      "[Parallel(n_jobs=20)]: Done 1480 tasks      | elapsed:    6.0s\n",
      "[Parallel(n_jobs=20)]: Done 1664 out of 1703 | elapsed:    6.7s remaining:    0.2s\n",
      "[Parallel(n_jobs=20)]: Done 1703 out of 1703 | elapsed:    6.7s finished\n",
      "[Parallel(n_jobs=20)]: Using backend LokyBackend with 20 concurrent workers.\n"
     ]
    },
    {
     "name": "stdout",
     "output_type": "stream",
     "text": [
      "1701\n"
     ]
    },
    {
     "name": "stderr",
     "output_type": "stream",
     "text": [
      "[Parallel(n_jobs=20)]: Done  10 tasks      | elapsed:    4.7s\n",
      "[Parallel(n_jobs=20)]: Done  49 out of  49 | elapsed:    4.7s finished\n",
      "[Parallel(n_jobs=20)]: Using backend LokyBackend with 20 concurrent workers.\n",
      "[Parallel(n_jobs=20)]: Done  10 tasks      | elapsed:    0.3s\n",
      "[Parallel(n_jobs=20)]: Done 440 tasks      | elapsed:    1.5s\n",
      "[Parallel(n_jobs=20)]: Done 1440 tasks      | elapsed:    3.6s\n",
      "[Parallel(n_jobs=20)]: Done 1869 out of 1869 | elapsed:    5.0s finished\n",
      "[Parallel(n_jobs=20)]: Using backend LokyBackend with 20 concurrent workers.\n"
     ]
    },
    {
     "name": "stdout",
     "output_type": "stream",
     "text": [
      "1855\n"
     ]
    },
    {
     "name": "stderr",
     "output_type": "stream",
     "text": [
      "[Parallel(n_jobs=20)]: Done   6 out of  22 | elapsed:    3.3s remaining:    8.9s\n",
      "[Parallel(n_jobs=20)]: Done  22 out of  22 | elapsed:    3.3s finished\n",
      "[Parallel(n_jobs=20)]: Using backend LokyBackend with 20 concurrent workers.\n",
      "[Parallel(n_jobs=20)]: Done  10 tasks      | elapsed:    0.3s\n",
      "[Parallel(n_jobs=20)]: Done 280 tasks      | elapsed:    2.0s\n",
      "[Parallel(n_jobs=20)]: Done 1000 tasks      | elapsed:    3.9s\n",
      "[Parallel(n_jobs=20)]: Done 1257 out of 1257 | elapsed:    4.2s finished\n",
      "[Parallel(n_jobs=20)]: Using backend LokyBackend with 20 concurrent workers.\n"
     ]
    },
    {
     "name": "stdout",
     "output_type": "stream",
     "text": [
      "1252\n"
     ]
    },
    {
     "name": "stderr",
     "output_type": "stream",
     "text": [
      "[Parallel(n_jobs=20)]: Done   4 out of  21 | elapsed:    3.0s remaining:   12.9s\n",
      "[Parallel(n_jobs=20)]: Done  21 out of  21 | elapsed:    3.1s finished\n",
      "[Parallel(n_jobs=20)]: Using backend LokyBackend with 20 concurrent workers.\n",
      "[Parallel(n_jobs=20)]: Done  10 tasks      | elapsed:    0.2s\n",
      "[Parallel(n_jobs=20)]: Done 280 tasks      | elapsed:    1.2s\n",
      "[Parallel(n_jobs=20)]: Done 1000 tasks      | elapsed:    3.2s\n",
      "[Parallel(n_jobs=20)]: Done 1334 out of 1334 | elapsed:    3.6s finished\n",
      "[Parallel(n_jobs=20)]: Using backend LokyBackend with 20 concurrent workers.\n"
     ]
    },
    {
     "name": "stdout",
     "output_type": "stream",
     "text": [
      "1329\n"
     ]
    },
    {
     "name": "stderr",
     "output_type": "stream",
     "text": [
      "[Parallel(n_jobs=20)]: Done   4 out of  10 | elapsed:    1.6s remaining:    2.3s\n",
      "[Parallel(n_jobs=20)]: Done  10 out of  10 | elapsed:    1.6s finished\n",
      "[Parallel(n_jobs=20)]: Using backend LokyBackend with 20 concurrent workers.\n",
      "[Parallel(n_jobs=20)]: Done  10 tasks      | elapsed:    0.2s\n",
      "[Parallel(n_jobs=20)]: Done 280 tasks      | elapsed:    1.2s\n",
      "[Parallel(n_jobs=20)]: Done 709 out of 709 | elapsed:    2.2s finished\n",
      "[Parallel(n_jobs=20)]: Using backend LokyBackend with 20 concurrent workers.\n"
     ]
    },
    {
     "name": "stdout",
     "output_type": "stream",
     "text": [
      "706\n"
     ]
    },
    {
     "name": "stderr",
     "output_type": "stream",
     "text": [
      "[Parallel(n_jobs=20)]: Done  44 out of  44 | elapsed:    4.3s finished\n",
      "[Parallel(n_jobs=20)]: Using backend LokyBackend with 20 concurrent workers.\n",
      "[Parallel(n_jobs=20)]: Done  10 tasks      | elapsed:    0.3s\n",
      "[Parallel(n_jobs=20)]: Done 280 tasks      | elapsed:    1.1s\n",
      "[Parallel(n_jobs=20)]: Done 840 tasks      | elapsed:    3.3s\n",
      "[Parallel(n_jobs=20)]: Done 1898 out of 1898 | elapsed:    8.9s finished\n",
      "[Parallel(n_jobs=20)]: Using backend LokyBackend with 20 concurrent workers.\n"
     ]
    },
    {
     "name": "stdout",
     "output_type": "stream",
     "text": [
      "1892\n"
     ]
    },
    {
     "name": "stderr",
     "output_type": "stream",
     "text": [
      "[Parallel(n_jobs=20)]: Done   7 out of   7 | elapsed:    2.3s finished\n",
      "[Parallel(n_jobs=20)]: Using backend LokyBackend with 20 concurrent workers.\n",
      "[Parallel(n_jobs=20)]: Done  10 tasks      | elapsed:    0.4s\n",
      "[Parallel(n_jobs=20)]: Done 280 tasks      | elapsed:    1.6s\n",
      "[Parallel(n_jobs=20)]: Done 584 out of 623 | elapsed:    2.7s remaining:    0.2s\n",
      "[Parallel(n_jobs=20)]: Done 623 out of 623 | elapsed:    2.7s finished\n",
      "[Parallel(n_jobs=20)]: Using backend LokyBackend with 20 concurrent workers.\n"
     ]
    },
    {
     "name": "stdout",
     "output_type": "stream",
     "text": [
      "621\n"
     ]
    },
    {
     "name": "stderr",
     "output_type": "stream",
     "text": [
      "[Parallel(n_jobs=20)]: Done   8 out of  11 | elapsed:    4.9s remaining:    1.8s\n",
      "[Parallel(n_jobs=20)]: Done  11 out of  11 | elapsed:    4.9s finished\n",
      "[Parallel(n_jobs=20)]: Using backend LokyBackend with 20 concurrent workers.\n",
      "[Parallel(n_jobs=20)]: Done  10 tasks      | elapsed:    0.3s\n",
      "[Parallel(n_jobs=20)]: Done 280 tasks      | elapsed:    1.1s\n",
      "[Parallel(n_jobs=20)]: Done 780 tasks      | elapsed:    3.4s\n",
      "[Parallel(n_jobs=20)]: Done 1480 tasks      | elapsed:    8.7s\n",
      "[Parallel(n_jobs=20)]: Done 1882 out of 1882 | elapsed:   11.8s finished\n",
      "[Parallel(n_jobs=20)]: Using backend LokyBackend with 20 concurrent workers.\n"
     ]
    },
    {
     "name": "stdout",
     "output_type": "stream",
     "text": [
      "1880\n"
     ]
    },
    {
     "name": "stderr",
     "output_type": "stream",
     "text": [
      "[Parallel(n_jobs=20)]: Done  12 out of  25 | elapsed:    7.6s remaining:    8.2s\n",
      "[Parallel(n_jobs=20)]: Done  25 out of  25 | elapsed:    7.7s finished\n",
      "[Parallel(n_jobs=20)]: Using backend LokyBackend with 20 concurrent workers.\n",
      "[Parallel(n_jobs=20)]: Done  11 tasks      | elapsed:    0.5s\n",
      "[Parallel(n_jobs=20)]: Done 282 tasks      | elapsed:    1.9s\n",
      "[Parallel(n_jobs=20)]: Done 782 tasks      | elapsed:    4.4s\n",
      "[Parallel(n_jobs=20)]: Done 1018 out of 1057 | elapsed:    5.4s remaining:    0.2s\n",
      "[Parallel(n_jobs=20)]: Done 1057 out of 1057 | elapsed:    5.4s finished\n",
      "[Parallel(n_jobs=20)]: Using backend LokyBackend with 20 concurrent workers.\n"
     ]
    },
    {
     "name": "stdout",
     "output_type": "stream",
     "text": [
      "1045\n"
     ]
    },
    {
     "name": "stderr",
     "output_type": "stream",
     "text": [
      "[Parallel(n_jobs=20)]: Done  16 out of  27 | elapsed:    9.4s remaining:    6.5s\n",
      "[Parallel(n_jobs=20)]: Done  27 out of  27 | elapsed:    9.5s finished\n",
      "[Parallel(n_jobs=20)]: Using backend LokyBackend with 20 concurrent workers.\n",
      "[Parallel(n_jobs=20)]: Done  11 tasks      | elapsed:    0.4s\n",
      "[Parallel(n_jobs=20)]: Done 282 tasks      | elapsed:    1.9s\n",
      "[Parallel(n_jobs=20)]: Done 782 tasks      | elapsed:    4.5s\n",
      "[Parallel(n_jobs=20)]: Done 1330 out of 1369 | elapsed:    7.1s remaining:    0.2s\n",
      "[Parallel(n_jobs=20)]: Done 1369 out of 1369 | elapsed:    7.1s finished\n",
      "[Parallel(n_jobs=20)]: Using backend LokyBackend with 20 concurrent workers.\n"
     ]
    },
    {
     "name": "stdout",
     "output_type": "stream",
     "text": [
      "1359\n"
     ]
    },
    {
     "name": "stderr",
     "output_type": "stream",
     "text": [
      "[Parallel(n_jobs=20)]: Done  11 out of  16 | elapsed:    3.9s remaining:    1.8s\n",
      "[Parallel(n_jobs=20)]: Done  16 out of  16 | elapsed:    3.9s finished\n",
      "[Parallel(n_jobs=20)]: Using backend LokyBackend with 20 concurrent workers.\n",
      "[Parallel(n_jobs=20)]: Done  10 tasks      | elapsed:    0.3s\n",
      "[Parallel(n_jobs=20)]: Done 280 tasks      | elapsed:    1.6s\n",
      "[Parallel(n_jobs=20)]: Done 780 tasks      | elapsed:    3.7s\n",
      "[Parallel(n_jobs=20)]: Done 1212 out of 1212 | elapsed:    5.0s finished\n",
      "[Parallel(n_jobs=20)]: Using backend LokyBackend with 20 concurrent workers.\n"
     ]
    },
    {
     "name": "stdout",
     "output_type": "stream",
     "text": [
      "1208\n"
     ]
    },
    {
     "name": "stderr",
     "output_type": "stream",
     "text": [
      "[Parallel(n_jobs=20)]: Done  19 out of  19 | elapsed:    2.2s finished\n",
      "[Parallel(n_jobs=20)]: Using backend LokyBackend with 20 concurrent workers.\n",
      "[Parallel(n_jobs=20)]: Done  10 tasks      | elapsed:    0.3s\n",
      "[Parallel(n_jobs=20)]: Done 280 tasks      | elapsed:    1.5s\n",
      "[Parallel(n_jobs=20)]: Done 756 out of 795 | elapsed:    3.2s remaining:    0.2s\n",
      "[Parallel(n_jobs=20)]: Done 795 out of 795 | elapsed:    3.2s finished\n",
      "[Parallel(n_jobs=20)]: Using backend LokyBackend with 20 concurrent workers.\n"
     ]
    },
    {
     "name": "stdout",
     "output_type": "stream",
     "text": [
      "780\n"
     ]
    },
    {
     "name": "stderr",
     "output_type": "stream",
     "text": [
      "[Parallel(n_jobs=20)]: Done  10 tasks      | elapsed:    5.1s\n",
      "[Parallel(n_jobs=20)]: Done  55 out of  55 | elapsed:    5.1s finished\n",
      "[Parallel(n_jobs=20)]: Using backend LokyBackend with 20 concurrent workers.\n",
      "[Parallel(n_jobs=20)]: Done  10 tasks      | elapsed:    0.3s\n",
      "[Parallel(n_jobs=20)]: Done 280 tasks      | elapsed:    1.4s\n",
      "[Parallel(n_jobs=20)]: Done 780 tasks      | elapsed:    3.0s\n",
      "[Parallel(n_jobs=20)]: Done 1520 tasks      | elapsed:    5.2s\n",
      "[Parallel(n_jobs=20)]: Done 1996 out of 1996 | elapsed:    6.1s finished\n",
      "[Parallel(n_jobs=20)]: Using backend LokyBackend with 20 concurrent workers.\n"
     ]
    },
    {
     "name": "stdout",
     "output_type": "stream",
     "text": [
      "1989\n"
     ]
    },
    {
     "name": "stderr",
     "output_type": "stream",
     "text": [
      "[Parallel(n_jobs=20)]: Done   5 out of  14 | elapsed:    1.5s remaining:    2.7s\n",
      "[Parallel(n_jobs=20)]: Done  14 out of  14 | elapsed:    1.5s finished\n",
      "[Parallel(n_jobs=20)]: Using backend LokyBackend with 20 concurrent workers.\n",
      "[Parallel(n_jobs=20)]: Done  10 tasks      | elapsed:    0.3s\n",
      "[Parallel(n_jobs=20)]: Done 280 tasks      | elapsed:    1.3s\n",
      "[Parallel(n_jobs=20)]: Done 608 out of 647 | elapsed:    3.5s remaining:    0.2s\n",
      "[Parallel(n_jobs=20)]: Done 647 out of 647 | elapsed:    3.7s finished\n"
     ]
    },
    {
     "name": "stdout",
     "output_type": "stream",
     "text": [
      "645\n"
     ]
    },
    {
     "name": "stderr",
     "output_type": "stream",
     "text": [
      "[Parallel(n_jobs=20)]: Using backend LokyBackend with 20 concurrent workers.\n",
      "[Parallel(n_jobs=20)]: Done  10 out of  24 | elapsed:    9.6s remaining:   13.5s\n",
      "[Parallel(n_jobs=20)]: Done  24 out of  24 | elapsed:    9.6s finished\n",
      "[Parallel(n_jobs=20)]: Using backend LokyBackend with 20 concurrent workers.\n",
      "[Parallel(n_jobs=20)]: Done  10 tasks      | elapsed:    0.3s\n",
      "[Parallel(n_jobs=20)]: Done 280 tasks      | elapsed:    2.0s\n",
      "[Parallel(n_jobs=20)]: Done 780 tasks      | elapsed:    4.7s\n",
      "[Parallel(n_jobs=20)]: Done 1170 out of 1170 | elapsed:    6.3s finished\n"
     ]
    },
    {
     "name": "stdout",
     "output_type": "stream",
     "text": [
      "1168\n"
     ]
    },
    {
     "name": "stderr",
     "output_type": "stream",
     "text": [
      "[Parallel(n_jobs=20)]: Using backend LokyBackend with 20 concurrent workers.\n",
      "[Parallel(n_jobs=20)]: Done  18 out of  18 | elapsed:    2.2s finished\n",
      "[Parallel(n_jobs=20)]: Using backend LokyBackend with 20 concurrent workers.\n",
      "[Parallel(n_jobs=20)]: Done  12 tasks      | elapsed:    0.3s\n",
      "[Parallel(n_jobs=20)]: Done 284 tasks      | elapsed:    1.5s\n",
      "[Parallel(n_jobs=20)]: Done 646 out of 685 | elapsed:    3.0s remaining:    0.2s\n",
      "[Parallel(n_jobs=20)]: Done 685 out of 685 | elapsed:    3.0s finished\n",
      "[Parallel(n_jobs=20)]: Using backend LokyBackend with 20 concurrent workers.\n"
     ]
    },
    {
     "name": "stdout",
     "output_type": "stream",
     "text": [
      "678\n"
     ]
    },
    {
     "name": "stderr",
     "output_type": "stream",
     "text": [
      "[Parallel(n_jobs=20)]: Done  12 out of  12 | elapsed:    2.8s remaining:    0.0s\n",
      "[Parallel(n_jobs=20)]: Done  12 out of  12 | elapsed:    2.8s finished\n",
      "[Parallel(n_jobs=20)]: Using backend LokyBackend with 20 concurrent workers.\n",
      "[Parallel(n_jobs=20)]: Done  10 tasks      | elapsed:    0.3s\n",
      "[Parallel(n_jobs=20)]: Done 280 tasks      | elapsed:    1.4s\n",
      "[Parallel(n_jobs=20)]: Done 780 tasks      | elapsed:    3.3s\n",
      "[Parallel(n_jobs=20)]: Done 1014 out of 1014 | elapsed:    3.9s finished\n",
      "[Parallel(n_jobs=20)]: Using backend LokyBackend with 20 concurrent workers.\n"
     ]
    },
    {
     "name": "stdout",
     "output_type": "stream",
     "text": [
      "1007\n"
     ]
    },
    {
     "name": "stderr",
     "output_type": "stream",
     "text": [
      "[Parallel(n_jobs=20)]: Done  32 out of  35 | elapsed:    3.7s remaining:    0.3s\n",
      "[Parallel(n_jobs=20)]: Done  35 out of  35 | elapsed:    3.7s finished\n",
      "[Parallel(n_jobs=20)]: Using backend LokyBackend with 20 concurrent workers.\n",
      "[Parallel(n_jobs=20)]: Done  10 tasks      | elapsed:    0.3s\n",
      "[Parallel(n_jobs=20)]: Done 440 tasks      | elapsed:    1.5s\n",
      "[Parallel(n_jobs=20)]: Done 1410 tasks      | elapsed:    3.4s\n",
      "[Parallel(n_jobs=20)]: Done 1454 out of 1454 | elapsed:    3.4s finished\n",
      "[Parallel(n_jobs=20)]: Using backend LokyBackend with 20 concurrent workers.\n"
     ]
    },
    {
     "name": "stdout",
     "output_type": "stream",
     "text": [
      "1442\n"
     ]
    },
    {
     "name": "stderr",
     "output_type": "stream",
     "text": [
      "[Parallel(n_jobs=20)]: Done  10 out of  24 | elapsed:    3.1s remaining:    4.3s\n",
      "[Parallel(n_jobs=20)]: Done  24 out of  24 | elapsed:    3.1s finished\n",
      "[Parallel(n_jobs=20)]: Using backend LokyBackend with 20 concurrent workers.\n",
      "[Parallel(n_jobs=20)]: Done 252 tasks      | elapsed:    1.6s\n",
      "[Parallel(n_jobs=20)]: Done 752 tasks      | elapsed:    3.2s\n",
      "[Parallel(n_jobs=20)]: Done 1020 out of 1059 | elapsed:    3.7s remaining:    0.1s\n",
      "[Parallel(n_jobs=20)]: Done 1059 out of 1059 | elapsed:    3.7s finished\n",
      "[Parallel(n_jobs=20)]: Using backend LokyBackend with 20 concurrent workers.\n"
     ]
    },
    {
     "name": "stdout",
     "output_type": "stream",
     "text": [
      "1049\n"
     ]
    },
    {
     "name": "stderr",
     "output_type": "stream",
     "text": [
      "[Parallel(n_jobs=20)]: Done  32 out of  35 | elapsed:    5.7s remaining:    0.5s\n",
      "[Parallel(n_jobs=20)]: Done  35 out of  35 | elapsed:    5.7s finished\n",
      "[Parallel(n_jobs=20)]: Using backend LokyBackend with 20 concurrent workers.\n",
      "[Parallel(n_jobs=20)]: Done  10 tasks      | elapsed:    0.3s\n",
      "[Parallel(n_jobs=20)]: Done 360 tasks      | elapsed:    1.3s\n",
      "[Parallel(n_jobs=20)]: Done 1330 tasks      | elapsed:    3.3s\n",
      "[Parallel(n_jobs=20)]: Done 1385 out of 1385 | elapsed:    3.3s finished\n",
      "[Parallel(n_jobs=20)]: Using backend LokyBackend with 20 concurrent workers.\n"
     ]
    },
    {
     "name": "stdout",
     "output_type": "stream",
     "text": [
      "1375\n"
     ]
    },
    {
     "name": "stderr",
     "output_type": "stream",
     "text": [
      "[Parallel(n_jobs=20)]: Done  16 out of  27 | elapsed:    3.9s remaining:    2.7s\n",
      "[Parallel(n_jobs=20)]: Done  27 out of  27 | elapsed:    3.9s finished\n",
      "[Parallel(n_jobs=20)]: Using backend LokyBackend with 20 concurrent workers.\n",
      "[Parallel(n_jobs=20)]: Done  17 tasks      | elapsed:    0.4s\n",
      "[Parallel(n_jobs=20)]: Done 294 tasks      | elapsed:    2.4s\n",
      "[Parallel(n_jobs=20)]: Done 794 tasks      | elapsed:    5.3s\n",
      "[Parallel(n_jobs=20)]: Done 839 out of 839 | elapsed:    5.5s finished\n"
     ]
    },
    {
     "name": "stdout",
     "output_type": "stream",
     "text": [
      "826\n"
     ]
    },
    {
     "name": "stderr",
     "output_type": "stream",
     "text": [
      "[Parallel(n_jobs=20)]: Using backend LokyBackend with 20 concurrent workers.\n",
      "[Parallel(n_jobs=20)]: Done  46 out of  46 | elapsed:    6.5s finished\n",
      "[Parallel(n_jobs=20)]: Using backend LokyBackend with 20 concurrent workers.\n",
      "[Parallel(n_jobs=20)]: Done  10 tasks      | elapsed:    0.3s\n",
      "[Parallel(n_jobs=20)]: Done 280 tasks      | elapsed:    1.3s\n",
      "[Parallel(n_jobs=20)]: Done 780 tasks      | elapsed:    3.0s\n",
      "[Parallel(n_jobs=20)]: Done 1480 tasks      | elapsed:    5.3s\n",
      "[Parallel(n_jobs=20)]: Done 1770 out of 1770 | elapsed:    6.0s finished\n",
      "[Parallel(n_jobs=20)]: Using backend LokyBackend with 20 concurrent workers.\n"
     ]
    },
    {
     "name": "stdout",
     "output_type": "stream",
     "text": [
      "1764\n"
     ]
    },
    {
     "name": "stderr",
     "output_type": "stream",
     "text": [
      "[Parallel(n_jobs=20)]: Done  12 out of  12 | elapsed:    2.8s remaining:    0.0s\n",
      "[Parallel(n_jobs=20)]: Done  12 out of  12 | elapsed:    2.8s finished\n",
      "[Parallel(n_jobs=20)]: Using backend LokyBackend with 20 concurrent workers.\n",
      "[Parallel(n_jobs=20)]: Done  10 tasks      | elapsed:    0.3s\n",
      "[Parallel(n_jobs=20)]: Done 440 tasks      | elapsed:    1.4s\n",
      "[Parallel(n_jobs=20)]: Done 1212 out of 1212 | elapsed:    2.8s finished\n",
      "[Parallel(n_jobs=20)]: Using backend LokyBackend with 20 concurrent workers.\n"
     ]
    },
    {
     "name": "stdout",
     "output_type": "stream",
     "text": [
      "1209\n"
     ]
    },
    {
     "name": "stderr",
     "output_type": "stream",
     "text": [
      "[Parallel(n_jobs=20)]: Done   2 out of  20 | elapsed:    8.7s remaining:  1.3min\n",
      "[Parallel(n_jobs=20)]: Done  20 out of  20 | elapsed:    8.7s finished\n",
      "[Parallel(n_jobs=20)]: Using backend LokyBackend with 20 concurrent workers.\n",
      "[Parallel(n_jobs=20)]: Done  11 tasks      | elapsed:    0.4s\n",
      "[Parallel(n_jobs=20)]: Done 282 tasks      | elapsed:    1.7s\n",
      "[Parallel(n_jobs=20)]: Done 782 tasks      | elapsed:    3.5s\n",
      "[Parallel(n_jobs=20)]: Done 1482 tasks      | elapsed:    5.8s\n",
      "[Parallel(n_jobs=20)]: Done 1780 out of 1780 | elapsed:    6.5s finished\n",
      "[Parallel(n_jobs=20)]: Using backend LokyBackend with 20 concurrent workers.\n"
     ]
    },
    {
     "name": "stdout",
     "output_type": "stream",
     "text": [
      "1777\n"
     ]
    },
    {
     "name": "stderr",
     "output_type": "stream",
     "text": [
      "[Parallel(n_jobs=20)]: Done  12 out of  25 | elapsed:    1.8s remaining:    2.0s\n",
      "[Parallel(n_jobs=20)]: Done  25 out of  25 | elapsed:    1.8s finished\n",
      "[Parallel(n_jobs=20)]: Using backend LokyBackend with 20 concurrent workers.\n",
      "[Parallel(n_jobs=20)]: Done  10 tasks      | elapsed:    0.3s\n",
      "[Parallel(n_jobs=20)]: Done 280 tasks      | elapsed:    1.1s\n",
      "[Parallel(n_jobs=20)]: Done 708 out of 747 | elapsed:    2.7s remaining:    0.2s\n"
     ]
    },
    {
     "name": "stdout",
     "output_type": "stream",
     "text": [
      "736\n"
     ]
    },
    {
     "name": "stderr",
     "output_type": "stream",
     "text": [
      "[Parallel(n_jobs=20)]: Done 747 out of 747 | elapsed:    3.0s finished\n",
      "[Parallel(n_jobs=20)]: Using backend LokyBackend with 20 concurrent workers.\n",
      "[Parallel(n_jobs=20)]: Done  14 out of  17 | elapsed:   10.0s remaining:    2.1s\n",
      "[Parallel(n_jobs=20)]: Done  17 out of  17 | elapsed:   10.0s finished\n",
      "[Parallel(n_jobs=20)]: Using backend LokyBackend with 20 concurrent workers.\n",
      "[Parallel(n_jobs=20)]: Done 252 tasks      | elapsed:    2.0s\n",
      "[Parallel(n_jobs=20)]: Done 752 tasks      | elapsed:    4.7s\n",
      "[Parallel(n_jobs=20)]: Done 1490 out of 1529 | elapsed:    8.2s remaining:    0.2s\n",
      "[Parallel(n_jobs=20)]: Done 1529 out of 1529 | elapsed:    8.2s finished\n",
      "[Parallel(n_jobs=20)]: Using backend LokyBackend with 20 concurrent workers.\n"
     ]
    },
    {
     "name": "stdout",
     "output_type": "stream",
     "text": [
      "1522\n"
     ]
    },
    {
     "name": "stderr",
     "output_type": "stream",
     "text": [
      "[Parallel(n_jobs=20)]: Done   2 out of  20 | elapsed:    6.0s remaining:   53.6s\n",
      "[Parallel(n_jobs=20)]: Done  20 out of  20 | elapsed:    6.0s finished\n",
      "[Parallel(n_jobs=20)]: Using backend LokyBackend with 20 concurrent workers.\n",
      "[Parallel(n_jobs=20)]: Done  12 tasks      | elapsed:    0.4s\n",
      "[Parallel(n_jobs=20)]: Done 284 tasks      | elapsed:    1.9s\n",
      "[Parallel(n_jobs=20)]: Done 784 tasks      | elapsed:    4.4s\n",
      "[Parallel(n_jobs=20)]: Done 1192 out of 1192 | elapsed:    5.9s finished\n",
      "[Parallel(n_jobs=20)]: Using backend LokyBackend with 20 concurrent workers.\n"
     ]
    },
    {
     "name": "stdout",
     "output_type": "stream",
     "text": [
      "1190\n"
     ]
    },
    {
     "name": "stderr",
     "output_type": "stream",
     "text": [
      "[Parallel(n_jobs=20)]: Done  18 out of  28 | elapsed:    5.7s remaining:    3.2s\n",
      "[Parallel(n_jobs=20)]: Done  28 out of  28 | elapsed:    5.7s finished\n",
      "[Parallel(n_jobs=20)]: Using backend LokyBackend with 20 concurrent workers.\n",
      "[Parallel(n_jobs=20)]: Done  10 tasks      | elapsed:    0.3s\n",
      "[Parallel(n_jobs=20)]: Done 280 tasks      | elapsed:    1.4s\n",
      "[Parallel(n_jobs=20)]: Done 780 tasks      | elapsed:    3.5s\n",
      "[Parallel(n_jobs=20)]: Done 1480 tasks      | elapsed:    6.0s\n",
      "[Parallel(n_jobs=20)]: Done 1960 out of 1960 | elapsed:    7.5s finished\n",
      "[Parallel(n_jobs=20)]: Using backend LokyBackend with 20 concurrent workers.\n"
     ]
    },
    {
     "name": "stdout",
     "output_type": "stream",
     "text": [
      "1958\n"
     ]
    },
    {
     "name": "stderr",
     "output_type": "stream",
     "text": [
      "[Parallel(n_jobs=20)]: Done   5 out of  14 | elapsed:    2.6s remaining:    4.7s\n",
      "[Parallel(n_jobs=20)]: Done  14 out of  14 | elapsed:    2.6s finished\n",
      "[Parallel(n_jobs=20)]: Using backend LokyBackend with 20 concurrent workers.\n",
      "[Parallel(n_jobs=20)]: Done  10 tasks      | elapsed:    0.2s\n",
      "[Parallel(n_jobs=20)]: Done 280 tasks      | elapsed:    1.3s\n",
      "[Parallel(n_jobs=20)]: Done 780 tasks      | elapsed:    2.9s\n",
      "[Parallel(n_jobs=20)]: Done 850 out of 889 | elapsed:    3.0s remaining:    0.1s\n",
      "[Parallel(n_jobs=20)]: Done 889 out of 889 | elapsed:    3.0s finished\n",
      "[Parallel(n_jobs=20)]: Using backend LokyBackend with 20 concurrent workers.\n"
     ]
    },
    {
     "name": "stdout",
     "output_type": "stream",
     "text": [
      "876\n"
     ]
    },
    {
     "name": "stderr",
     "output_type": "stream",
     "text": [
      "[Parallel(n_jobs=20)]: Done   5 out of   8 | elapsed:    4.0s remaining:    2.4s\n",
      "[Parallel(n_jobs=20)]: Done   8 out of   8 | elapsed:    4.0s finished\n",
      "[Parallel(n_jobs=20)]: Using backend LokyBackend with 20 concurrent workers.\n",
      "[Parallel(n_jobs=20)]: Done  10 tasks      | elapsed:    0.3s\n",
      "[Parallel(n_jobs=20)]: Done 440 tasks      | elapsed:    1.5s\n",
      "[Parallel(n_jobs=20)]: Done 1440 tasks      | elapsed:    3.5s\n",
      "[Parallel(n_jobs=20)]: Done 1706 out of 1706 | elapsed:    3.9s finished\n",
      "[Parallel(n_jobs=20)]: Using backend LokyBackend with 20 concurrent workers.\n"
     ]
    },
    {
     "name": "stdout",
     "output_type": "stream",
     "text": [
      "1702\n"
     ]
    },
    {
     "name": "stderr",
     "output_type": "stream",
     "text": [
      "[Parallel(n_jobs=20)]: Done   8 out of  11 | elapsed:    3.0s remaining:    1.1s\n",
      "[Parallel(n_jobs=20)]: Done  11 out of  11 | elapsed:    3.0s finished\n",
      "[Parallel(n_jobs=20)]: Using backend LokyBackend with 20 concurrent workers.\n",
      "[Parallel(n_jobs=20)]: Done  10 tasks      | elapsed:    0.2s\n",
      "[Parallel(n_jobs=20)]: Done 440 tasks      | elapsed:    1.5s\n",
      "[Parallel(n_jobs=20)]: Done 1324 out of 1324 | elapsed:    3.0s finished\n",
      "[Parallel(n_jobs=20)]: Using backend LokyBackend with 20 concurrent workers.\n"
     ]
    },
    {
     "name": "stdout",
     "output_type": "stream",
     "text": [
      "1323\n"
     ]
    },
    {
     "name": "stderr",
     "output_type": "stream",
     "text": [
      "[Parallel(n_jobs=20)]: Done   4 out of  21 | elapsed:   11.5s remaining:   49.1s\n",
      "[Parallel(n_jobs=20)]: Done  21 out of  21 | elapsed:   11.6s finished\n",
      "[Parallel(n_jobs=20)]: Using backend LokyBackend with 20 concurrent workers.\n",
      "[Parallel(n_jobs=20)]: Done  14 tasks      | elapsed:    0.4s\n",
      "[Parallel(n_jobs=20)]: Done 288 tasks      | elapsed:    1.5s\n",
      "[Parallel(n_jobs=20)]: Done 1096 tasks      | elapsed:    3.8s\n",
      "[Parallel(n_jobs=20)]: Done 1824 out of 1824 | elapsed:    5.2s finished\n",
      "[Parallel(n_jobs=20)]: Using backend LokyBackend with 20 concurrent workers.\n"
     ]
    },
    {
     "name": "stdout",
     "output_type": "stream",
     "text": [
      "1820\n"
     ]
    },
    {
     "name": "stderr",
     "output_type": "stream",
     "text": [
      "[Parallel(n_jobs=20)]: Done   5 out of   8 | elapsed:    1.3s remaining:    0.8s\n",
      "[Parallel(n_jobs=20)]: Done   8 out of   8 | elapsed:    1.3s finished\n",
      "[Parallel(n_jobs=20)]: Using backend LokyBackend with 20 concurrent workers.\n",
      "[Parallel(n_jobs=20)]: Done  10 tasks      | elapsed:    0.3s\n",
      "[Parallel(n_jobs=20)]: Done 440 tasks      | elapsed:    1.4s\n",
      "[Parallel(n_jobs=20)]: Done 545 out of 545 | elapsed:    1.4s finished\n",
      "[Parallel(n_jobs=20)]: Using backend LokyBackend with 20 concurrent workers.\n"
     ]
    },
    {
     "name": "stdout",
     "output_type": "stream",
     "text": [
      "542\n"
     ]
    },
    {
     "name": "stderr",
     "output_type": "stream",
     "text": [
      "[Parallel(n_jobs=20)]: Done   2 out of   5 | elapsed:    0.7s remaining:    1.0s\n",
      "[Parallel(n_jobs=20)]: Done   5 out of   5 | elapsed:    0.7s finished\n",
      "[Parallel(n_jobs=20)]: Using backend LokyBackend with 20 concurrent workers.\n",
      "[Parallel(n_jobs=20)]: Done  10 tasks      | elapsed:    0.2s\n",
      "[Parallel(n_jobs=20)]: Done 288 out of 288 | elapsed:    1.0s finished\n",
      "[Parallel(n_jobs=20)]: Using backend LokyBackend with 20 concurrent workers.\n"
     ]
    },
    {
     "name": "stdout",
     "output_type": "stream",
     "text": [
      "286\n"
     ]
    },
    {
     "name": "stderr",
     "output_type": "stream",
     "text": [
      "[Parallel(n_jobs=20)]: Done  11 out of  16 | elapsed:    8.9s remaining:    4.0s\n",
      "[Parallel(n_jobs=20)]: Done  16 out of  16 | elapsed:    8.9s finished\n",
      "[Parallel(n_jobs=20)]: Using backend LokyBackend with 20 concurrent workers.\n",
      "[Parallel(n_jobs=20)]: Done  10 tasks      | elapsed:    0.5s\n",
      "[Parallel(n_jobs=20)]: Done 280 tasks      | elapsed:    2.0s\n",
      "[Parallel(n_jobs=20)]: Done 780 tasks      | elapsed:    4.6s\n",
      "[Parallel(n_jobs=20)]: Done 1480 tasks      | elapsed:    8.2s\n",
      "[Parallel(n_jobs=20)]: Done 1830 out of 1869 | elapsed:    9.8s remaining:    0.2s\n",
      "[Parallel(n_jobs=20)]: Done 1869 out of 1869 | elapsed:    9.9s finished\n",
      "[Parallel(n_jobs=20)]: Using backend LokyBackend with 20 concurrent workers.\n"
     ]
    },
    {
     "name": "stdout",
     "output_type": "stream",
     "text": [
      "1864\n"
     ]
    },
    {
     "name": "stderr",
     "output_type": "stream",
     "text": [
      "[Parallel(n_jobs=20)]: Done  44 out of  44 | elapsed:   12.8s finished\n",
      "[Parallel(n_jobs=20)]: Using backend LokyBackend with 20 concurrent workers.\n",
      "[Parallel(n_jobs=20)]: Done  10 tasks      | elapsed:    0.4s\n",
      "[Parallel(n_jobs=20)]: Done 280 tasks      | elapsed:    1.3s\n",
      "[Parallel(n_jobs=20)]: Done 1240 tasks      | elapsed:    4.2s\n",
      "[Parallel(n_jobs=20)]: Done 1848 out of 1848 | elapsed:    5.6s finished\n"
     ]
    },
    {
     "name": "stdout",
     "output_type": "stream",
     "text": [
      "1841\n"
     ]
    },
    {
     "name": "stderr",
     "output_type": "stream",
     "text": [
      "[Parallel(n_jobs=20)]: Using backend LokyBackend with 20 concurrent workers.\n",
      "[Parallel(n_jobs=20)]: Done   4 out of  10 | elapsed:    2.2s remaining:    3.3s\n",
      "[Parallel(n_jobs=20)]: Done  10 out of  10 | elapsed:    2.2s finished\n",
      "[Parallel(n_jobs=20)]: Using backend LokyBackend with 20 concurrent workers.\n",
      "[Parallel(n_jobs=20)]: Done  10 tasks      | elapsed:    0.3s\n",
      "[Parallel(n_jobs=20)]: Done 280 tasks      | elapsed:    1.6s\n",
      "[Parallel(n_jobs=20)]: Done 776 out of 776 | elapsed:    3.3s finished\n",
      "[Parallel(n_jobs=20)]: Using backend LokyBackend with 20 concurrent workers.\n"
     ]
    },
    {
     "name": "stdout",
     "output_type": "stream",
     "text": [
      "768\n"
     ]
    },
    {
     "name": "stderr",
     "output_type": "stream",
     "text": [
      "[Parallel(n_jobs=20)]: Done  39 out of  39 | elapsed:    4.6s finished\n",
      "[Parallel(n_jobs=20)]: Using backend LokyBackend with 20 concurrent workers.\n",
      "[Parallel(n_jobs=20)]: Done  10 tasks      | elapsed:    0.3s\n",
      "[Parallel(n_jobs=20)]: Done 280 tasks      | elapsed:    1.5s\n",
      "[Parallel(n_jobs=20)]: Done 780 tasks      | elapsed:    3.5s\n",
      "[Parallel(n_jobs=20)]: Done 1480 tasks      | elapsed:    6.1s\n",
      "[Parallel(n_jobs=20)]: Done 1592 out of 1631 | elapsed:    6.4s remaining:    0.2s\n",
      "[Parallel(n_jobs=20)]: Done 1631 out of 1631 | elapsed:    6.4s finished\n",
      "[Parallel(n_jobs=20)]: Using backend LokyBackend with 20 concurrent workers.\n"
     ]
    },
    {
     "name": "stdout",
     "output_type": "stream",
     "text": [
      "1627\n"
     ]
    },
    {
     "name": "stderr",
     "output_type": "stream",
     "text": [
      "[Parallel(n_jobs=20)]: Done  22 out of  30 | elapsed:    3.0s remaining:    1.1s\n",
      "[Parallel(n_jobs=20)]: Done  30 out of  30 | elapsed:    3.0s finished\n",
      "[Parallel(n_jobs=20)]: Using backend LokyBackend with 20 concurrent workers.\n",
      "[Parallel(n_jobs=20)]: Done  10 tasks      | elapsed:    0.3s\n",
      "[Parallel(n_jobs=20)]: Done 280 tasks      | elapsed:    1.4s\n",
      "[Parallel(n_jobs=20)]: Done 780 tasks      | elapsed:    3.2s\n",
      "[Parallel(n_jobs=20)]: Done 1106 out of 1106 | elapsed:    4.1s finished\n",
      "[Parallel(n_jobs=20)]: Using backend LokyBackend with 20 concurrent workers.\n"
     ]
    },
    {
     "name": "stdout",
     "output_type": "stream",
     "text": [
      "1098\n"
     ]
    },
    {
     "name": "stderr",
     "output_type": "stream",
     "text": [
      "[Parallel(n_jobs=20)]: Done  12 out of  12 | elapsed:    2.0s remaining:    0.0s\n",
      "[Parallel(n_jobs=20)]: Done  12 out of  12 | elapsed:    2.0s finished\n",
      "[Parallel(n_jobs=20)]: Using backend LokyBackend with 20 concurrent workers.\n",
      "[Parallel(n_jobs=20)]: Done  10 tasks      | elapsed:    0.3s\n",
      "[Parallel(n_jobs=20)]: Done 280 tasks      | elapsed:    1.3s\n",
      "[Parallel(n_jobs=20)]: Done 808 out of 808 | elapsed:    2.8s finished\n",
      "[Parallel(n_jobs=20)]: Using backend LokyBackend with 20 concurrent workers.\n"
     ]
    },
    {
     "name": "stdout",
     "output_type": "stream",
     "text": [
      "804\n"
     ]
    },
    {
     "name": "stderr",
     "output_type": "stream",
     "text": [
      "[Parallel(n_jobs=20)]: Done   5 out of   8 | elapsed:    1.6s remaining:    1.0s\n",
      "[Parallel(n_jobs=20)]: Done   8 out of   8 | elapsed:    1.6s finished\n",
      "[Parallel(n_jobs=20)]: Using backend LokyBackend with 20 concurrent workers.\n",
      "[Parallel(n_jobs=20)]: Done  10 tasks      | elapsed:    0.3s\n",
      "[Parallel(n_jobs=20)]: Done 280 tasks      | elapsed:    1.2s\n",
      "[Parallel(n_jobs=20)]: Done 610 out of 649 | elapsed:    2.1s remaining:    0.1s\n",
      "[Parallel(n_jobs=20)]: Done 649 out of 649 | elapsed:    2.2s finished\n",
      "[Parallel(n_jobs=20)]: Using backend LokyBackend with 20 concurrent workers.\n"
     ]
    },
    {
     "name": "stdout",
     "output_type": "stream",
     "text": [
      "641\n"
     ]
    },
    {
     "name": "stderr",
     "output_type": "stream",
     "text": [
      "[Parallel(n_jobs=20)]: Done   8 out of  11 | elapsed:    5.8s remaining:    2.2s\n",
      "[Parallel(n_jobs=20)]: Done  11 out of  11 | elapsed:    5.8s finished\n",
      "[Parallel(n_jobs=20)]: Using backend LokyBackend with 20 concurrent workers.\n",
      "[Parallel(n_jobs=20)]: Done  13 tasks      | elapsed:    0.4s\n",
      "[Parallel(n_jobs=20)]: Done 286 tasks      | elapsed:    1.5s\n",
      "[Parallel(n_jobs=20)]: Done 786 tasks      | elapsed:    3.3s\n"
     ]
    }
   ],
   "source": [
    "X2,y2,groups2,X_date2,days2 = get_data(all_stress_left)\n",
    "X3,y3,groups3,X_date3,days3 = get_data(all_stress_right)\n",
    "Xf,yf,groupsf,X_datef,daysf = X2+X3,y2+y3,groups2+groups3,X_date2+X_date3,days2+days3"
   ]
  },
  {
   "cell_type": "code",
   "execution_count": 6,
   "metadata": {},
   "outputs": [],
   "source": [
    "pickle.dump([Xf,yf,groupsf,X_datef,daysf],open('../data/semi_supervised_no_imputation.p','wb'))"
   ]
  },
  {
   "cell_type": "code",
   "execution_count": 7,
   "metadata": {},
   "outputs": [
    {
     "name": "stdout",
     "output_type": "stream",
     "text": [
      "(3180, 15)\n"
     ]
    }
   ],
   "source": [
    "from sklearn import linear_model\n",
    "Xf,yf,groupsf,X_datef,daysf = pickle.load(open('../data/semi_supervised_no_imputation.p','rb'))\n",
    "X,y1,groups1,X_date_final = np.array(Xf),np.array(yf),np.array(groupsf),OneHotEncoder().fit_transform(np.array(X_datef).reshape(-1,1))\n",
    "Xfeatures = np.array([get_features1(x) for x in X])\n",
    "print(Xfeatures.shape)"
   ]
  },
  {
   "cell_type": "code",
   "execution_count": null,
   "metadata": {},
   "outputs": [],
   "source": []
  },
  {
   "cell_type": "code",
   "execution_count": null,
   "metadata": {},
   "outputs": [],
   "source": []
  },
  {
   "cell_type": "code",
   "execution_count": null,
   "metadata": {},
   "outputs": [],
   "source": [
    "print(confusion_matrix(all_y,all_y_pred),classification_report(all_y,all_y_pred))"
   ]
  },
  {
   "cell_type": "code",
   "execution_count": null,
   "metadata": {},
   "outputs": [],
   "source": [
    "getf1(Xfeatures,labels,groups)\n",
    "# y.shape"
   ]
  },
  {
   "cell_type": "code",
   "execution_count": null,
   "metadata": {},
   "outputs": [],
   "source": [
    "from frameworks.CPLELearning"
   ]
  },
  {
   "cell_type": "code",
   "execution_count": null,
   "metadata": {},
   "outputs": [],
   "source": [
    "X[0]"
   ]
  },
  {
   "cell_type": "code",
   "execution_count": null,
   "metadata": {},
   "outputs": [],
   "source": []
  }
 ],
 "metadata": {
  "kernelspec": {
   "display_name": "Python 3",
   "language": "python",
   "name": "python3"
  },
  "language_info": {
   "codemirror_mode": {
    "name": "ipython",
    "version": 3
   },
   "file_extension": ".py",
   "mimetype": "text/x-python",
   "name": "python",
   "nbconvert_exporter": "python",
   "pygments_lexer": "ipython3",
   "version": "3.6.8"
  }
 },
 "nbformat": 4,
 "nbformat_minor": 2
}
